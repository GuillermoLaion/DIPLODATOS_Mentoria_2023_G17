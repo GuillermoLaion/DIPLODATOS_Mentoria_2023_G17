{
 "cells": [
  {
   "cell_type": "markdown",
   "metadata": {
    "id": "ewOxVWQMHGbJ"
   },
   "source": [
    "<center>\n",
    "<h4>Diplomatura Datos 2023 - FaMAF - UNC</h4>\n",
    "<h2>Aplicando Machine Learning para predicción de demanda</h2>\n",
    "<h2><span style=\"color: Red;\">Exploración y curación de datos</span></h2>\n",
    "</center>\n",
    "</left>\n",
    "<h4>Tutor: Sebastián Ormaechea</h4>\n",
    "</left>"
   ]
  },
  {
   "cell_type": "markdown",
   "metadata": {
    "id": "DRiOknPVHGbb"
   },
   "source": [
    "# Objetivo general\n",
    "\n",
    "El objetivo final de la mentoría es poder predecir el próximo mes de venta de materiales en los diferentes países y zonas en donde opera la compañía proveedora. Sin embargo, los prácticos que se realizarán en esta mentoría son aplicables a compañías de cualquier vertical de negocio que quiera predecir la demanda.\n",
    "\n",
    "# <span style=\"color: Red;\">Exploración y Curación de datos. Objetivos de este notebook</span>\n",
    "<span style=\"color: Red;\">En la presente notebook, se presenta el segundo práctico correspondiente a la materia Exploración y Curación. Las consignas permitirán implementar los pasos necesarios para explorar en mayor profundidad la información, proceder a la limpieza del dataset y generar un dataset resultante que servirá de input para el práctico de ML.</span>\n",
    "\n",
    "# Requisitos de aprobación\n",
    "\n",
    "- Trabajo grupal: El trabajo debe ser realizado entre los integrantes del grupo asignado y solo se entrega una versión por grupo.\n",
    "- Git: Deben armar un repositorio git donde vayan cargando cada uno de los prácticos (notebooks) de la mentoría.\n",
    "- Informe: Este debe quedar integrado en el mismo notebook por lo que recomiendo sigan un esquema que contenga las siguientes secciones. La idea es que queden plasmados los hallazgos significativos encontrados, lo cual sirve además de base para los videos intermedio y final de la mentoria.\n",
    "              - Introducción\n",
    "              - Presentación del Dataset\n",
    "              - Variables más relevantes o de interés\n",
    "              - Respuestas a preguntas disparadoras\n",
    "              - Relaciones interesantes entre variables\n",
    "              - Principales conclusiones          \n",
    "- Prolijidad y Claridad: Es muy importante no solo resolver las consignas técnicamente sino tambien tener la claridad en la comunicación de los hallazgos, exponer las conclusiones y tener poder de síntesis. Por ello, la presentación debe ser acompañada de los gráficos adecuados y las referencias correspondientes. Los graficos deben hablar por si mismos.\n",
    "- Extensión: No hay límite de longitud en los notebooks, pero es importante que eviten salidas o outputs excesivamente extensos de cada celda del notebook, salvo que estén debidamente justificados.  \n",
    "\n",
    "<span style=\"color: Blue;\">Fecha de Entrega del presente práctico: 17/7/2023</span>"
   ]
  },
  {
   "cell_type": "markdown",
   "metadata": {
    "id": "EJv_2kXyHGbg"
   },
   "source": [
    "**ALGO DE TEORÍA**\n",
    "\n",
    "El proceso de exploración y curación de datos, es una actividad que se realiza previo al desarrollo de modelos en Machine Learning, y es una etapa crucial para comprender y preparar los datos antes de su análisis. Aquí se describe el proceso general, aunque una parte importante ya se ha abordado en el práctico anterior:\n",
    "\n",
    "1. **Comprensión del problema**: Comprender a fondo el problema de negocio y los objetivos del proyecto es el primer paso. Esto implica definir claramente qué se desea lograr con el análisis de datos y cómo los modelos de Machine Learning pueden ayudar a abordar el problema.\n",
    "\n",
    "2. **Adquisición de datos**: Obtener los datos necesarios para el análisis. Esto puede implicar la recopilación de datos de diversas fuentes, como bases de datos, archivos CSV, APIs, entre otros. Es importante asegurarse de que los datos sean representativos del problema que se está abordando.\n",
    "\n",
    "3. **Exploración inicial de datos**: Realizar una exploración inicial de los datos para comprender su estructura, dimensiones y características. Esto incluye revisar las primeras filas del conjunto de datos, verificar los tipos de datos de cada columna, identificar posibles valores atípicos o faltantes, y obtener estadísticas descriptivas básicas.\n",
    "\n",
    "4. **Limpieza de datos**: Limpiar los datos eliminando o corrigiendo errores, eliminando duplicados y lidiando con valores atípicos y faltantes. Esto puede incluir rellenar los valores faltantes, eliminar registros incompletos o imputar valores basados en técnicas estadísticas.\n",
    "\n",
    "5. **Transformación de datos**: Realizar transformaciones en los datos para que sean adecuados para el análisis y el modelado de Machine Learning. Esto puede incluir la normalización de variables numéricas, la codificación de variables categóricas, la creación de nuevas características derivadas y la reducción de dimensionalidad si es necesario.\n",
    "\n",
    "6. **Análisis exploratorio de datos**: Realizar un nuevo análisis de los datos ya sea porque la curación ha modificado sensiblemente la información original o porque se presenta como necesario una análisis más profundo. Esto puede incluir visualizaciones, análisis de correlación, análisis de distribuciones y cualquier otro método que ayude a comprender los datos y las relaciones entre las variables.\n",
    "\n",
    "7. **Preprocesamiento adicional**: Realizar cualquier preprocesamiento adicional necesario, como el manejo de desequilibrios de clases, normalización específica para ciertos algoritmos o técnicas de reducción de ruido.\n",
    "\n",
    "8. **Documentación y registro**: Documentar todas las acciones realizadas durante el proceso de exploración y curación de datos, incluyendo cualquier transformación, eliminación o manipulación de datos. Esto es importante para garantizar la reproducibilidad y trazabilidad de los resultados.\n",
    "\n",
    "Al realizar una exploración y curación de datos exhaustiva, se asegura que los datos estén limpios, comprensibles y adecuados para el desarrollo de modelos de Machine Learning. Esto establece una base sólida para obtener resultados precisos y confiables al aplicar técnicas de aprendizaje automático."
   ]
  },
  {
   "cell_type": "markdown",
   "metadata": {
    "id": "FDaoPWwsHGbj"
   },
   "source": [
    "**MANOS A LA OBRA**\n",
    "\n",
    "Para poner en práctica algunas habilidades especiales de la curación de datos, he dividido el dataset anterior en 3 partes (archivos pred_dem_1.csv, pred_dem_2.csv y pred_dem_3.csv) a fin de que sea necesario volver a unirlos para que obtengamos el mismo dataset con el que vienen trabajando. Con \"el mismo\" dataset me refiero a que tenga la misma cantidad de filas y columnas.\n",
    "Por otra parte, he eliminado algunos datos de 2 columnas a fin de que implementen las soluciones pertinentes de curación.\n",
    "\n",
    "Consignas:\n",
    "\n",
    "1- Descargen los 3 datasets y analicen su estructura a fin de evaluar la forma en que pueden volver a obtener el dataset que trabajamos en el TP anterior. Al terminar, y como parte de las buenas prácticas en ciencia de datos, realicen una copia del dataset utilizando la función .copy(). Esto nos garantiza la integridad de los datos originales, a fin de poder consultarlos y cotejarlos contra el dataset que vamos curando.\n",
    "\n",
    "2- Revisar si el dataset presenta datos duplicados. Esto refiere a que un registro sea exactamente igual en todos los campos/columnas.\n",
    "\n",
    "3- Verificar si existen datos faltantes\n",
    "\n",
    "4- La presencia de datos faltantes la podemos resolver de 3 maneras: Eliminando todo el registro donde aparece el dato faltante, eliminando toda la columna donde se encuentra el dato faltante, o imputanto el dato faltante. Definir la acción más adecuada,  justificarla e implementarla.\n",
    "\n",
    "5- Existe un método de imputación de datos, específico para series temporales, que se denomina Forward fill. ¿Creen que sería adecuado su uso en este dataset?.    \n",
    "\n",
    "6- Quitar Variables/Columnas Irrelevantes. En base a la exploración del TP anterior y particularidades que se hayan encontrado en este nuevo TP, es momento de seleccionar variables que intuímos puedan tener capacidad predictora para el futuro modelo. El análisis de correlación es una herramienta muy importante en este paso.\n",
    "\n",
    "7- Determinen si hay outliers en cada una de las variables seleccionadas, evalúen cómo manejar los outliers (si dejarlos o eliminarlos) e implementen la solución.\n",
    "\n",
    "8- Creación de nuevas variables. Esta etapa consiste en crear o transformar variables a fin de poder alimentar el algoritmo de aprendizaje automático. Recordemos que el algoritmo solo puede procesar números, por lo que las variables que posean categorías deben se codificadas o eliminadas.\n",
    "\n",
    "9- ¿En qué casos es necesario estandarizar las variables? Seleccionen algún método y aborden su implementación\n",
    "\n",
    "10- Implementen una reducción de dimensionalidad mediante PCA e interpreten los resultados preliminares. En el último práctico concluiremos sobre su utilidad"
   ]
  },
  {
   "cell_type": "code",
   "execution_count": 1,
   "metadata": {
    "id": "1hVc2BzHHGbm"
   },
   "outputs": [],
   "source": [
    "# Importación de librerías\n",
    "import pandas as pd\n",
    "import numpy as np\n",
    "import missingno as msno\n",
    "import matplotlib.pyplot as plt\n",
    "import seaborn as sns\n",
    "\n",
    "from scipy.stats import chi2_contingency\n",
    "from sklearn.preprocessing import StandardScaler\n",
    "from sklearn.decomposition import PCA\n",
    "\n",
    "import warnings\n",
    "warnings.simplefilter(action='ignore', category=FutureWarning)"
   ]
  },
  {
   "cell_type": "code",
   "execution_count": 2,
   "metadata": {
    "id": "MBR0V4q8HGbr"
   },
   "outputs": [],
   "source": [
    "# Lectura de datos\n",
    "pred_dem_1 = pd.read_csv('pred_dem_1.csv')\n",
    "pred_dem_2 = pd.read_csv('pred_dem_2.csv')\n",
    "pred_dem_3 = pd.read_csv('pred_dem_3.csv')"
   ]
  },
  {
   "cell_type": "markdown",
   "metadata": {
    "id": "4w0x_gMjHGbu"
   },
   "source": [
    "### 1- Descargen los 3 datasets y analicen su estructura a fin de evaluar la forma en que pueden volver a obtener el dataset que trabajamos en el TP anterior. Al terminar, y como parte de las buenas prácticas en ciencia de datos, realicen una copia del dataset utilizando la función .copy(). Esto nos garantiza la integridad de los datos originales, a fin de poder consultarlos y cotejarlos contra el dataset que vamos curando."
   ]
  },
  {
   "cell_type": "markdown",
   "metadata": {
    "id": "GzcNKbEITzu0"
   },
   "source": [
    "***Primero vamos la cantidad de filas y columnas que tiene cada dataset.***"
   ]
  },
  {
   "cell_type": "code",
   "execution_count": 3,
   "metadata": {
    "colab": {
     "base_uri": "https://localhost:8080/"
    },
    "id": "RAMZ4lLiTy5O",
    "outputId": "71081eaa-ff55-4bc2-decb-1274308e0532"
   },
   "outputs": [
    {
     "name": "stdout",
     "output_type": "stream",
     "text": [
      "pred_dem_1 tiene 106789 filas y 13 columnas\n",
      "pred_dem_2 tiene 106789 filas y 11 columnas\n",
      "pred_dem_3 tiene 1001 filas y 21 columnas\n"
     ]
    }
   ],
   "source": [
    "print(f'pred_dem_1 tiene {len(pred_dem_1)} filas y {len(pred_dem_1.columns)} columnas')\n",
    "print(f'pred_dem_2 tiene {len(pred_dem_2)} filas y {len(pred_dem_2.columns)} columnas')\n",
    "print(f'pred_dem_3 tiene {len(pred_dem_3)} filas y {len(pred_dem_3.columns)} columnas')"
   ]
  },
  {
   "cell_type": "code",
   "execution_count": 4,
   "metadata": {
    "colab": {
     "base_uri": "https://localhost:8080/"
    },
    "id": "RkN3zRfnHGbz",
    "outputId": "84d980fc-87ef-4e56-8869-15a51d7127ab"
   },
   "outputs": [
    {
     "data": {
      "text/plain": [
       "Index(['Unnamed: 0.1', 'Unnamed: 0', 'Periodo', 'Fecha', 'FechaPedido',\n",
       "       'NroDocPedido', 'PosPedido', 'CodMaterial', 'Cantidad', 'CodGrupoArt',\n",
       "       'GrupoArticulos', 'codGrupoMaterial2', 'codGrupoMaterial4'],\n",
       "      dtype='object')"
      ]
     },
     "execution_count": 4,
     "metadata": {},
     "output_type": "execute_result"
    }
   ],
   "source": [
    "pred_dem_1.columns"
   ]
  },
  {
   "cell_type": "code",
   "execution_count": 5,
   "metadata": {
    "colab": {
     "base_uri": "https://localhost:8080/"
    },
    "id": "2t6w4T2RHGb-",
    "outputId": "a9a97bbb-6337-42ab-b3fa-1ef800196e86"
   },
   "outputs": [
    {
     "data": {
      "text/plain": [
       "Index(['Unnamed: 0.1', 'codGrupoMaterial5', 'Tipo_Precio', 'Departamento',\n",
       "       'Localidad', 'Provincia', 'Pais', 'CodCliente_of', 'CodSucCliente_of',\n",
       "       'NroDocPedido', 'Unnamed: 0'],\n",
       "      dtype='object')"
      ]
     },
     "execution_count": 5,
     "metadata": {},
     "output_type": "execute_result"
    }
   ],
   "source": [
    "pred_dem_2.columns"
   ]
  },
  {
   "cell_type": "code",
   "execution_count": 6,
   "metadata": {
    "colab": {
     "base_uri": "https://localhost:8080/"
    },
    "id": "UHRiXBiSUY7X",
    "outputId": "90a7cb2c-c6d6-4e24-c1a3-6ba255042fdf"
   },
   "outputs": [
    {
     "data": {
      "text/plain": [
       "Index(['Unnamed: 0.1', 'Unnamed: 0', 'Periodo', 'Fecha', 'FechaPedido',\n",
       "       'NroDocPedido', 'PosPedido', 'CodMaterial', 'Cantidad', 'CodGrupoArt',\n",
       "       'GrupoArticulos', 'codGrupoMaterial2', 'codGrupoMaterial4',\n",
       "       'codGrupoMaterial5', 'Tipo_Precio', 'Departamento', 'Localidad',\n",
       "       'Provincia', 'Pais', 'CodCliente_of', 'CodSucCliente_of'],\n",
       "      dtype='object')"
      ]
     },
     "execution_count": 6,
     "metadata": {},
     "output_type": "execute_result"
    }
   ],
   "source": [
    "pred_dem_3.columns"
   ]
  },
  {
   "cell_type": "markdown",
   "metadata": {
    "id": "MU1aNbg7HGcF"
   },
   "source": [
    "***Vemos que los dataframes pred_dem_1 y pred_dem_2 tienen la misma cantidad de filas, y distintas columnas. Usaremos estos dos para realizar un merge. Luego analizamos el pred_dem_3 para ver como esta compuesto y terminar de unir los datos.***\n",
    "\n",
    "***Antes, guardamos copias de los dataset pra poder trabajar con ellos, sin modificar los dataset originales.***\n"
   ]
  },
  {
   "cell_type": "code",
   "execution_count": 7,
   "metadata": {
    "id": "ibKJKRicU608"
   },
   "outputs": [],
   "source": [
    "df_1 = pred_dem_1.copy()\n",
    "df_2 = pred_dem_2.copy()\n",
    "df_3 = pred_dem_3.copy()"
   ]
  },
  {
   "cell_type": "markdown",
   "metadata": {
    "id": "0Tmyw35cVbE1"
   },
   "source": [
    "\n",
    "***Podemos comenzar viendo si es que hay columnas en común.***"
   ]
  },
  {
   "cell_type": "code",
   "execution_count": 8,
   "metadata": {
    "colab": {
     "base_uri": "https://localhost:8080/"
    },
    "id": "JZ42jFx4VPI_",
    "outputId": "d32f5365-9432-47e6-ace0-6ee23a0042e7"
   },
   "outputs": [
    {
     "name": "stdout",
     "output_type": "stream",
     "text": [
      "Las columnas en comun en ambos dataframe son ['NroDocPedido', 'Unnamed: 0.1', 'Unnamed: 0']\n"
     ]
    }
   ],
   "source": [
    "df_1_columns = set(df_1.columns)\n",
    "df_2_columns = set(df_2.columns)\n",
    "colum_comun = list(df_1_columns.intersection(df_2.columns))\n",
    "print(f'Las columnas en comun en ambos dataframe son {colum_comun}')"
   ]
  },
  {
   "cell_type": "code",
   "execution_count": 9,
   "metadata": {
    "colab": {
     "base_uri": "https://localhost:8080/"
    },
    "id": "2WMzqat2V0oB",
    "outputId": "748498cf-3f52-4481-ade7-ecadd830061a"
   },
   "outputs": [
    {
     "name": "stdout",
     "output_type": "stream",
     "text": [
      "En la columna NroDocPedido, df_1 tiene 38847 valores unicos \n",
      " y df_2 tiene 38847 valores unicos\n",
      "\n",
      "En la columna Unnamed: 0.1, df_1 tiene 106789 valores unicos \n",
      " y df_2 tiene 106789 valores unicos\n",
      "\n",
      "En la columna Unnamed: 0, df_1 tiene 106789 valores unicos \n",
      " y df_2 tiene 106789 valores unicos\n",
      "\n"
     ]
    }
   ],
   "source": [
    "for col in colum_comun:\n",
    "    print(f'En la columna {col}, df_1 tiene {df_1[col].nunique()} valores unicos \\n y df_2 tiene {df_2[col].nunique()} valores unicos\\n')"
   ]
  },
  {
   "cell_type": "markdown",
   "metadata": {
    "id": "Nxz6e_pEWCbk"
   },
   "source": [
    "***Se puede ver que las columnas \"Unnamed: 0\" y \"Unnamed: 0.1\" tienen la misma cantidad de observaciones, que coinciden ademas con la longitud del dataset original.***\n",
    "\n",
    "***Supongamos que queremos usar la columna NroDocPedido como columna de pivot para hacer el merge. Esta no sería una buena eleccion, debido a que un mismo valor esta columna puede tener varios valores en las demas columnas.***"
   ]
  },
  {
   "cell_type": "markdown",
   "metadata": {
    "id": "2Mk84EDLHGcL"
   },
   "source": [
    "***Tomamos una fila al azar de los dos dataframes para poder ver como podemos unir los conjuntos de datos:***"
   ]
  },
  {
   "cell_type": "code",
   "execution_count": 10,
   "metadata": {
    "colab": {
     "base_uri": "https://localhost:8080/",
     "height": 225
    },
    "id": "qv0Hy7wZHGcN",
    "outputId": "212381eb-1b51-42c2-d741-6b55ee843a03"
   },
   "outputs": [
    {
     "data": {
      "text/html": [
       "<div>\n",
       "<style scoped>\n",
       "    .dataframe tbody tr th:only-of-type {\n",
       "        vertical-align: middle;\n",
       "    }\n",
       "\n",
       "    .dataframe tbody tr th {\n",
       "        vertical-align: top;\n",
       "    }\n",
       "\n",
       "    .dataframe thead th {\n",
       "        text-align: right;\n",
       "    }\n",
       "</style>\n",
       "<table border=\"1\" class=\"dataframe\">\n",
       "  <thead>\n",
       "    <tr style=\"text-align: right;\">\n",
       "      <th></th>\n",
       "      <th>Unnamed: 0.1</th>\n",
       "      <th>Unnamed: 0</th>\n",
       "      <th>Periodo</th>\n",
       "      <th>Fecha</th>\n",
       "      <th>FechaPedido</th>\n",
       "      <th>NroDocPedido</th>\n",
       "      <th>PosPedido</th>\n",
       "      <th>CodMaterial</th>\n",
       "      <th>Cantidad</th>\n",
       "      <th>CodGrupoArt</th>\n",
       "      <th>GrupoArticulos</th>\n",
       "      <th>codGrupoMaterial2</th>\n",
       "      <th>codGrupoMaterial4</th>\n",
       "    </tr>\n",
       "  </thead>\n",
       "  <tbody>\n",
       "    <tr>\n",
       "      <th>3</th>\n",
       "      <td>3</td>\n",
       "      <td>1382</td>\n",
       "      <td>201811.0</td>\n",
       "      <td>2018-11-01</td>\n",
       "      <td>2018-11-16</td>\n",
       "      <td>281670.0</td>\n",
       "      <td>790.0</td>\n",
       "      <td>8051</td>\n",
       "      <td>24</td>\n",
       "      <td>11.0</td>\n",
       "      <td>Espesantes</td>\n",
       "      <td>15.0</td>\n",
       "      <td>139.0</td>\n",
       "    </tr>\n",
       "    <tr>\n",
       "      <th>4</th>\n",
       "      <td>4</td>\n",
       "      <td>1383</td>\n",
       "      <td>201901.0</td>\n",
       "      <td>2019-01-01</td>\n",
       "      <td>2019-01-21</td>\n",
       "      <td>281670.0</td>\n",
       "      <td>790.0</td>\n",
       "      <td>8051</td>\n",
       "      <td>-24</td>\n",
       "      <td>11.0</td>\n",
       "      <td>Espesantes</td>\n",
       "      <td>15.0</td>\n",
       "      <td>139.0</td>\n",
       "    </tr>\n",
       "    <tr>\n",
       "      <th>56</th>\n",
       "      <td>56</td>\n",
       "      <td>3514</td>\n",
       "      <td>201811.0</td>\n",
       "      <td>2018-11-01</td>\n",
       "      <td>2018-11-16</td>\n",
       "      <td>281670.0</td>\n",
       "      <td>780.0</td>\n",
       "      <td>7795</td>\n",
       "      <td>24</td>\n",
       "      <td>11.0</td>\n",
       "      <td>NaN</td>\n",
       "      <td>15.0</td>\n",
       "      <td>135.0</td>\n",
       "    </tr>\n",
       "  </tbody>\n",
       "</table>\n",
       "</div>"
      ],
      "text/plain": [
       "    Unnamed: 0.1  Unnamed: 0   Periodo       Fecha FechaPedido  NroDocPedido  \\\n",
       "3              3        1382  201811.0  2018-11-01  2018-11-16      281670.0   \n",
       "4              4        1383  201901.0  2019-01-01  2019-01-21      281670.0   \n",
       "56            56        3514  201811.0  2018-11-01  2018-11-16      281670.0   \n",
       "\n",
       "    PosPedido  CodMaterial  Cantidad  CodGrupoArt GrupoArticulos  \\\n",
       "3       790.0         8051        24         11.0     Espesantes   \n",
       "4       790.0         8051       -24         11.0     Espesantes   \n",
       "56      780.0         7795        24         11.0            NaN   \n",
       "\n",
       "    codGrupoMaterial2  codGrupoMaterial4  \n",
       "3                15.0              139.0  \n",
       "4                15.0              139.0  \n",
       "56               15.0              135.0  "
      ]
     },
     "execution_count": 10,
     "metadata": {},
     "output_type": "execute_result"
    }
   ],
   "source": [
    "df_1[df_1['NroDocPedido'] == 281670.0]"
   ]
  },
  {
   "cell_type": "code",
   "execution_count": 11,
   "metadata": {
    "colab": {
     "base_uri": "https://localhost:8080/",
     "height": 277
    },
    "id": "g_jVmHK0HGcP",
    "outputId": "2a0d40d2-7d38-44ab-f341-f43744d7e7d7"
   },
   "outputs": [
    {
     "data": {
      "text/html": [
       "<div>\n",
       "<style scoped>\n",
       "    .dataframe tbody tr th:only-of-type {\n",
       "        vertical-align: middle;\n",
       "    }\n",
       "\n",
       "    .dataframe tbody tr th {\n",
       "        vertical-align: top;\n",
       "    }\n",
       "\n",
       "    .dataframe thead th {\n",
       "        text-align: right;\n",
       "    }\n",
       "</style>\n",
       "<table border=\"1\" class=\"dataframe\">\n",
       "  <thead>\n",
       "    <tr style=\"text-align: right;\">\n",
       "      <th></th>\n",
       "      <th>Unnamed: 0.1</th>\n",
       "      <th>codGrupoMaterial5</th>\n",
       "      <th>Tipo_Precio</th>\n",
       "      <th>Departamento</th>\n",
       "      <th>Localidad</th>\n",
       "      <th>Provincia</th>\n",
       "      <th>Pais</th>\n",
       "      <th>CodCliente_of</th>\n",
       "      <th>CodSucCliente_of</th>\n",
       "      <th>NroDocPedido</th>\n",
       "      <th>Unnamed: 0</th>\n",
       "    </tr>\n",
       "  </thead>\n",
       "  <tbody>\n",
       "    <tr>\n",
       "      <th>3</th>\n",
       "      <td>3</td>\n",
       "      <td>291.0</td>\n",
       "      <td>1.0</td>\n",
       "      <td>TERCERO ARRIBA</td>\n",
       "      <td>OLIVA</td>\n",
       "      <td>Córdoba</td>\n",
       "      <td>AR</td>\n",
       "      <td>2</td>\n",
       "      <td>2</td>\n",
       "      <td>281670.0</td>\n",
       "      <td>1382</td>\n",
       "    </tr>\n",
       "    <tr>\n",
       "      <th>4</th>\n",
       "      <td>4</td>\n",
       "      <td>291.0</td>\n",
       "      <td>1.0</td>\n",
       "      <td>TERCERO ARRIBA</td>\n",
       "      <td>OLIVA</td>\n",
       "      <td>Córdoba</td>\n",
       "      <td>AR</td>\n",
       "      <td>2</td>\n",
       "      <td>2</td>\n",
       "      <td>281670.0</td>\n",
       "      <td>1383</td>\n",
       "    </tr>\n",
       "    <tr>\n",
       "      <th>56</th>\n",
       "      <td>56</td>\n",
       "      <td>286.0</td>\n",
       "      <td>1.0</td>\n",
       "      <td>TERCERO ARRIBA</td>\n",
       "      <td>OLIVA</td>\n",
       "      <td>Córdoba</td>\n",
       "      <td>AR</td>\n",
       "      <td>2</td>\n",
       "      <td>2</td>\n",
       "      <td>281670.0</td>\n",
       "      <td>3514</td>\n",
       "    </tr>\n",
       "  </tbody>\n",
       "</table>\n",
       "</div>"
      ],
      "text/plain": [
       "    Unnamed: 0.1  codGrupoMaterial5  Tipo_Precio    Departamento Localidad  \\\n",
       "3              3              291.0          1.0  TERCERO ARRIBA     OLIVA   \n",
       "4              4              291.0          1.0  TERCERO ARRIBA     OLIVA   \n",
       "56            56              286.0          1.0  TERCERO ARRIBA     OLIVA   \n",
       "\n",
       "   Provincia Pais  CodCliente_of  CodSucCliente_of  NroDocPedido  Unnamed: 0  \n",
       "3    Córdoba   AR              2                 2      281670.0        1382  \n",
       "4    Córdoba   AR              2                 2      281670.0        1383  \n",
       "56   Córdoba   AR              2                 2      281670.0        3514  "
      ]
     },
     "execution_count": 11,
     "metadata": {},
     "output_type": "execute_result"
    }
   ],
   "source": [
    "df_2[df_2['NroDocPedido'] == 281670.0]"
   ]
  },
  {
   "cell_type": "markdown",
   "metadata": {
    "id": "ZEl5esD2WO4P"
   },
   "source": [
    "***Se ve que para poder hacer el merge se necesitaria otra columna, ademas de la columna \"NroDocPedido\", para poder identificar las filas de manera univoca. La mejor opcion es usar las columnas \"Unnamed: 0\" o \"Unnamed: 0.1\", o ambas.***\n",
    "\n",
    "***Podemos ver que la columna Unnamed: 0, esta presente en los dos dataframes. Y puede ser una posible columna para mergearlos. Observemos un ejemplo en particular de esta columna:***"
   ]
  },
  {
   "cell_type": "code",
   "execution_count": 12,
   "metadata": {
    "colab": {
     "base_uri": "https://localhost:8080/",
     "height": 162
    },
    "id": "BVKpqA8XHGcT",
    "outputId": "daf38905-855b-4d6c-fa21-e34d9c3fad72"
   },
   "outputs": [
    {
     "data": {
      "text/html": [
       "<div>\n",
       "<style scoped>\n",
       "    .dataframe tbody tr th:only-of-type {\n",
       "        vertical-align: middle;\n",
       "    }\n",
       "\n",
       "    .dataframe tbody tr th {\n",
       "        vertical-align: top;\n",
       "    }\n",
       "\n",
       "    .dataframe thead th {\n",
       "        text-align: right;\n",
       "    }\n",
       "</style>\n",
       "<table border=\"1\" class=\"dataframe\">\n",
       "  <thead>\n",
       "    <tr style=\"text-align: right;\">\n",
       "      <th></th>\n",
       "      <th>Unnamed: 0.1</th>\n",
       "      <th>Unnamed: 0</th>\n",
       "      <th>Periodo</th>\n",
       "      <th>Fecha</th>\n",
       "      <th>FechaPedido</th>\n",
       "      <th>NroDocPedido</th>\n",
       "      <th>PosPedido</th>\n",
       "      <th>CodMaterial</th>\n",
       "      <th>Cantidad</th>\n",
       "      <th>CodGrupoArt</th>\n",
       "      <th>GrupoArticulos</th>\n",
       "      <th>codGrupoMaterial2</th>\n",
       "      <th>codGrupoMaterial4</th>\n",
       "    </tr>\n",
       "  </thead>\n",
       "  <tbody>\n",
       "    <tr>\n",
       "      <th>3</th>\n",
       "      <td>3</td>\n",
       "      <td>1382</td>\n",
       "      <td>201811.0</td>\n",
       "      <td>2018-11-01</td>\n",
       "      <td>2018-11-16</td>\n",
       "      <td>281670.0</td>\n",
       "      <td>790.0</td>\n",
       "      <td>8051</td>\n",
       "      <td>24</td>\n",
       "      <td>11.0</td>\n",
       "      <td>Espesantes</td>\n",
       "      <td>15.0</td>\n",
       "      <td>139.0</td>\n",
       "    </tr>\n",
       "  </tbody>\n",
       "</table>\n",
       "</div>"
      ],
      "text/plain": [
       "   Unnamed: 0.1  Unnamed: 0   Periodo       Fecha FechaPedido  NroDocPedido  \\\n",
       "3             3        1382  201811.0  2018-11-01  2018-11-16      281670.0   \n",
       "\n",
       "   PosPedido  CodMaterial  Cantidad  CodGrupoArt GrupoArticulos  \\\n",
       "3      790.0         8051        24         11.0     Espesantes   \n",
       "\n",
       "   codGrupoMaterial2  codGrupoMaterial4  \n",
       "3               15.0              139.0  "
      ]
     },
     "execution_count": 12,
     "metadata": {},
     "output_type": "execute_result"
    }
   ],
   "source": [
    "df_1[df_1['Unnamed: 0'] == 1382]"
   ]
  },
  {
   "cell_type": "code",
   "execution_count": 13,
   "metadata": {
    "colab": {
     "base_uri": "https://localhost:8080/",
     "height": 179
    },
    "id": "-CcsV8NUHGcV",
    "outputId": "342c659e-3197-4e7a-bbf8-e0db9f0787ee"
   },
   "outputs": [
    {
     "data": {
      "text/html": [
       "<div>\n",
       "<style scoped>\n",
       "    .dataframe tbody tr th:only-of-type {\n",
       "        vertical-align: middle;\n",
       "    }\n",
       "\n",
       "    .dataframe tbody tr th {\n",
       "        vertical-align: top;\n",
       "    }\n",
       "\n",
       "    .dataframe thead th {\n",
       "        text-align: right;\n",
       "    }\n",
       "</style>\n",
       "<table border=\"1\" class=\"dataframe\">\n",
       "  <thead>\n",
       "    <tr style=\"text-align: right;\">\n",
       "      <th></th>\n",
       "      <th>Unnamed: 0.1</th>\n",
       "      <th>codGrupoMaterial5</th>\n",
       "      <th>Tipo_Precio</th>\n",
       "      <th>Departamento</th>\n",
       "      <th>Localidad</th>\n",
       "      <th>Provincia</th>\n",
       "      <th>Pais</th>\n",
       "      <th>CodCliente_of</th>\n",
       "      <th>CodSucCliente_of</th>\n",
       "      <th>NroDocPedido</th>\n",
       "      <th>Unnamed: 0</th>\n",
       "    </tr>\n",
       "  </thead>\n",
       "  <tbody>\n",
       "    <tr>\n",
       "      <th>3</th>\n",
       "      <td>3</td>\n",
       "      <td>291.0</td>\n",
       "      <td>1.0</td>\n",
       "      <td>TERCERO ARRIBA</td>\n",
       "      <td>OLIVA</td>\n",
       "      <td>Córdoba</td>\n",
       "      <td>AR</td>\n",
       "      <td>2</td>\n",
       "      <td>2</td>\n",
       "      <td>281670.0</td>\n",
       "      <td>1382</td>\n",
       "    </tr>\n",
       "  </tbody>\n",
       "</table>\n",
       "</div>"
      ],
      "text/plain": [
       "   Unnamed: 0.1  codGrupoMaterial5  Tipo_Precio    Departamento Localidad  \\\n",
       "3             3              291.0          1.0  TERCERO ARRIBA     OLIVA   \n",
       "\n",
       "  Provincia Pais  CodCliente_of  CodSucCliente_of  NroDocPedido  Unnamed: 0  \n",
       "3   Córdoba   AR              2                 2      281670.0        1382  "
      ]
     },
     "execution_count": 13,
     "metadata": {},
     "output_type": "execute_result"
    }
   ],
   "source": [
    "df_2[df_2['Unnamed: 0'] == 1382]"
   ]
  },
  {
   "cell_type": "markdown",
   "metadata": {
    "id": "Fd2kmcgIXD_J"
   },
   "source": [
    "***Concluimos que estas columnas son las mas utiles para diferenciar univocamente, una fila de otra. Entonces la utilizaremos para mergear df_1 o df_2.***"
   ]
  },
  {
   "cell_type": "markdown",
   "metadata": {
    "id": "GEqy2By9HGcX"
   },
   "source": [
    "***Veamos si existen valores de la columna que difiera entre los dataframes:***"
   ]
  },
  {
   "cell_type": "code",
   "execution_count": 14,
   "metadata": {
    "colab": {
     "base_uri": "https://localhost:8080/"
    },
    "id": "c7xN8UyhHGcY",
    "outputId": "4c6e5434-8c1c-4b3b-cb96-51479f98ed0c"
   },
   "outputs": [
    {
     "data": {
      "text/plain": [
       "0"
      ]
     },
     "execution_count": 14,
     "metadata": {},
     "output_type": "execute_result"
    }
   ],
   "source": [
    "len(list(set(df_1['Unnamed: 0'].unique()).difference(df_2['Unnamed: 0'].unique())))"
   ]
  },
  {
   "cell_type": "markdown",
   "metadata": {
    "id": "mI_qyd_THGcb"
   },
   "source": [
    "***Vemos que tenemos 0 valores distintos entre los dataframes. Osea que ambos dataframes contienen todos los valores del otro. Concluimos que esta columna es la forma mas facil de diferenciar univocamente, una fila de otra. Entonces la utilizaremos para mergear pred_dem_1 o pred_dem_2. A continuacion vamos hacemos el Merge***"
   ]
  },
  {
   "cell_type": "code",
   "execution_count": 15,
   "metadata": {
    "id": "QFC-T4piHGcc"
   },
   "outputs": [],
   "source": [
    "df_merged = df_1.merge(df_2, on= ['Unnamed: 0','Unnamed: 0.1'], how = 'left')"
   ]
  },
  {
   "cell_type": "code",
   "execution_count": 16,
   "metadata": {
    "colab": {
     "base_uri": "https://localhost:8080/"
    },
    "id": "ADCTvNulHGcd",
    "outputId": "f142bb7d-92be-4989-d4e2-dbca37758496"
   },
   "outputs": [
    {
     "data": {
      "text/plain": [
       "Index(['Unnamed: 0.1', 'Unnamed: 0', 'Periodo', 'Fecha', 'FechaPedido',\n",
       "       'NroDocPedido_x', 'PosPedido', 'CodMaterial', 'Cantidad', 'CodGrupoArt',\n",
       "       'GrupoArticulos', 'codGrupoMaterial2', 'codGrupoMaterial4',\n",
       "       'codGrupoMaterial5', 'Tipo_Precio', 'Departamento', 'Localidad',\n",
       "       'Provincia', 'Pais', 'CodCliente_of', 'CodSucCliente_of',\n",
       "       'NroDocPedido_y'],\n",
       "      dtype='object')"
      ]
     },
     "execution_count": 16,
     "metadata": {},
     "output_type": "execute_result"
    }
   ],
   "source": [
    "df_merged.columns"
   ]
  },
  {
   "cell_type": "markdown",
   "metadata": {
    "id": "qMS0GC6vYCDe"
   },
   "source": [
    "***Vemos que tenemos 2 columnas \"NroDocPedido\". Vamos a analizar si es que estas columnas son iguales.***"
   ]
  },
  {
   "cell_type": "code",
   "execution_count": 17,
   "metadata": {
    "colab": {
     "base_uri": "https://localhost:8080/",
     "height": 424
    },
    "id": "t0_s2qwSYJ88",
    "outputId": "b0507af7-14d4-4ce9-c94c-fca42e5c9940"
   },
   "outputs": [
    {
     "data": {
      "text/html": [
       "<div>\n",
       "<style scoped>\n",
       "    .dataframe tbody tr th:only-of-type {\n",
       "        vertical-align: middle;\n",
       "    }\n",
       "\n",
       "    .dataframe tbody tr th {\n",
       "        vertical-align: top;\n",
       "    }\n",
       "\n",
       "    .dataframe thead th {\n",
       "        text-align: right;\n",
       "    }\n",
       "</style>\n",
       "<table border=\"1\" class=\"dataframe\">\n",
       "  <thead>\n",
       "    <tr style=\"text-align: right;\">\n",
       "      <th></th>\n",
       "      <th>NroDocPedido_x</th>\n",
       "      <th>NroDocPedido_y</th>\n",
       "    </tr>\n",
       "  </thead>\n",
       "  <tbody>\n",
       "    <tr>\n",
       "      <th>0</th>\n",
       "      <td>514585.0</td>\n",
       "      <td>514585.0</td>\n",
       "    </tr>\n",
       "    <tr>\n",
       "      <th>1</th>\n",
       "      <td>232161.0</td>\n",
       "      <td>232161.0</td>\n",
       "    </tr>\n",
       "    <tr>\n",
       "      <th>2</th>\n",
       "      <td>260497.0</td>\n",
       "      <td>260497.0</td>\n",
       "    </tr>\n",
       "    <tr>\n",
       "      <th>3</th>\n",
       "      <td>281670.0</td>\n",
       "      <td>281670.0</td>\n",
       "    </tr>\n",
       "    <tr>\n",
       "      <th>4</th>\n",
       "      <td>281670.0</td>\n",
       "      <td>281670.0</td>\n",
       "    </tr>\n",
       "    <tr>\n",
       "      <th>...</th>\n",
       "      <td>...</td>\n",
       "      <td>...</td>\n",
       "    </tr>\n",
       "    <tr>\n",
       "      <th>106784</th>\n",
       "      <td>521696.0</td>\n",
       "      <td>521696.0</td>\n",
       "    </tr>\n",
       "    <tr>\n",
       "      <th>106785</th>\n",
       "      <td>260215.0</td>\n",
       "      <td>260215.0</td>\n",
       "    </tr>\n",
       "    <tr>\n",
       "      <th>106786</th>\n",
       "      <td>346688.0</td>\n",
       "      <td>346688.0</td>\n",
       "    </tr>\n",
       "    <tr>\n",
       "      <th>106787</th>\n",
       "      <td>377615.0</td>\n",
       "      <td>377615.0</td>\n",
       "    </tr>\n",
       "    <tr>\n",
       "      <th>106788</th>\n",
       "      <td>457400.0</td>\n",
       "      <td>457400.0</td>\n",
       "    </tr>\n",
       "  </tbody>\n",
       "</table>\n",
       "<p>106789 rows × 2 columns</p>\n",
       "</div>"
      ],
      "text/plain": [
       "        NroDocPedido_x  NroDocPedido_y\n",
       "0             514585.0        514585.0\n",
       "1             232161.0        232161.0\n",
       "2             260497.0        260497.0\n",
       "3             281670.0        281670.0\n",
       "4             281670.0        281670.0\n",
       "...                ...             ...\n",
       "106784        521696.0        521696.0\n",
       "106785        260215.0        260215.0\n",
       "106786        346688.0        346688.0\n",
       "106787        377615.0        377615.0\n",
       "106788        457400.0        457400.0\n",
       "\n",
       "[106789 rows x 2 columns]"
      ]
     },
     "execution_count": 17,
     "metadata": {},
     "output_type": "execute_result"
    }
   ],
   "source": [
    "df_merged[['NroDocPedido_x','NroDocPedido_y']]"
   ]
  },
  {
   "cell_type": "code",
   "execution_count": 18,
   "metadata": {
    "colab": {
     "base_uri": "https://localhost:8080/"
    },
    "id": "UhrZeTPWHGcg",
    "outputId": "ae0dfc36-130f-466c-a22d-13718aa57b1c"
   },
   "outputs": [
    {
     "data": {
      "text/plain": [
       "0"
      ]
     },
     "execution_count": 18,
     "metadata": {},
     "output_type": "execute_result"
    }
   ],
   "source": [
    "# Consultamos diferentes entre NroDocPedido_x y NroDocPedido_y:\n",
    "len(list(set(df_merged.NroDocPedido_x.unique()).difference(df_merged.NroDocPedido_y.unique())))"
   ]
  },
  {
   "cell_type": "markdown",
   "metadata": {
    "id": "XFJAOwMaHGci"
   },
   "source": [
    "***Vemos que las columnas NroDocPedido_x e y, son iguales entre si, por eso eliminamos una y la otra la renombramos.***"
   ]
  },
  {
   "cell_type": "code",
   "execution_count": 19,
   "metadata": {
    "id": "fXldhDuWHGcl"
   },
   "outputs": [],
   "source": [
    "df_merged.drop(columns=['NroDocPedido_x'], inplace=True)\n",
    "df_merged.rename(columns={'NroDocPedido_y':'NroDocPedido'}, inplace=True)"
   ]
  },
  {
   "cell_type": "code",
   "execution_count": 20,
   "metadata": {
    "colab": {
     "base_uri": "https://localhost:8080/"
    },
    "id": "eYxLqqLTHGcm",
    "outputId": "edfa2efc-cf78-447d-802a-31e41deb790d"
   },
   "outputs": [
    {
     "data": {
      "text/plain": [
       "Index(['Unnamed: 0.1', 'Unnamed: 0', 'Periodo', 'Fecha', 'FechaPedido',\n",
       "       'PosPedido', 'CodMaterial', 'Cantidad', 'CodGrupoArt', 'GrupoArticulos',\n",
       "       'codGrupoMaterial2', 'codGrupoMaterial4', 'codGrupoMaterial5',\n",
       "       'Tipo_Precio', 'Departamento', 'Localidad', 'Provincia', 'Pais',\n",
       "       'CodCliente_of', 'CodSucCliente_of', 'NroDocPedido'],\n",
       "      dtype='object')"
      ]
     },
     "execution_count": 20,
     "metadata": {},
     "output_type": "execute_result"
    }
   ],
   "source": [
    "df_merged.columns"
   ]
  },
  {
   "cell_type": "markdown",
   "metadata": {
    "id": "_J1YI3x_HGcn"
   },
   "source": [
    "***Controlemos que no se hayan agregado filas de mas:***"
   ]
  },
  {
   "cell_type": "code",
   "execution_count": 21,
   "metadata": {
    "colab": {
     "base_uri": "https://localhost:8080/"
    },
    "id": "35SRarUZHGcp",
    "outputId": "d8add5d0-30ee-4aec-9aba-e062daae92e3"
   },
   "outputs": [
    {
     "name": "stdout",
     "output_type": "stream",
     "text": [
      "El largo de los dos datasets mergeados es pred_dem_1: 106789 y pred_dem_2: 106789\n"
     ]
    }
   ],
   "source": [
    "print(f'El largo de los dos datasets mergeados es pred_dem_1: {len(df_1)} y pred_dem_2: {len(df_2)}')"
   ]
  },
  {
   "cell_type": "code",
   "execution_count": 22,
   "metadata": {
    "colab": {
     "base_uri": "https://localhost:8080/"
    },
    "id": "PdgX8V9_HGcs",
    "outputId": "b836b95e-a83e-421f-aa7c-91e7ae7b4fe6"
   },
   "outputs": [
    {
     "name": "stdout",
     "output_type": "stream",
     "text": [
      "La cantidad de filas en el merge es :106789\n"
     ]
    }
   ],
   "source": [
    "print(f'La cantidad de filas en el merge es :{len(df_merged)}')"
   ]
  },
  {
   "cell_type": "markdown",
   "metadata": {
    "id": "LtzjrjyeHGcu"
   },
   "source": [
    "***Vemos que la cantidad de filas es igual para los 3 datasets, entonces no se introdujeron filas de mas***"
   ]
  },
  {
   "cell_type": "markdown",
   "metadata": {
    "id": "5j99C7oeHGcv"
   },
   "source": [
    "***Veamos como juntar los dos dataset que nos quedaron (df_merge y df_3):***"
   ]
  },
  {
   "cell_type": "code",
   "execution_count": 23,
   "metadata": {
    "colab": {
     "base_uri": "https://localhost:8080/"
    },
    "id": "3IOaCjUOHGcw",
    "outputId": "25c23f60-49aa-4b61-90e1-00ae778ff6e8"
   },
   "outputs": [
    {
     "data": {
      "text/plain": [
       "21"
      ]
     },
     "execution_count": 23,
     "metadata": {},
     "output_type": "execute_result"
    }
   ],
   "source": [
    "len(df_merged.columns)"
   ]
  },
  {
   "cell_type": "code",
   "execution_count": 24,
   "metadata": {
    "colab": {
     "base_uri": "https://localhost:8080/"
    },
    "id": "5zfCrUW4HGcy",
    "outputId": "02079a05-49a0-4ee4-8cd5-5b61b382339b"
   },
   "outputs": [
    {
     "data": {
      "text/plain": [
       "21"
      ]
     },
     "execution_count": 24,
     "metadata": {},
     "output_type": "execute_result"
    }
   ],
   "source": [
    "len(df_3.columns)"
   ]
  },
  {
   "cell_type": "markdown",
   "metadata": {
    "id": "GS3oyKpMHGcz"
   },
   "source": [
    "***Ambas comparten la misma cantidad de columnas. Observemos la columna con que la hicimos el merge anterior:***"
   ]
  },
  {
   "cell_type": "code",
   "execution_count": 25,
   "metadata": {
    "colab": {
     "base_uri": "https://localhost:8080/"
    },
    "id": "zH8WhFPqHGc1",
    "outputId": "d101d70c-22ee-446e-c4bf-ca5eac561a9e"
   },
   "outputs": [
    {
     "data": {
      "text/plain": [
       "count       1001.000\n",
       "mean     3771458.977\n",
       "std         2301.079\n",
       "min      3769477.000\n",
       "25%      3770006.000\n",
       "50%      3770419.000\n",
       "75%      3771596.000\n",
       "max      3780189.000\n",
       "Name: Unnamed: 0, dtype: object"
      ]
     },
     "execution_count": 25,
     "metadata": {},
     "output_type": "execute_result"
    }
   ],
   "source": [
    "df_3['Unnamed: 0'].describe().apply(lambda x: '%.3f' % x)"
   ]
  },
  {
   "cell_type": "code",
   "execution_count": 26,
   "metadata": {
    "colab": {
     "base_uri": "https://localhost:8080/"
    },
    "id": "e7DPYEI1HGc3",
    "outputId": "8a1f74c3-2d24-4f30-a45e-5a5d15411c4a"
   },
   "outputs": [
    {
     "data": {
      "text/plain": [
       "count     106789.000\n",
       "mean     2471256.412\n",
       "std      1120072.446\n",
       "min         1159.000\n",
       "25%      1582308.000\n",
       "50%      2808454.000\n",
       "75%      3464287.000\n",
       "max      3769476.000\n",
       "Name: Unnamed: 0, dtype: object"
      ]
     },
     "execution_count": 26,
     "metadata": {},
     "output_type": "execute_result"
    }
   ],
   "source": [
    "df_merged['Unnamed: 0'].describe().apply(lambda x: '%.3f' % x)"
   ]
  },
  {
   "cell_type": "markdown",
   "metadata": {
    "id": "VBaFtCHQHGc5"
   },
   "source": [
    "***Vemos que pasa con el minimo de df_3  y el maximo de df_merge:***"
   ]
  },
  {
   "cell_type": "code",
   "execution_count": 27,
   "metadata": {
    "colab": {
     "base_uri": "https://localhost:8080/"
    },
    "id": "VszbdeepHGc6",
    "outputId": "f62c9a6e-0ca0-49e8-b8c4-780ad1e206e1"
   },
   "outputs": [
    {
     "data": {
      "text/plain": [
       "3769477"
      ]
     },
     "execution_count": 27,
     "metadata": {},
     "output_type": "execute_result"
    }
   ],
   "source": [
    "df_3['Unnamed: 0'].min()"
   ]
  },
  {
   "cell_type": "code",
   "execution_count": 28,
   "metadata": {
    "colab": {
     "base_uri": "https://localhost:8080/"
    },
    "id": "ewAJCtb-HGc8",
    "outputId": "cf1eefa7-af63-471d-e4bb-b47f8e5e87b0"
   },
   "outputs": [
    {
     "data": {
      "text/plain": [
       "3769476"
      ]
     },
     "execution_count": 28,
     "metadata": {},
     "output_type": "execute_result"
    }
   ],
   "source": [
    "df_merged['Unnamed: 0'].max()"
   ]
  },
  {
   "cell_type": "markdown",
   "metadata": {
    "id": "NIKzYOt-HGc-"
   },
   "source": [
    "***Parece ser que el minimo de df_3 es una unidad mas grande que el maximmo de df_merged. Podria pasar que los valores sean consecutivos. Veamos si la diferencia entre las filas, es de uno. Para concluir que esto se cumple:***"
   ]
  },
  {
   "cell_type": "code",
   "execution_count": 29,
   "metadata": {
    "colab": {
     "base_uri": "https://localhost:8080/"
    },
    "id": "u8m48gPHHGdA",
    "outputId": "7f6fb211-3564-407f-cf43-5e6d841efc5e"
   },
   "outputs": [
    {
     "data": {
      "text/plain": [
       "0          NaN\n",
       "1          1.0\n",
       "2          1.0\n",
       "3          1.0\n",
       "4          1.0\n",
       "         ...  \n",
       "996        1.0\n",
       "997        1.0\n",
       "998        1.0\n",
       "999        1.0\n",
       "1000   -9974.0\n",
       "Name: Unnamed: 0, Length: 1001, dtype: float64"
      ]
     },
     "execution_count": 29,
     "metadata": {},
     "output_type": "execute_result"
    }
   ],
   "source": [
    "diff_test = df_3['Unnamed: 0'].diff()\n",
    "diff_test"
   ]
  },
  {
   "cell_type": "markdown",
   "metadata": {
    "id": "hGiM3XOVHGdC"
   },
   "source": [
    "***Podemos concluir que las filas de pred_dem_3 no necesitan un merge, sino una concatenacion***"
   ]
  },
  {
   "cell_type": "markdown",
   "metadata": {
    "id": "U_XGcOdLHGdE"
   },
   "source": [
    "***Antes de concatenar, observemos los NroDocPedido:***"
   ]
  },
  {
   "cell_type": "code",
   "execution_count": 30,
   "metadata": {
    "colab": {
     "base_uri": "https://localhost:8080/"
    },
    "id": "IK6chMUcHGdF",
    "outputId": "af964db0-d1fb-4ea3-c3da-d77139675de1"
   },
   "outputs": [
    {
     "data": {
      "text/plain": [
       "38847"
      ]
     },
     "execution_count": 30,
     "metadata": {},
     "output_type": "execute_result"
    }
   ],
   "source": [
    "len(df_merged.NroDocPedido.unique())"
   ]
  },
  {
   "cell_type": "code",
   "execution_count": 31,
   "metadata": {
    "colab": {
     "base_uri": "https://localhost:8080/"
    },
    "id": "DTUNBnr1HGdH",
    "outputId": "b4160004-5414-4a0f-8217-f9b4dd2421ed"
   },
   "outputs": [
    {
     "data": {
      "text/plain": [
       "341"
      ]
     },
     "execution_count": 31,
     "metadata": {},
     "output_type": "execute_result"
    }
   ],
   "source": [
    "len(df_3.NroDocPedido.unique())"
   ]
  },
  {
   "cell_type": "markdown",
   "metadata": {
    "id": "zvWreIRyHGdL"
   },
   "source": [
    "***Veamos si existen NroDocPedido que esten en los dos dataframes:***"
   ]
  },
  {
   "cell_type": "code",
   "execution_count": 32,
   "metadata": {
    "colab": {
     "base_uri": "https://localhost:8080/"
    },
    "id": "zRS8uGjMHGdL",
    "outputId": "d8465519-eaf5-43da-ff97-2c1e06e5d7ce"
   },
   "outputs": [
    {
     "data": {
      "text/plain": [
       "336"
      ]
     },
     "execution_count": 32,
     "metadata": {},
     "output_type": "execute_result"
    }
   ],
   "source": [
    "len(list(set(df_3.NroDocPedido.unique()).difference(df_merged.NroDocPedido.unique())))"
   ]
  },
  {
   "cell_type": "markdown",
   "metadata": {
    "id": "9f9SSfS2HGdN"
   },
   "source": [
    "***Vemos que existen 5 NroDocPedidos que se encuentran en los dos dataframes. Encontremos estos valores:***"
   ]
  },
  {
   "cell_type": "code",
   "execution_count": 33,
   "metadata": {
    "colab": {
     "base_uri": "https://localhost:8080/"
    },
    "id": "I52zAfeFHGdO",
    "outputId": "0304d3b5-6604-48a0-e0e6-69871e5298f9"
   },
   "outputs": [
    {
     "data": {
      "text/plain": [
       "[521696.0, 472674.0, 465908.0, 457400.0, 483932.0]"
      ]
     },
     "execution_count": 33,
     "metadata": {},
     "output_type": "execute_result"
    }
   ],
   "source": [
    "intersected_values = list(set(df_3.NroDocPedido.unique()) & set(df_merged.NroDocPedido.unique()))\n",
    "intersected_values"
   ]
  },
  {
   "cell_type": "markdown",
   "metadata": {
    "id": "XYa1-gp5HGdR"
   },
   "source": [
    "***Veamos si los codigos que estan presentes en los dos dataframes, no introducirian filas repetidas:***"
   ]
  },
  {
   "cell_type": "code",
   "execution_count": 34,
   "metadata": {
    "colab": {
     "base_uri": "https://localhost:8080/"
    },
    "id": "OfXAMjHKHGdT",
    "outputId": "35a0ce52-2e48-4478-ecc2-93cc545aeff3"
   },
   "outputs": [
    {
     "name": "stdout",
     "output_type": "stream",
     "text": [
      "Empty DataFrame\n",
      "Columns: [Unnamed: 0.1, Unnamed: 0, Periodo, Fecha, FechaPedido, NroDocPedido, PosPedido, CodMaterial, Cantidad, CodGrupoArt, GrupoArticulos, codGrupoMaterial2, codGrupoMaterial4, codGrupoMaterial5, Tipo_Precio, Departamento, Localidad, Provincia, Pais, CodCliente_of, CodSucCliente_of]\n",
      "Index: []\n",
      "\n",
      "[0 rows x 21 columns]\n"
     ]
    }
   ],
   "source": [
    "# Encontrar las filas comunes en ambos conjuntos de datos\n",
    "filas_comunes = pd.merge(df_3, df_merged, how='inner')\n",
    "\n",
    "print(filas_comunes)"
   ]
  },
  {
   "cell_type": "markdown",
   "metadata": {
    "id": "aIFpAYd-HGdV"
   },
   "source": [
    "***Vemos que no tenemos filas en comun, entonces al concatenar los datos, no tendremos filas repetidas. Veamos ademas si tenemos columnas que difieren entre los dos dataframes:***"
   ]
  },
  {
   "cell_type": "code",
   "execution_count": 35,
   "metadata": {
    "colab": {
     "base_uri": "https://localhost:8080/"
    },
    "id": "n0tVaWhDHGdW",
    "outputId": "5135d90f-6e55-464b-9f12-195cd8d5339c"
   },
   "outputs": [
    {
     "data": {
      "text/plain": [
       "[]"
      ]
     },
     "execution_count": 35,
     "metadata": {},
     "output_type": "execute_result"
    }
   ],
   "source": [
    "(list(set(df_3.columns).difference(df_merged.columns)))"
   ]
  },
  {
   "cell_type": "markdown",
   "metadata": {
    "id": "raJy-GTHHGdY"
   },
   "source": [
    "***No tenemos columnas distintas***"
   ]
  },
  {
   "cell_type": "markdown",
   "metadata": {
    "id": "JS5H_a2zHGdZ"
   },
   "source": [
    "***Concatenamos los dataframes:***"
   ]
  },
  {
   "cell_type": "code",
   "execution_count": 36,
   "metadata": {
    "colab": {
     "base_uri": "https://localhost:8080/",
     "height": 679
    },
    "id": "j1paEzkEHGdc",
    "outputId": "925f0a9d-c821-4677-bf6c-07ce8347187e"
   },
   "outputs": [
    {
     "data": {
      "text/html": [
       "<div>\n",
       "<style scoped>\n",
       "    .dataframe tbody tr th:only-of-type {\n",
       "        vertical-align: middle;\n",
       "    }\n",
       "\n",
       "    .dataframe tbody tr th {\n",
       "        vertical-align: top;\n",
       "    }\n",
       "\n",
       "    .dataframe thead th {\n",
       "        text-align: right;\n",
       "    }\n",
       "</style>\n",
       "<table border=\"1\" class=\"dataframe\">\n",
       "  <thead>\n",
       "    <tr style=\"text-align: right;\">\n",
       "      <th></th>\n",
       "      <th>Unnamed: 0.1</th>\n",
       "      <th>Unnamed: 0</th>\n",
       "      <th>Periodo</th>\n",
       "      <th>Fecha</th>\n",
       "      <th>FechaPedido</th>\n",
       "      <th>PosPedido</th>\n",
       "      <th>CodMaterial</th>\n",
       "      <th>Cantidad</th>\n",
       "      <th>CodGrupoArt</th>\n",
       "      <th>GrupoArticulos</th>\n",
       "      <th>...</th>\n",
       "      <th>codGrupoMaterial4</th>\n",
       "      <th>codGrupoMaterial5</th>\n",
       "      <th>Tipo_Precio</th>\n",
       "      <th>Departamento</th>\n",
       "      <th>Localidad</th>\n",
       "      <th>Provincia</th>\n",
       "      <th>Pais</th>\n",
       "      <th>CodCliente_of</th>\n",
       "      <th>CodSucCliente_of</th>\n",
       "      <th>NroDocPedido</th>\n",
       "    </tr>\n",
       "  </thead>\n",
       "  <tbody>\n",
       "    <tr>\n",
       "      <th>0</th>\n",
       "      <td>0</td>\n",
       "      <td>1159</td>\n",
       "      <td>202111.0</td>\n",
       "      <td>2021-11-01</td>\n",
       "      <td>2021-11-01</td>\n",
       "      <td>10.0</td>\n",
       "      <td>81074</td>\n",
       "      <td>480</td>\n",
       "      <td>14.0</td>\n",
       "      <td>Corrosivos</td>\n",
       "      <td>...</td>\n",
       "      <td>284.0</td>\n",
       "      <td>674.0</td>\n",
       "      <td>10.0</td>\n",
       "      <td>LOMAS DE ZAMORA</td>\n",
       "      <td>TEMPERLEY</td>\n",
       "      <td>Buenos Aires</td>\n",
       "      <td>AR</td>\n",
       "      <td>1</td>\n",
       "      <td>1</td>\n",
       "      <td>514585.0</td>\n",
       "    </tr>\n",
       "    <tr>\n",
       "      <th>1</th>\n",
       "      <td>1</td>\n",
       "      <td>1380</td>\n",
       "      <td>201802.0</td>\n",
       "      <td>2018-02-01</td>\n",
       "      <td>2018-02-15</td>\n",
       "      <td>930.0</td>\n",
       "      <td>8051</td>\n",
       "      <td>24</td>\n",
       "      <td>11.0</td>\n",
       "      <td>Espesantes</td>\n",
       "      <td>...</td>\n",
       "      <td>139.0</td>\n",
       "      <td>291.0</td>\n",
       "      <td>1.0</td>\n",
       "      <td>TERCERO ARRIBA</td>\n",
       "      <td>OLIVA</td>\n",
       "      <td>Córdoba</td>\n",
       "      <td>AR</td>\n",
       "      <td>2</td>\n",
       "      <td>2</td>\n",
       "      <td>232161.0</td>\n",
       "    </tr>\n",
       "    <tr>\n",
       "      <th>2</th>\n",
       "      <td>2</td>\n",
       "      <td>1381</td>\n",
       "      <td>201808.0</td>\n",
       "      <td>2018-08-01</td>\n",
       "      <td>2018-08-15</td>\n",
       "      <td>130.0</td>\n",
       "      <td>8051</td>\n",
       "      <td>24</td>\n",
       "      <td>11.0</td>\n",
       "      <td>Espesantes</td>\n",
       "      <td>...</td>\n",
       "      <td>139.0</td>\n",
       "      <td>291.0</td>\n",
       "      <td>1.0</td>\n",
       "      <td>TERCERO ARRIBA</td>\n",
       "      <td>OLIVA</td>\n",
       "      <td>Córdoba</td>\n",
       "      <td>AR</td>\n",
       "      <td>2</td>\n",
       "      <td>2</td>\n",
       "      <td>260497.0</td>\n",
       "    </tr>\n",
       "    <tr>\n",
       "      <th>3</th>\n",
       "      <td>3</td>\n",
       "      <td>1382</td>\n",
       "      <td>201811.0</td>\n",
       "      <td>2018-11-01</td>\n",
       "      <td>2018-11-16</td>\n",
       "      <td>790.0</td>\n",
       "      <td>8051</td>\n",
       "      <td>24</td>\n",
       "      <td>11.0</td>\n",
       "      <td>Espesantes</td>\n",
       "      <td>...</td>\n",
       "      <td>139.0</td>\n",
       "      <td>291.0</td>\n",
       "      <td>1.0</td>\n",
       "      <td>TERCERO ARRIBA</td>\n",
       "      <td>OLIVA</td>\n",
       "      <td>Córdoba</td>\n",
       "      <td>AR</td>\n",
       "      <td>2</td>\n",
       "      <td>2</td>\n",
       "      <td>281670.0</td>\n",
       "    </tr>\n",
       "    <tr>\n",
       "      <th>4</th>\n",
       "      <td>4</td>\n",
       "      <td>1383</td>\n",
       "      <td>201901.0</td>\n",
       "      <td>2019-01-01</td>\n",
       "      <td>2019-01-21</td>\n",
       "      <td>790.0</td>\n",
       "      <td>8051</td>\n",
       "      <td>-24</td>\n",
       "      <td>11.0</td>\n",
       "      <td>Espesantes</td>\n",
       "      <td>...</td>\n",
       "      <td>139.0</td>\n",
       "      <td>291.0</td>\n",
       "      <td>1.0</td>\n",
       "      <td>TERCERO ARRIBA</td>\n",
       "      <td>OLIVA</td>\n",
       "      <td>Córdoba</td>\n",
       "      <td>AR</td>\n",
       "      <td>2</td>\n",
       "      <td>2</td>\n",
       "      <td>281670.0</td>\n",
       "    </tr>\n",
       "    <tr>\n",
       "      <th>...</th>\n",
       "      <td>...</td>\n",
       "      <td>...</td>\n",
       "      <td>...</td>\n",
       "      <td>...</td>\n",
       "      <td>...</td>\n",
       "      <td>...</td>\n",
       "      <td>...</td>\n",
       "      <td>...</td>\n",
       "      <td>...</td>\n",
       "      <td>...</td>\n",
       "      <td>...</td>\n",
       "      <td>...</td>\n",
       "      <td>...</td>\n",
       "      <td>...</td>\n",
       "      <td>...</td>\n",
       "      <td>...</td>\n",
       "      <td>...</td>\n",
       "      <td>...</td>\n",
       "      <td>...</td>\n",
       "      <td>...</td>\n",
       "      <td>...</td>\n",
       "    </tr>\n",
       "    <tr>\n",
       "      <th>107785</th>\n",
       "      <td>996</td>\n",
       "      <td>3780186</td>\n",
       "      <td>202106.0</td>\n",
       "      <td>2021-06-01</td>\n",
       "      <td>2021-06-24</td>\n",
       "      <td>10.0</td>\n",
       "      <td>45114</td>\n",
       "      <td>24</td>\n",
       "      <td>11.0</td>\n",
       "      <td>Espesantes</td>\n",
       "      <td>...</td>\n",
       "      <td>124.0</td>\n",
       "      <td>228.0</td>\n",
       "      <td>9.0</td>\n",
       "      <td>QUILMES</td>\n",
       "      <td>BERNAL OESTE</td>\n",
       "      <td>Buenos Aires</td>\n",
       "      <td>AR</td>\n",
       "      <td>1671</td>\n",
       "      <td>2244</td>\n",
       "      <td>481967.0</td>\n",
       "    </tr>\n",
       "    <tr>\n",
       "      <th>107786</th>\n",
       "      <td>997</td>\n",
       "      <td>3780187</td>\n",
       "      <td>202108.0</td>\n",
       "      <td>2021-08-01</td>\n",
       "      <td>2021-08-04</td>\n",
       "      <td>10.0</td>\n",
       "      <td>45114</td>\n",
       "      <td>24</td>\n",
       "      <td>11.0</td>\n",
       "      <td>Espesantes</td>\n",
       "      <td>...</td>\n",
       "      <td>124.0</td>\n",
       "      <td>228.0</td>\n",
       "      <td>9.0</td>\n",
       "      <td>QUILMES</td>\n",
       "      <td>BERNAL OESTE</td>\n",
       "      <td>Buenos Aires</td>\n",
       "      <td>AR</td>\n",
       "      <td>1671</td>\n",
       "      <td>2244</td>\n",
       "      <td>491293.0</td>\n",
       "    </tr>\n",
       "    <tr>\n",
       "      <th>107787</th>\n",
       "      <td>998</td>\n",
       "      <td>3780188</td>\n",
       "      <td>202106.0</td>\n",
       "      <td>2021-06-01</td>\n",
       "      <td>2021-06-24</td>\n",
       "      <td>20.0</td>\n",
       "      <td>45115</td>\n",
       "      <td>12</td>\n",
       "      <td>11.0</td>\n",
       "      <td>Espesantes</td>\n",
       "      <td>...</td>\n",
       "      <td>124.0</td>\n",
       "      <td>228.0</td>\n",
       "      <td>9.0</td>\n",
       "      <td>QUILMES</td>\n",
       "      <td>BERNAL OESTE</td>\n",
       "      <td>Buenos Aires</td>\n",
       "      <td>AR</td>\n",
       "      <td>1671</td>\n",
       "      <td>2244</td>\n",
       "      <td>481967.0</td>\n",
       "    </tr>\n",
       "    <tr>\n",
       "      <th>107788</th>\n",
       "      <td>999</td>\n",
       "      <td>3780189</td>\n",
       "      <td>202108.0</td>\n",
       "      <td>2021-08-01</td>\n",
       "      <td>2021-08-04</td>\n",
       "      <td>20.0</td>\n",
       "      <td>45115</td>\n",
       "      <td>12</td>\n",
       "      <td>11.0</td>\n",
       "      <td>Espesantes</td>\n",
       "      <td>...</td>\n",
       "      <td>124.0</td>\n",
       "      <td>228.0</td>\n",
       "      <td>9.0</td>\n",
       "      <td>QUILMES</td>\n",
       "      <td>BERNAL OESTE</td>\n",
       "      <td>Buenos Aires</td>\n",
       "      <td>AR</td>\n",
       "      <td>1671</td>\n",
       "      <td>2244</td>\n",
       "      <td>491293.0</td>\n",
       "    </tr>\n",
       "    <tr>\n",
       "      <th>107789</th>\n",
       "      <td>1000</td>\n",
       "      <td>3770215</td>\n",
       "      <td>202012.0</td>\n",
       "      <td>2020-12-01</td>\n",
       "      <td>2020-12-10</td>\n",
       "      <td>10.0</td>\n",
       "      <td>81024</td>\n",
       "      <td>60</td>\n",
       "      <td>14.0</td>\n",
       "      <td>Corrosivos</td>\n",
       "      <td>...</td>\n",
       "      <td>284.0</td>\n",
       "      <td>669.0</td>\n",
       "      <td>10.0</td>\n",
       "      <td>LA MATANZA</td>\n",
       "      <td>RAMOS MEJIA</td>\n",
       "      <td>Buenos Aires</td>\n",
       "      <td>AR</td>\n",
       "      <td>1614</td>\n",
       "      <td>2164</td>\n",
       "      <td>444289.0</td>\n",
       "    </tr>\n",
       "  </tbody>\n",
       "</table>\n",
       "<p>107790 rows × 21 columns</p>\n",
       "</div>"
      ],
      "text/plain": [
       "        Unnamed: 0.1  Unnamed: 0   Periodo       Fecha FechaPedido  PosPedido  \\\n",
       "0                  0        1159  202111.0  2021-11-01  2021-11-01       10.0   \n",
       "1                  1        1380  201802.0  2018-02-01  2018-02-15      930.0   \n",
       "2                  2        1381  201808.0  2018-08-01  2018-08-15      130.0   \n",
       "3                  3        1382  201811.0  2018-11-01  2018-11-16      790.0   \n",
       "4                  4        1383  201901.0  2019-01-01  2019-01-21      790.0   \n",
       "...              ...         ...       ...         ...         ...        ...   \n",
       "107785           996     3780186  202106.0  2021-06-01  2021-06-24       10.0   \n",
       "107786           997     3780187  202108.0  2021-08-01  2021-08-04       10.0   \n",
       "107787           998     3780188  202106.0  2021-06-01  2021-06-24       20.0   \n",
       "107788           999     3780189  202108.0  2021-08-01  2021-08-04       20.0   \n",
       "107789          1000     3770215  202012.0  2020-12-01  2020-12-10       10.0   \n",
       "\n",
       "        CodMaterial  Cantidad  CodGrupoArt GrupoArticulos  ...  \\\n",
       "0             81074       480         14.0     Corrosivos  ...   \n",
       "1              8051        24         11.0     Espesantes  ...   \n",
       "2              8051        24         11.0     Espesantes  ...   \n",
       "3              8051        24         11.0     Espesantes  ...   \n",
       "4              8051       -24         11.0     Espesantes  ...   \n",
       "...             ...       ...          ...            ...  ...   \n",
       "107785        45114        24         11.0     Espesantes  ...   \n",
       "107786        45114        24         11.0     Espesantes  ...   \n",
       "107787        45115        12         11.0     Espesantes  ...   \n",
       "107788        45115        12         11.0     Espesantes  ...   \n",
       "107789        81024        60         14.0     Corrosivos  ...   \n",
       "\n",
       "        codGrupoMaterial4  codGrupoMaterial5  Tipo_Precio     Departamento  \\\n",
       "0                   284.0              674.0         10.0  LOMAS DE ZAMORA   \n",
       "1                   139.0              291.0          1.0   TERCERO ARRIBA   \n",
       "2                   139.0              291.0          1.0   TERCERO ARRIBA   \n",
       "3                   139.0              291.0          1.0   TERCERO ARRIBA   \n",
       "4                   139.0              291.0          1.0   TERCERO ARRIBA   \n",
       "...                   ...                ...          ...              ...   \n",
       "107785              124.0              228.0          9.0          QUILMES   \n",
       "107786              124.0              228.0          9.0          QUILMES   \n",
       "107787              124.0              228.0          9.0          QUILMES   \n",
       "107788              124.0              228.0          9.0          QUILMES   \n",
       "107789              284.0              669.0         10.0       LA MATANZA   \n",
       "\n",
       "           Localidad     Provincia Pais CodCliente_of  CodSucCliente_of  \\\n",
       "0          TEMPERLEY  Buenos Aires   AR             1                 1   \n",
       "1              OLIVA       Córdoba   AR             2                 2   \n",
       "2              OLIVA       Córdoba   AR             2                 2   \n",
       "3              OLIVA       Córdoba   AR             2                 2   \n",
       "4              OLIVA       Córdoba   AR             2                 2   \n",
       "...              ...           ...  ...           ...               ...   \n",
       "107785  BERNAL OESTE  Buenos Aires   AR          1671              2244   \n",
       "107786  BERNAL OESTE  Buenos Aires   AR          1671              2244   \n",
       "107787  BERNAL OESTE  Buenos Aires   AR          1671              2244   \n",
       "107788  BERNAL OESTE  Buenos Aires   AR          1671              2244   \n",
       "107789   RAMOS MEJIA  Buenos Aires   AR          1614              2164   \n",
       "\n",
       "        NroDocPedido  \n",
       "0           514585.0  \n",
       "1           232161.0  \n",
       "2           260497.0  \n",
       "3           281670.0  \n",
       "4           281670.0  \n",
       "...              ...  \n",
       "107785      481967.0  \n",
       "107786      491293.0  \n",
       "107787      481967.0  \n",
       "107788      491293.0  \n",
       "107789      444289.0  \n",
       "\n",
       "[107790 rows x 21 columns]"
      ]
     },
     "execution_count": 36,
     "metadata": {},
     "output_type": "execute_result"
    }
   ],
   "source": [
    "final_df = pd.concat([df_merged, df_3], axis = 0, ignore_index=True)\n",
    "final_df"
   ]
  },
  {
   "cell_type": "markdown",
   "metadata": {},
   "source": [
    " ***Se realiza una copia del dataset utilizando la función .copy()***"
   ]
  },
  {
   "cell_type": "code",
   "execution_count": null,
   "metadata": {},
   "outputs": [],
   "source": [
    "test = final_df.copy()\n",
    "test = test.reset_index()\n",
    "test"
   ]
  },
  {
   "cell_type": "markdown",
   "metadata": {
    "id": "xDKZrQ4hHGdd"
   },
   "source": [
    "### 2 - Revisar si el dataset presenta datos duplicados. Esto refiere a que un registro sea exactamente igual en todos los campos/columnas."
   ]
  },
  {
   "cell_type": "code",
   "execution_count": 37,
   "metadata": {},
   "outputs": [
    {
     "data": {
      "text/plain": [
       "107790"
      ]
     },
     "execution_count": 37,
     "metadata": {},
     "output_type": "execute_result"
    }
   ],
   "source": [
    "len(final_df)"
   ]
  },
  {
   "cell_type": "markdown",
   "metadata": {},
   "source": [
    "***El dataset original tiene 107789 filas. Entonces hay un valor de mas, observemos si puede ser o no repetido***"
   ]
  },
  {
   "cell_type": "code",
   "execution_count": 38,
   "metadata": {},
   "outputs": [
    {
     "data": {
      "text/html": [
       "<div>\n",
       "<style scoped>\n",
       "    .dataframe tbody tr th:only-of-type {\n",
       "        vertical-align: middle;\n",
       "    }\n",
       "\n",
       "    .dataframe tbody tr th {\n",
       "        vertical-align: top;\n",
       "    }\n",
       "\n",
       "    .dataframe thead th {\n",
       "        text-align: right;\n",
       "    }\n",
       "</style>\n",
       "<table border=\"1\" class=\"dataframe\">\n",
       "  <thead>\n",
       "    <tr style=\"text-align: right;\">\n",
       "      <th></th>\n",
       "      <th>Unnamed: 0.1</th>\n",
       "      <th>Unnamed: 0</th>\n",
       "      <th>Periodo</th>\n",
       "      <th>Fecha</th>\n",
       "      <th>FechaPedido</th>\n",
       "      <th>PosPedido</th>\n",
       "      <th>CodMaterial</th>\n",
       "      <th>Cantidad</th>\n",
       "      <th>CodGrupoArt</th>\n",
       "      <th>GrupoArticulos</th>\n",
       "      <th>...</th>\n",
       "      <th>codGrupoMaterial4</th>\n",
       "      <th>codGrupoMaterial5</th>\n",
       "      <th>Tipo_Precio</th>\n",
       "      <th>Departamento</th>\n",
       "      <th>Localidad</th>\n",
       "      <th>Provincia</th>\n",
       "      <th>Pais</th>\n",
       "      <th>CodCliente_of</th>\n",
       "      <th>CodSucCliente_of</th>\n",
       "      <th>NroDocPedido</th>\n",
       "    </tr>\n",
       "  </thead>\n",
       "  <tbody>\n",
       "  </tbody>\n",
       "</table>\n",
       "<p>0 rows × 21 columns</p>\n",
       "</div>"
      ],
      "text/plain": [
       "Empty DataFrame\n",
       "Columns: [Unnamed: 0.1, Unnamed: 0, Periodo, Fecha, FechaPedido, PosPedido, CodMaterial, Cantidad, CodGrupoArt, GrupoArticulos, codGrupoMaterial2, codGrupoMaterial4, codGrupoMaterial5, Tipo_Precio, Departamento, Localidad, Provincia, Pais, CodCliente_of, CodSucCliente_of, NroDocPedido]\n",
       "Index: []\n",
       "\n",
       "[0 rows x 21 columns]"
      ]
     },
     "execution_count": 38,
     "metadata": {},
     "output_type": "execute_result"
    }
   ],
   "source": [
    "final_df[final_df.duplicated()] # Obtener datos repetidos"
   ]
  },
  {
   "cell_type": "markdown",
   "metadata": {},
   "source": [
    "***Veamos si las columnas Unnamed pueden estar evitando que aparezcan datos repetidos:***"
   ]
  },
  {
   "cell_type": "code",
   "execution_count": 39,
   "metadata": {},
   "outputs": [
    {
     "data": {
      "text/plain": [
       "0            NaN\n",
       "1          221.0\n",
       "2            1.0\n",
       "3            1.0\n",
       "4            1.0\n",
       "           ...  \n",
       "107785       1.0\n",
       "107786       1.0\n",
       "107787       1.0\n",
       "107788       1.0\n",
       "107789   -9974.0\n",
       "Name: Unnamed: 0, Length: 107790, dtype: float64"
      ]
     },
     "execution_count": 39,
     "metadata": {},
     "output_type": "execute_result"
    }
   ],
   "source": [
    "final_df['Unnamed: 0'].diff()"
   ]
  },
  {
   "cell_type": "code",
   "execution_count": 40,
   "metadata": {},
   "outputs": [
    {
     "data": {
      "text/plain": [
       "0         NaN\n",
       "1         1.0\n",
       "2         1.0\n",
       "3         1.0\n",
       "4         1.0\n",
       "         ... \n",
       "107785    1.0\n",
       "107786    1.0\n",
       "107787    1.0\n",
       "107788    1.0\n",
       "107789    1.0\n",
       "Name: Unnamed: 0.1, Length: 107790, dtype: float64"
      ]
     },
     "execution_count": 40,
     "metadata": {},
     "output_type": "execute_result"
    }
   ],
   "source": [
    "final_df['Unnamed: 0.1'].diff()"
   ]
  },
  {
   "cell_type": "markdown",
   "metadata": {},
   "source": [
    "***Vemos que la columna \"Unnamed: 0.1\" y \"Unnamed: 0\" tienen una diferencia de una unidad entre cada fila. Entonces esto nos puede perjudicar a la hora de encontrar duplicados. Debido a que dos filas aunque sean iguales, se diferenciaran solo por esta columna.***"
   ]
  },
  {
   "cell_type": "markdown",
   "metadata": {},
   "source": [
    "***Eliminamos la columna \"Unnamed: 0.1\" y \"Unnamed: 0\" para realizar la busqueda de duplicados:***"
   ]
  },
  {
   "cell_type": "code",
   "execution_count": 41,
   "metadata": {},
   "outputs": [
    {
     "data": {
      "text/html": [
       "<div>\n",
       "<style scoped>\n",
       "    .dataframe tbody tr th:only-of-type {\n",
       "        vertical-align: middle;\n",
       "    }\n",
       "\n",
       "    .dataframe tbody tr th {\n",
       "        vertical-align: top;\n",
       "    }\n",
       "\n",
       "    .dataframe thead th {\n",
       "        text-align: right;\n",
       "    }\n",
       "</style>\n",
       "<table border=\"1\" class=\"dataframe\">\n",
       "  <thead>\n",
       "    <tr style=\"text-align: right;\">\n",
       "      <th></th>\n",
       "      <th>Periodo</th>\n",
       "      <th>Fecha</th>\n",
       "      <th>FechaPedido</th>\n",
       "      <th>PosPedido</th>\n",
       "      <th>CodMaterial</th>\n",
       "      <th>Cantidad</th>\n",
       "      <th>CodGrupoArt</th>\n",
       "      <th>GrupoArticulos</th>\n",
       "      <th>codGrupoMaterial2</th>\n",
       "      <th>codGrupoMaterial4</th>\n",
       "      <th>codGrupoMaterial5</th>\n",
       "      <th>Tipo_Precio</th>\n",
       "      <th>Departamento</th>\n",
       "      <th>Localidad</th>\n",
       "      <th>Provincia</th>\n",
       "      <th>Pais</th>\n",
       "      <th>CodCliente_of</th>\n",
       "      <th>CodSucCliente_of</th>\n",
       "      <th>NroDocPedido</th>\n",
       "    </tr>\n",
       "  </thead>\n",
       "  <tbody>\n",
       "    <tr>\n",
       "      <th>0</th>\n",
       "      <td>202111.0</td>\n",
       "      <td>2021-11-01</td>\n",
       "      <td>2021-11-01</td>\n",
       "      <td>10.0</td>\n",
       "      <td>81074</td>\n",
       "      <td>480</td>\n",
       "      <td>14.0</td>\n",
       "      <td>Corrosivos</td>\n",
       "      <td>27.0</td>\n",
       "      <td>284.0</td>\n",
       "      <td>674.0</td>\n",
       "      <td>10.0</td>\n",
       "      <td>LOMAS DE ZAMORA</td>\n",
       "      <td>TEMPERLEY</td>\n",
       "      <td>Buenos Aires</td>\n",
       "      <td>AR</td>\n",
       "      <td>1</td>\n",
       "      <td>1</td>\n",
       "      <td>514585.0</td>\n",
       "    </tr>\n",
       "    <tr>\n",
       "      <th>1</th>\n",
       "      <td>201802.0</td>\n",
       "      <td>2018-02-01</td>\n",
       "      <td>2018-02-15</td>\n",
       "      <td>930.0</td>\n",
       "      <td>8051</td>\n",
       "      <td>24</td>\n",
       "      <td>11.0</td>\n",
       "      <td>Espesantes</td>\n",
       "      <td>15.0</td>\n",
       "      <td>139.0</td>\n",
       "      <td>291.0</td>\n",
       "      <td>1.0</td>\n",
       "      <td>TERCERO ARRIBA</td>\n",
       "      <td>OLIVA</td>\n",
       "      <td>Córdoba</td>\n",
       "      <td>AR</td>\n",
       "      <td>2</td>\n",
       "      <td>2</td>\n",
       "      <td>232161.0</td>\n",
       "    </tr>\n",
       "    <tr>\n",
       "      <th>2</th>\n",
       "      <td>201808.0</td>\n",
       "      <td>2018-08-01</td>\n",
       "      <td>2018-08-15</td>\n",
       "      <td>130.0</td>\n",
       "      <td>8051</td>\n",
       "      <td>24</td>\n",
       "      <td>11.0</td>\n",
       "      <td>Espesantes</td>\n",
       "      <td>15.0</td>\n",
       "      <td>139.0</td>\n",
       "      <td>291.0</td>\n",
       "      <td>1.0</td>\n",
       "      <td>TERCERO ARRIBA</td>\n",
       "      <td>OLIVA</td>\n",
       "      <td>Córdoba</td>\n",
       "      <td>AR</td>\n",
       "      <td>2</td>\n",
       "      <td>2</td>\n",
       "      <td>260497.0</td>\n",
       "    </tr>\n",
       "    <tr>\n",
       "      <th>3</th>\n",
       "      <td>201811.0</td>\n",
       "      <td>2018-11-01</td>\n",
       "      <td>2018-11-16</td>\n",
       "      <td>790.0</td>\n",
       "      <td>8051</td>\n",
       "      <td>24</td>\n",
       "      <td>11.0</td>\n",
       "      <td>Espesantes</td>\n",
       "      <td>15.0</td>\n",
       "      <td>139.0</td>\n",
       "      <td>291.0</td>\n",
       "      <td>1.0</td>\n",
       "      <td>TERCERO ARRIBA</td>\n",
       "      <td>OLIVA</td>\n",
       "      <td>Córdoba</td>\n",
       "      <td>AR</td>\n",
       "      <td>2</td>\n",
       "      <td>2</td>\n",
       "      <td>281670.0</td>\n",
       "    </tr>\n",
       "    <tr>\n",
       "      <th>4</th>\n",
       "      <td>201901.0</td>\n",
       "      <td>2019-01-01</td>\n",
       "      <td>2019-01-21</td>\n",
       "      <td>790.0</td>\n",
       "      <td>8051</td>\n",
       "      <td>-24</td>\n",
       "      <td>11.0</td>\n",
       "      <td>Espesantes</td>\n",
       "      <td>15.0</td>\n",
       "      <td>139.0</td>\n",
       "      <td>291.0</td>\n",
       "      <td>1.0</td>\n",
       "      <td>TERCERO ARRIBA</td>\n",
       "      <td>OLIVA</td>\n",
       "      <td>Córdoba</td>\n",
       "      <td>AR</td>\n",
       "      <td>2</td>\n",
       "      <td>2</td>\n",
       "      <td>281670.0</td>\n",
       "    </tr>\n",
       "    <tr>\n",
       "      <th>...</th>\n",
       "      <td>...</td>\n",
       "      <td>...</td>\n",
       "      <td>...</td>\n",
       "      <td>...</td>\n",
       "      <td>...</td>\n",
       "      <td>...</td>\n",
       "      <td>...</td>\n",
       "      <td>...</td>\n",
       "      <td>...</td>\n",
       "      <td>...</td>\n",
       "      <td>...</td>\n",
       "      <td>...</td>\n",
       "      <td>...</td>\n",
       "      <td>...</td>\n",
       "      <td>...</td>\n",
       "      <td>...</td>\n",
       "      <td>...</td>\n",
       "      <td>...</td>\n",
       "      <td>...</td>\n",
       "    </tr>\n",
       "    <tr>\n",
       "      <th>107785</th>\n",
       "      <td>202106.0</td>\n",
       "      <td>2021-06-01</td>\n",
       "      <td>2021-06-24</td>\n",
       "      <td>10.0</td>\n",
       "      <td>45114</td>\n",
       "      <td>24</td>\n",
       "      <td>11.0</td>\n",
       "      <td>Espesantes</td>\n",
       "      <td>26.0</td>\n",
       "      <td>124.0</td>\n",
       "      <td>228.0</td>\n",
       "      <td>9.0</td>\n",
       "      <td>QUILMES</td>\n",
       "      <td>BERNAL OESTE</td>\n",
       "      <td>Buenos Aires</td>\n",
       "      <td>AR</td>\n",
       "      <td>1671</td>\n",
       "      <td>2244</td>\n",
       "      <td>481967.0</td>\n",
       "    </tr>\n",
       "    <tr>\n",
       "      <th>107786</th>\n",
       "      <td>202108.0</td>\n",
       "      <td>2021-08-01</td>\n",
       "      <td>2021-08-04</td>\n",
       "      <td>10.0</td>\n",
       "      <td>45114</td>\n",
       "      <td>24</td>\n",
       "      <td>11.0</td>\n",
       "      <td>Espesantes</td>\n",
       "      <td>26.0</td>\n",
       "      <td>124.0</td>\n",
       "      <td>228.0</td>\n",
       "      <td>9.0</td>\n",
       "      <td>QUILMES</td>\n",
       "      <td>BERNAL OESTE</td>\n",
       "      <td>Buenos Aires</td>\n",
       "      <td>AR</td>\n",
       "      <td>1671</td>\n",
       "      <td>2244</td>\n",
       "      <td>491293.0</td>\n",
       "    </tr>\n",
       "    <tr>\n",
       "      <th>107787</th>\n",
       "      <td>202106.0</td>\n",
       "      <td>2021-06-01</td>\n",
       "      <td>2021-06-24</td>\n",
       "      <td>20.0</td>\n",
       "      <td>45115</td>\n",
       "      <td>12</td>\n",
       "      <td>11.0</td>\n",
       "      <td>Espesantes</td>\n",
       "      <td>26.0</td>\n",
       "      <td>124.0</td>\n",
       "      <td>228.0</td>\n",
       "      <td>9.0</td>\n",
       "      <td>QUILMES</td>\n",
       "      <td>BERNAL OESTE</td>\n",
       "      <td>Buenos Aires</td>\n",
       "      <td>AR</td>\n",
       "      <td>1671</td>\n",
       "      <td>2244</td>\n",
       "      <td>481967.0</td>\n",
       "    </tr>\n",
       "    <tr>\n",
       "      <th>107788</th>\n",
       "      <td>202108.0</td>\n",
       "      <td>2021-08-01</td>\n",
       "      <td>2021-08-04</td>\n",
       "      <td>20.0</td>\n",
       "      <td>45115</td>\n",
       "      <td>12</td>\n",
       "      <td>11.0</td>\n",
       "      <td>Espesantes</td>\n",
       "      <td>26.0</td>\n",
       "      <td>124.0</td>\n",
       "      <td>228.0</td>\n",
       "      <td>9.0</td>\n",
       "      <td>QUILMES</td>\n",
       "      <td>BERNAL OESTE</td>\n",
       "      <td>Buenos Aires</td>\n",
       "      <td>AR</td>\n",
       "      <td>1671</td>\n",
       "      <td>2244</td>\n",
       "      <td>491293.0</td>\n",
       "    </tr>\n",
       "    <tr>\n",
       "      <th>107789</th>\n",
       "      <td>202012.0</td>\n",
       "      <td>2020-12-01</td>\n",
       "      <td>2020-12-10</td>\n",
       "      <td>10.0</td>\n",
       "      <td>81024</td>\n",
       "      <td>60</td>\n",
       "      <td>14.0</td>\n",
       "      <td>Corrosivos</td>\n",
       "      <td>27.0</td>\n",
       "      <td>284.0</td>\n",
       "      <td>669.0</td>\n",
       "      <td>10.0</td>\n",
       "      <td>LA MATANZA</td>\n",
       "      <td>RAMOS MEJIA</td>\n",
       "      <td>Buenos Aires</td>\n",
       "      <td>AR</td>\n",
       "      <td>1614</td>\n",
       "      <td>2164</td>\n",
       "      <td>444289.0</td>\n",
       "    </tr>\n",
       "  </tbody>\n",
       "</table>\n",
       "<p>107790 rows × 19 columns</p>\n",
       "</div>"
      ],
      "text/plain": [
       "         Periodo       Fecha FechaPedido  PosPedido  CodMaterial  Cantidad  \\\n",
       "0       202111.0  2021-11-01  2021-11-01       10.0        81074       480   \n",
       "1       201802.0  2018-02-01  2018-02-15      930.0         8051        24   \n",
       "2       201808.0  2018-08-01  2018-08-15      130.0         8051        24   \n",
       "3       201811.0  2018-11-01  2018-11-16      790.0         8051        24   \n",
       "4       201901.0  2019-01-01  2019-01-21      790.0         8051       -24   \n",
       "...          ...         ...         ...        ...          ...       ...   \n",
       "107785  202106.0  2021-06-01  2021-06-24       10.0        45114        24   \n",
       "107786  202108.0  2021-08-01  2021-08-04       10.0        45114        24   \n",
       "107787  202106.0  2021-06-01  2021-06-24       20.0        45115        12   \n",
       "107788  202108.0  2021-08-01  2021-08-04       20.0        45115        12   \n",
       "107789  202012.0  2020-12-01  2020-12-10       10.0        81024        60   \n",
       "\n",
       "        CodGrupoArt GrupoArticulos  codGrupoMaterial2  codGrupoMaterial4  \\\n",
       "0              14.0     Corrosivos               27.0              284.0   \n",
       "1              11.0     Espesantes               15.0              139.0   \n",
       "2              11.0     Espesantes               15.0              139.0   \n",
       "3              11.0     Espesantes               15.0              139.0   \n",
       "4              11.0     Espesantes               15.0              139.0   \n",
       "...             ...            ...                ...                ...   \n",
       "107785         11.0     Espesantes               26.0              124.0   \n",
       "107786         11.0     Espesantes               26.0              124.0   \n",
       "107787         11.0     Espesantes               26.0              124.0   \n",
       "107788         11.0     Espesantes               26.0              124.0   \n",
       "107789         14.0     Corrosivos               27.0              284.0   \n",
       "\n",
       "        codGrupoMaterial5  Tipo_Precio     Departamento     Localidad  \\\n",
       "0                   674.0         10.0  LOMAS DE ZAMORA     TEMPERLEY   \n",
       "1                   291.0          1.0   TERCERO ARRIBA         OLIVA   \n",
       "2                   291.0          1.0   TERCERO ARRIBA         OLIVA   \n",
       "3                   291.0          1.0   TERCERO ARRIBA         OLIVA   \n",
       "4                   291.0          1.0   TERCERO ARRIBA         OLIVA   \n",
       "...                   ...          ...              ...           ...   \n",
       "107785              228.0          9.0          QUILMES  BERNAL OESTE   \n",
       "107786              228.0          9.0          QUILMES  BERNAL OESTE   \n",
       "107787              228.0          9.0          QUILMES  BERNAL OESTE   \n",
       "107788              228.0          9.0          QUILMES  BERNAL OESTE   \n",
       "107789              669.0         10.0       LA MATANZA   RAMOS MEJIA   \n",
       "\n",
       "           Provincia Pais  CodCliente_of  CodSucCliente_of  NroDocPedido  \n",
       "0       Buenos Aires   AR              1                 1      514585.0  \n",
       "1            Córdoba   AR              2                 2      232161.0  \n",
       "2            Córdoba   AR              2                 2      260497.0  \n",
       "3            Córdoba   AR              2                 2      281670.0  \n",
       "4            Córdoba   AR              2                 2      281670.0  \n",
       "...              ...  ...            ...               ...           ...  \n",
       "107785  Buenos Aires   AR           1671              2244      481967.0  \n",
       "107786  Buenos Aires   AR           1671              2244      491293.0  \n",
       "107787  Buenos Aires   AR           1671              2244      481967.0  \n",
       "107788  Buenos Aires   AR           1671              2244      491293.0  \n",
       "107789  Buenos Aires   AR           1614              2164      444289.0  \n",
       "\n",
       "[107790 rows x 19 columns]"
      ]
     },
     "execution_count": 41,
     "metadata": {},
     "output_type": "execute_result"
    }
   ],
   "source": [
    "final_df_filtered = final_df.copy()\n",
    "final_df_filtered.drop(columns=['Unnamed: 0.1', 'Unnamed: 0'], inplace=True)\n",
    "final_df_filtered"
   ]
  },
  {
   "cell_type": "code",
   "execution_count": 42,
   "metadata": {},
   "outputs": [
    {
     "data": {
      "text/html": [
       "<div>\n",
       "<style scoped>\n",
       "    .dataframe tbody tr th:only-of-type {\n",
       "        vertical-align: middle;\n",
       "    }\n",
       "\n",
       "    .dataframe tbody tr th {\n",
       "        vertical-align: top;\n",
       "    }\n",
       "\n",
       "    .dataframe thead th {\n",
       "        text-align: right;\n",
       "    }\n",
       "</style>\n",
       "<table border=\"1\" class=\"dataframe\">\n",
       "  <thead>\n",
       "    <tr style=\"text-align: right;\">\n",
       "      <th></th>\n",
       "      <th>Periodo</th>\n",
       "      <th>Fecha</th>\n",
       "      <th>FechaPedido</th>\n",
       "      <th>PosPedido</th>\n",
       "      <th>CodMaterial</th>\n",
       "      <th>Cantidad</th>\n",
       "      <th>CodGrupoArt</th>\n",
       "      <th>GrupoArticulos</th>\n",
       "      <th>codGrupoMaterial2</th>\n",
       "      <th>codGrupoMaterial4</th>\n",
       "      <th>codGrupoMaterial5</th>\n",
       "      <th>Tipo_Precio</th>\n",
       "      <th>Departamento</th>\n",
       "      <th>Localidad</th>\n",
       "      <th>Provincia</th>\n",
       "      <th>Pais</th>\n",
       "      <th>CodCliente_of</th>\n",
       "      <th>CodSucCliente_of</th>\n",
       "      <th>NroDocPedido</th>\n",
       "    </tr>\n",
       "  </thead>\n",
       "  <tbody>\n",
       "    <tr>\n",
       "      <th>107789</th>\n",
       "      <td>202012.0</td>\n",
       "      <td>2020-12-01</td>\n",
       "      <td>2020-12-10</td>\n",
       "      <td>10.0</td>\n",
       "      <td>81024</td>\n",
       "      <td>60</td>\n",
       "      <td>14.0</td>\n",
       "      <td>Corrosivos</td>\n",
       "      <td>27.0</td>\n",
       "      <td>284.0</td>\n",
       "      <td>669.0</td>\n",
       "      <td>10.0</td>\n",
       "      <td>LA MATANZA</td>\n",
       "      <td>RAMOS MEJIA</td>\n",
       "      <td>Buenos Aires</td>\n",
       "      <td>AR</td>\n",
       "      <td>1614</td>\n",
       "      <td>2164</td>\n",
       "      <td>444289.0</td>\n",
       "    </tr>\n",
       "  </tbody>\n",
       "</table>\n",
       "</div>"
      ],
      "text/plain": [
       "         Periodo       Fecha FechaPedido  PosPedido  CodMaterial  Cantidad  \\\n",
       "107789  202012.0  2020-12-01  2020-12-10       10.0        81024        60   \n",
       "\n",
       "        CodGrupoArt GrupoArticulos  codGrupoMaterial2  codGrupoMaterial4  \\\n",
       "107789         14.0     Corrosivos               27.0              284.0   \n",
       "\n",
       "        codGrupoMaterial5  Tipo_Precio Departamento    Localidad  \\\n",
       "107789              669.0         10.0   LA MATANZA  RAMOS MEJIA   \n",
       "\n",
       "           Provincia Pais  CodCliente_of  CodSucCliente_of  NroDocPedido  \n",
       "107789  Buenos Aires   AR           1614              2164      444289.0  "
      ]
     },
     "execution_count": 42,
     "metadata": {},
     "output_type": "execute_result"
    }
   ],
   "source": [
    "final_df_filtered[final_df_filtered.duplicated()]"
   ]
  },
  {
   "cell_type": "markdown",
   "metadata": {},
   "source": [
    "***Encontramoms que tenemos una sola fila duplicada. Ademas, al eliminar este duplicado, el dataframe queda con la cantidad de filas correcta.Eliminemos esta fila:***"
   ]
  },
  {
   "cell_type": "code",
   "execution_count": 43,
   "metadata": {
    "colab": {
     "base_uri": "https://localhost:8080/",
     "height": 661
    },
    "id": "UKrTMuutHGd6",
    "outputId": "4b9a0956-4619-45a0-f8ac-30055fc06afd"
   },
   "outputs": [
    {
     "data": {
      "text/plain": [
       "107789"
      ]
     },
     "execution_count": 43,
     "metadata": {},
     "output_type": "execute_result"
    }
   ],
   "source": [
    "df_clean = final_df_filtered.drop_duplicates() # Eliminamos duplicados\n",
    "len(df_clean)"
   ]
  },
  {
   "cell_type": "markdown",
   "metadata": {
    "id": "a2HQjq3XHGd-"
   },
   "source": [
    "### 3 - Verificar si existen datos faltantes\n"
   ]
  },
  {
   "cell_type": "code",
   "execution_count": 44,
   "metadata": {
    "colab": {
     "base_uri": "https://localhost:8080/",
     "height": 540
    },
    "id": "gw2P5SbPHGd_",
    "outputId": "1933c617-8e1f-4b11-88f6-26609391e2cf"
   },
   "outputs": [
    {
     "data": {
      "text/plain": [
       "<Axes: >"
      ]
     },
     "execution_count": 44,
     "metadata": {},
     "output_type": "execute_result"
    },
    {
     "data": {
      "image/png": "[encoded data removed]",
      "text/plain": [
       "<Figure size 2500x1000 with 3 Axes>"
      ]
     },
     "metadata": {},
     "output_type": "display_data"
    }
   ],
   "source": [
    "msno.bar(df_clean)"
   ]
  },
  {
   "cell_type": "markdown",
   "metadata": {
    "id": "NWZBvdLwjF72"
   },
   "source": [
    "***Observemos la matrix de missingno, para ver si podemos encontrar alguna relacion de los datos faltantes:***"
   ]
  },
  {
   "cell_type": "code",
   "execution_count": 45,
   "metadata": {},
   "outputs": [
    {
     "data": {
      "text/plain": [
       "<Axes: >"
      ]
     },
     "execution_count": 45,
     "metadata": {},
     "output_type": "execute_result"
    },
    {
     "data": {
      "image/png": "[encoded data removed]",
      "text/plain": [
       "<Figure size 1500x800 with 2 Axes>"
      ]
     },
     "metadata": {},
     "output_type": "display_data"
    }
   ],
   "source": [
    "msno.matrix(df_clean, figsize=(15, 8))"
   ]
  },
  {
   "cell_type": "markdown",
   "metadata": {},
   "source": [
    "***A simple vista no podemos encontrar una correlacion entre los datos faltantes.***\n",
    "***Obtengamos la matriz de correlacion:*** "
   ]
  },
  {
   "cell_type": "code",
   "execution_count": 46,
   "metadata": {},
   "outputs": [
    {
     "data": {
      "image/png": "[encoded data removed]",
      "text/plain": [
       "<Figure size 1000x500 with 2 Axes>"
      ]
     },
     "metadata": {},
     "output_type": "display_data"
    }
   ],
   "source": [
    "msno.heatmap(df_clean, cmap=\"RdYlGn\", figsize=(10,5), fontsize=12);"
   ]
  },
  {
   "cell_type": "markdown",
   "metadata": {},
   "source": [
    "***Vemos que no existe correlacion de datos faltantes entre las dos columnas.***"
   ]
  },
  {
   "cell_type": "markdown",
   "metadata": {},
   "source": [
    "***Observemos si encontramos alguna correlacion entre los datos faltantes y algunas categorias o fechas:***"
   ]
  },
  {
   "cell_type": "code",
   "execution_count": 47,
   "metadata": {},
   "outputs": [
    {
     "data": {
      "text/plain": [
       "GrupoArticulos  codGrupoMaterial2\n",
       "Corrosivos      27.0                 19491\n",
       "                NaN                   1913\n",
       "Espesantes      15.0                 40833\n",
       "                26.0                 12295\n",
       "                NaN                   5635\n",
       "Name: codGrupoMaterial2, dtype: int64"
      ]
     },
     "execution_count": 47,
     "metadata": {},
     "output_type": "execute_result"
    }
   ],
   "source": [
    "df_clean.groupby('GrupoArticulos')['codGrupoMaterial2'].value_counts(dropna=False)"
   ]
  },
  {
   "cell_type": "markdown",
   "metadata": {},
   "source": [
    "***Concluimos que los datos falantes de codGrupoMaterial2 no dependen del GrupoArticulo***"
   ]
  },
  {
   "cell_type": "markdown",
   "metadata": {},
   "source": [
    "***Veamos por provincia:***"
   ]
  },
  {
   "cell_type": "code",
   "execution_count": 48,
   "metadata": {},
   "outputs": [
    {
     "data": {
      "text/html": [
       "<div>\n",
       "<style scoped>\n",
       "    .dataframe tbody tr th:only-of-type {\n",
       "        vertical-align: middle;\n",
       "    }\n",
       "\n",
       "    .dataframe tbody tr th {\n",
       "        vertical-align: top;\n",
       "    }\n",
       "\n",
       "    .dataframe thead th {\n",
       "        text-align: right;\n",
       "    }\n",
       "</style>\n",
       "<table border=\"1\" class=\"dataframe\">\n",
       "  <thead>\n",
       "    <tr style=\"text-align: right;\">\n",
       "      <th></th>\n",
       "      <th>Provincia</th>\n",
       "      <th>CodGrupoArt</th>\n",
       "      <th>GA_null_count</th>\n",
       "      <th>GA_total_count</th>\n",
       "      <th>percent_missing</th>\n",
       "    </tr>\n",
       "  </thead>\n",
       "  <tbody>\n",
       "    <tr>\n",
       "      <th>0</th>\n",
       "      <td>Buenos Aires</td>\n",
       "      <td>11.0</td>\n",
       "      <td>5626</td>\n",
       "      <td>16354</td>\n",
       "      <td>34.40</td>\n",
       "    </tr>\n",
       "    <tr>\n",
       "      <th>1</th>\n",
       "      <td>Buenos Aires</td>\n",
       "      <td>14.0</td>\n",
       "      <td>3325</td>\n",
       "      <td>9774</td>\n",
       "      <td>34.02</td>\n",
       "    </tr>\n",
       "    <tr>\n",
       "      <th>2</th>\n",
       "      <td>Capital Federal</td>\n",
       "      <td>11.0</td>\n",
       "      <td>1097</td>\n",
       "      <td>3423</td>\n",
       "      <td>32.05</td>\n",
       "    </tr>\n",
       "    <tr>\n",
       "      <th>3</th>\n",
       "      <td>Capital Federal</td>\n",
       "      <td>14.0</td>\n",
       "      <td>874</td>\n",
       "      <td>2586</td>\n",
       "      <td>33.80</td>\n",
       "    </tr>\n",
       "    <tr>\n",
       "      <th>4</th>\n",
       "      <td>Catamarca</td>\n",
       "      <td>11.0</td>\n",
       "      <td>117</td>\n",
       "      <td>292</td>\n",
       "      <td>40.07</td>\n",
       "    </tr>\n",
       "    <tr>\n",
       "      <th>5</th>\n",
       "      <td>Catamarca</td>\n",
       "      <td>14.0</td>\n",
       "      <td>26</td>\n",
       "      <td>68</td>\n",
       "      <td>38.24</td>\n",
       "    </tr>\n",
       "    <tr>\n",
       "      <th>6</th>\n",
       "      <td>Central</td>\n",
       "      <td>11.0</td>\n",
       "      <td>14</td>\n",
       "      <td>29</td>\n",
       "      <td>48.28</td>\n",
       "    </tr>\n",
       "    <tr>\n",
       "      <th>7</th>\n",
       "      <td>Chaco</td>\n",
       "      <td>11.0</td>\n",
       "      <td>505</td>\n",
       "      <td>1453</td>\n",
       "      <td>34.76</td>\n",
       "    </tr>\n",
       "    <tr>\n",
       "      <th>8</th>\n",
       "      <td>Chaco</td>\n",
       "      <td>14.0</td>\n",
       "      <td>112</td>\n",
       "      <td>339</td>\n",
       "      <td>33.04</td>\n",
       "    </tr>\n",
       "    <tr>\n",
       "      <th>9</th>\n",
       "      <td>Chubut</td>\n",
       "      <td>11.0</td>\n",
       "      <td>181</td>\n",
       "      <td>478</td>\n",
       "      <td>37.87</td>\n",
       "    </tr>\n",
       "  </tbody>\n",
       "</table>\n",
       "</div>"
      ],
      "text/plain": [
       "         Provincia  CodGrupoArt  GA_null_count  GA_total_count  \\\n",
       "0     Buenos Aires         11.0           5626           16354   \n",
       "1     Buenos Aires         14.0           3325            9774   \n",
       "2  Capital Federal         11.0           1097            3423   \n",
       "3  Capital Federal         14.0            874            2586   \n",
       "4        Catamarca         11.0            117             292   \n",
       "5        Catamarca         14.0             26              68   \n",
       "6          Central         11.0             14              29   \n",
       "7            Chaco         11.0            505            1453   \n",
       "8            Chaco         14.0            112             339   \n",
       "9           Chubut         11.0            181             478   \n",
       "\n",
       "   percent_missing  \n",
       "0            34.40  \n",
       "1            34.02  \n",
       "2            32.05  \n",
       "3            33.80  \n",
       "4            40.07  \n",
       "5            38.24  \n",
       "6            48.28  \n",
       "7            34.76  \n",
       "8            33.04  \n",
       "9            37.87  "
      ]
     },
     "execution_count": 48,
     "metadata": {},
     "output_type": "execute_result"
    }
   ],
   "source": [
    "null_per_province = df_clean.groupby(['Provincia', 'CodGrupoArt'])['GrupoArticulos'].agg(\n",
    "                                                                            [('GA_null_count', lambda x: x.isnull().sum()),\n",
    "                                                                             ('GA_total_count', 'count')]).reset_index()\n",
    "\n",
    "null_per_province['percent_missing'] = round((null_per_province['GA_null_count']/null_per_province['GA_total_count'])*100,2)\n",
    "null_per_province.head(10)"
   ]
  },
  {
   "cell_type": "markdown",
   "metadata": {},
   "source": [
    "***La mayoria de las provincias tiene entre 20% y 30% de datos faltantes, no existe dependencia con la provincia. La unica excepcion es Central, pero esta sesgado por la poca cantidad de compras que tiene***"
   ]
  },
  {
   "cell_type": "markdown",
   "metadata": {},
   "source": [
    "***Veamos si los valores faltantes tienen relacion con los GrupoArticulos:***"
   ]
  },
  {
   "cell_type": "code",
   "execution_count": 49,
   "metadata": {},
   "outputs": [
    {
     "data": {
      "text/plain": [
       "CodGrupoArt  GrupoArticulos\n",
       "11.0         Espesantes        58763\n",
       "             NaN               20339\n",
       "14.0         Corrosivos        21404\n",
       "             NaN                7283\n",
       "Name: GrupoArticulos, dtype: int64"
      ]
     },
     "execution_count": 49,
     "metadata": {},
     "output_type": "execute_result"
    }
   ],
   "source": [
    "df_clean.groupby('CodGrupoArt')['GrupoArticulos'].value_counts(dropna=False)"
   ]
  },
  {
   "cell_type": "code",
   "execution_count": 50,
   "metadata": {},
   "outputs": [
    {
     "name": "stdout",
     "output_type": "stream",
     "text": [
      "El porcentaje de valores faltantes para los espesantes es %25.71, y para los corrosivos es %25.39\n"
     ]
    }
   ],
   "source": [
    "eper = round((20339 / 79102) * 100, 2)\n",
    "cper = round((7283 / 28687) * 100, 2)\n",
    "print(f'El porcentaje de valores faltantes para los espesantes es %{eper}, y para los corrosivos es %{cper}')"
   ]
  },
  {
   "cell_type": "markdown",
   "metadata": {},
   "source": [
    "***No podemos concluir que los datos esten ligados a un solo GrupoArticulo.***"
   ]
  },
  {
   "cell_type": "code",
   "execution_count": 51,
   "metadata": {},
   "outputs": [
    {
     "data": {
      "text/html": [
       "<div>\n",
       "<style scoped>\n",
       "    .dataframe tbody tr th:only-of-type {\n",
       "        vertical-align: middle;\n",
       "    }\n",
       "\n",
       "    .dataframe tbody tr th {\n",
       "        vertical-align: top;\n",
       "    }\n",
       "\n",
       "    .dataframe thead th {\n",
       "        text-align: right;\n",
       "    }\n",
       "</style>\n",
       "<table border=\"1\" class=\"dataframe\">\n",
       "  <thead>\n",
       "    <tr style=\"text-align: right;\">\n",
       "      <th></th>\n",
       "      <th>Mes</th>\n",
       "      <th>null_values_count</th>\n",
       "      <th>total_values</th>\n",
       "      <th>percent_missing</th>\n",
       "    </tr>\n",
       "  </thead>\n",
       "  <tbody>\n",
       "    <tr>\n",
       "      <th>0</th>\n",
       "      <td>1</td>\n",
       "      <td>2038</td>\n",
       "      <td>5853</td>\n",
       "      <td>34.82</td>\n",
       "    </tr>\n",
       "    <tr>\n",
       "      <th>1</th>\n",
       "      <td>2</td>\n",
       "      <td>2184</td>\n",
       "      <td>6042</td>\n",
       "      <td>36.15</td>\n",
       "    </tr>\n",
       "    <tr>\n",
       "      <th>2</th>\n",
       "      <td>3</td>\n",
       "      <td>1965</td>\n",
       "      <td>5840</td>\n",
       "      <td>33.65</td>\n",
       "    </tr>\n",
       "    <tr>\n",
       "      <th>3</th>\n",
       "      <td>4</td>\n",
       "      <td>2302</td>\n",
       "      <td>6410</td>\n",
       "      <td>35.91</td>\n",
       "    </tr>\n",
       "    <tr>\n",
       "      <th>4</th>\n",
       "      <td>5</td>\n",
       "      <td>2145</td>\n",
       "      <td>6189</td>\n",
       "      <td>34.66</td>\n",
       "    </tr>\n",
       "    <tr>\n",
       "      <th>5</th>\n",
       "      <td>6</td>\n",
       "      <td>2225</td>\n",
       "      <td>6165</td>\n",
       "      <td>36.09</td>\n",
       "    </tr>\n",
       "    <tr>\n",
       "      <th>6</th>\n",
       "      <td>7</td>\n",
       "      <td>2385</td>\n",
       "      <td>6979</td>\n",
       "      <td>34.17</td>\n",
       "    </tr>\n",
       "    <tr>\n",
       "      <th>7</th>\n",
       "      <td>8</td>\n",
       "      <td>2720</td>\n",
       "      <td>8187</td>\n",
       "      <td>33.22</td>\n",
       "    </tr>\n",
       "    <tr>\n",
       "      <th>8</th>\n",
       "      <td>9</td>\n",
       "      <td>2536</td>\n",
       "      <td>7353</td>\n",
       "      <td>34.49</td>\n",
       "    </tr>\n",
       "    <tr>\n",
       "      <th>9</th>\n",
       "      <td>10</td>\n",
       "      <td>2899</td>\n",
       "      <td>8417</td>\n",
       "      <td>34.44</td>\n",
       "    </tr>\n",
       "    <tr>\n",
       "      <th>10</th>\n",
       "      <td>11</td>\n",
       "      <td>2248</td>\n",
       "      <td>6734</td>\n",
       "      <td>33.38</td>\n",
       "    </tr>\n",
       "    <tr>\n",
       "      <th>11</th>\n",
       "      <td>12</td>\n",
       "      <td>1975</td>\n",
       "      <td>5998</td>\n",
       "      <td>32.93</td>\n",
       "    </tr>\n",
       "  </tbody>\n",
       "</table>\n",
       "</div>"
      ],
      "text/plain": [
       "    Mes  null_values_count  total_values  percent_missing\n",
       "0     1               2038          5853            34.82\n",
       "1     2               2184          6042            36.15\n",
       "2     3               1965          5840            33.65\n",
       "3     4               2302          6410            35.91\n",
       "4     5               2145          6189            34.66\n",
       "5     6               2225          6165            36.09\n",
       "6     7               2385          6979            34.17\n",
       "7     8               2720          8187            33.22\n",
       "8     9               2536          7353            34.49\n",
       "9    10               2899          8417            34.44\n",
       "10   11               2248          6734            33.38\n",
       "11   12               1975          5998            32.93"
      ]
     },
     "execution_count": 51,
     "metadata": {},
     "output_type": "execute_result"
    }
   ],
   "source": [
    "df_clean = df_clean.copy()\n",
    "df_clean['Fecha'] = pd.to_datetime(df_clean['Fecha'])\n",
    "df_clean['FechaPedido'] = pd.to_datetime(df_clean['FechaPedido'])\n",
    "df_clean['Año'] = df_clean['Fecha'].dt.year\n",
    "df_clean['Mes'] = df_clean['Fecha'].dt.month\n",
    "month_missing_count = df_clean.groupby('Mes')['GrupoArticulos'].agg([('null_values_count', lambda x: x.isnull().sum()),\n",
    "                                                                     ('total_values', 'count')]).reset_index()\n",
    "month_missing_count['percent_missing'] = round(\n",
    "                                        (month_missing_count['null_values_count']/month_missing_count['total_values'])*100,2)\n",
    "month_missing_count"
   ]
  },
  {
   "cell_type": "markdown",
   "metadata": {},
   "source": [
    "***No existe relacion entre los meses y los datos faltantes***"
   ]
  },
  {
   "cell_type": "code",
   "execution_count": 52,
   "metadata": {},
   "outputs": [
    {
     "data": {
      "text/html": [
       "<div>\n",
       "<style scoped>\n",
       "    .dataframe tbody tr th:only-of-type {\n",
       "        vertical-align: middle;\n",
       "    }\n",
       "\n",
       "    .dataframe tbody tr th {\n",
       "        vertical-align: top;\n",
       "    }\n",
       "\n",
       "    .dataframe thead th {\n",
       "        text-align: right;\n",
       "    }\n",
       "</style>\n",
       "<table border=\"1\" class=\"dataframe\">\n",
       "  <thead>\n",
       "    <tr style=\"text-align: right;\">\n",
       "      <th></th>\n",
       "      <th>Año</th>\n",
       "      <th>null_values_count</th>\n",
       "      <th>total_values</th>\n",
       "      <th>percent_missing</th>\n",
       "    </tr>\n",
       "  </thead>\n",
       "  <tbody>\n",
       "    <tr>\n",
       "      <th>0</th>\n",
       "      <td>2018</td>\n",
       "      <td>5982</td>\n",
       "      <td>17615</td>\n",
       "      <td>33.96</td>\n",
       "    </tr>\n",
       "    <tr>\n",
       "      <th>1</th>\n",
       "      <td>2019</td>\n",
       "      <td>8003</td>\n",
       "      <td>23001</td>\n",
       "      <td>34.79</td>\n",
       "    </tr>\n",
       "    <tr>\n",
       "      <th>2</th>\n",
       "      <td>2020</td>\n",
       "      <td>7769</td>\n",
       "      <td>22689</td>\n",
       "      <td>34.24</td>\n",
       "    </tr>\n",
       "    <tr>\n",
       "      <th>3</th>\n",
       "      <td>2021</td>\n",
       "      <td>5868</td>\n",
       "      <td>16862</td>\n",
       "      <td>34.80</td>\n",
       "    </tr>\n",
       "  </tbody>\n",
       "</table>\n",
       "</div>"
      ],
      "text/plain": [
       "    Año  null_values_count  total_values  percent_missing\n",
       "0  2018               5982         17615            33.96\n",
       "1  2019               8003         23001            34.79\n",
       "2  2020               7769         22689            34.24\n",
       "3  2021               5868         16862            34.80"
      ]
     },
     "execution_count": 52,
     "metadata": {},
     "output_type": "execute_result"
    }
   ],
   "source": [
    "missing_year_count = df_clean.groupby('Año')['GrupoArticulos'].agg([('null_values_count', lambda x: x.isnull().sum()),\n",
    "                                                                    ('total_values', 'count')]).reset_index()\n",
    "missing_year_count['percent_missing'] = round(\n",
    "                                        (missing_year_count['null_values_count']/missing_year_count['total_values'])*100,2)\n",
    "missing_year_count"
   ]
  },
  {
   "cell_type": "markdown",
   "metadata": {},
   "source": [
    "***Vemos que los años tiene casi el mismo porcentaje de valores faltantes, no existe relacion entre estos dos***"
   ]
  },
  {
   "cell_type": "markdown",
   "metadata": {},
   "source": [
    "***Veamos para que combinaciones de codigos, se encuentran los valores faltantes:***"
   ]
  },
  {
   "cell_type": "code",
   "execution_count": 53,
   "metadata": {},
   "outputs": [
    {
     "data": {
      "text/html": [
       "<div>\n",
       "<style scoped>\n",
       "    .dataframe tbody tr th:only-of-type {\n",
       "        vertical-align: middle;\n",
       "    }\n",
       "\n",
       "    .dataframe tbody tr th {\n",
       "        vertical-align: top;\n",
       "    }\n",
       "\n",
       "    .dataframe thead tr th {\n",
       "        text-align: left;\n",
       "    }\n",
       "</style>\n",
       "<table border=\"1\" class=\"dataframe\">\n",
       "  <thead>\n",
       "    <tr>\n",
       "      <th></th>\n",
       "      <th>codGrupoMaterial5</th>\n",
       "      <th>codGrupoMaterial4</th>\n",
       "      <th colspan=\"3\" halign=\"left\">codGrupoMaterial2</th>\n",
       "      <th colspan=\"3\" halign=\"left\">GrupoArticulos</th>\n",
       "    </tr>\n",
       "    <tr>\n",
       "      <th></th>\n",
       "      <th></th>\n",
       "      <th></th>\n",
       "      <th>missing_values</th>\n",
       "      <th>full_count</th>\n",
       "      <th>missing_percent</th>\n",
       "      <th>missing_values</th>\n",
       "      <th>full_count</th>\n",
       "      <th>missing_percent</th>\n",
       "    </tr>\n",
       "  </thead>\n",
       "  <tbody>\n",
       "    <tr>\n",
       "      <th>0</th>\n",
       "      <td>228.0</td>\n",
       "      <td>124.0</td>\n",
       "      <td>48</td>\n",
       "      <td>559</td>\n",
       "      <td>8.586762</td>\n",
       "      <td>141</td>\n",
       "      <td>466</td>\n",
       "      <td>30.257511</td>\n",
       "    </tr>\n",
       "    <tr>\n",
       "      <th>1</th>\n",
       "      <td>229.0</td>\n",
       "      <td>124.0</td>\n",
       "      <td>22</td>\n",
       "      <td>191</td>\n",
       "      <td>11.518325</td>\n",
       "      <td>55</td>\n",
       "      <td>158</td>\n",
       "      <td>34.810127</td>\n",
       "    </tr>\n",
       "    <tr>\n",
       "      <th>2</th>\n",
       "      <td>231.0</td>\n",
       "      <td>174.0</td>\n",
       "      <td>0</td>\n",
       "      <td>1</td>\n",
       "      <td>0.000000</td>\n",
       "      <td>0</td>\n",
       "      <td>1</td>\n",
       "      <td>0.000000</td>\n",
       "    </tr>\n",
       "    <tr>\n",
       "      <th>3</th>\n",
       "      <td>232.0</td>\n",
       "      <td>124.0</td>\n",
       "      <td>19</td>\n",
       "      <td>166</td>\n",
       "      <td>11.445783</td>\n",
       "      <td>50</td>\n",
       "      <td>135</td>\n",
       "      <td>37.037037</td>\n",
       "    </tr>\n",
       "    <tr>\n",
       "      <th>4</th>\n",
       "      <td>276.0</td>\n",
       "      <td>128.0</td>\n",
       "      <td>2490</td>\n",
       "      <td>23472</td>\n",
       "      <td>10.608384</td>\n",
       "      <td>6664</td>\n",
       "      <td>19298</td>\n",
       "      <td>34.532076</td>\n",
       "    </tr>\n",
       "    <tr>\n",
       "      <th>5</th>\n",
       "      <td>277.0</td>\n",
       "      <td>333.0</td>\n",
       "      <td>160</td>\n",
       "      <td>1256</td>\n",
       "      <td>12.738854</td>\n",
       "      <td>361</td>\n",
       "      <td>1055</td>\n",
       "      <td>34.218009</td>\n",
       "    </tr>\n",
       "    <tr>\n",
       "      <th>6</th>\n",
       "      <td>278.0</td>\n",
       "      <td>129.0</td>\n",
       "      <td>214</td>\n",
       "      <td>2099</td>\n",
       "      <td>10.195331</td>\n",
       "      <td>616</td>\n",
       "      <td>1697</td>\n",
       "      <td>36.299352</td>\n",
       "    </tr>\n",
       "    <tr>\n",
       "      <th>7</th>\n",
       "      <td>279.0</td>\n",
       "      <td>130.0</td>\n",
       "      <td>101</td>\n",
       "      <td>848</td>\n",
       "      <td>11.910377</td>\n",
       "      <td>248</td>\n",
       "      <td>701</td>\n",
       "      <td>35.378031</td>\n",
       "    </tr>\n",
       "    <tr>\n",
       "      <th>8</th>\n",
       "      <td>280.0</td>\n",
       "      <td>131.0</td>\n",
       "      <td>13</td>\n",
       "      <td>158</td>\n",
       "      <td>8.227848</td>\n",
       "      <td>43</td>\n",
       "      <td>128</td>\n",
       "      <td>33.593750</td>\n",
       "    </tr>\n",
       "    <tr>\n",
       "      <th>9</th>\n",
       "      <td>281.0</td>\n",
       "      <td>132.0</td>\n",
       "      <td>15</td>\n",
       "      <td>103</td>\n",
       "      <td>14.563107</td>\n",
       "      <td>28</td>\n",
       "      <td>90</td>\n",
       "      <td>31.111111</td>\n",
       "    </tr>\n",
       "  </tbody>\n",
       "</table>\n",
       "</div>"
      ],
      "text/plain": [
       "  codGrupoMaterial5 codGrupoMaterial4 codGrupoMaterial2             \\\n",
       "                                         missing_values full_count   \n",
       "0             228.0             124.0                48        559   \n",
       "1             229.0             124.0                22        191   \n",
       "2             231.0             174.0                 0          1   \n",
       "3             232.0             124.0                19        166   \n",
       "4             276.0             128.0              2490      23472   \n",
       "5             277.0             333.0               160       1256   \n",
       "6             278.0             129.0               214       2099   \n",
       "7             279.0             130.0               101        848   \n",
       "8             280.0             131.0                13        158   \n",
       "9             281.0             132.0                15        103   \n",
       "\n",
       "                  GrupoArticulos                             \n",
       "  missing_percent missing_values full_count missing_percent  \n",
       "0        8.586762            141        466       30.257511  \n",
       "1       11.518325             55        158       34.810127  \n",
       "2        0.000000              0          1        0.000000  \n",
       "3       11.445783             50        135       37.037037  \n",
       "4       10.608384           6664      19298       34.532076  \n",
       "5       12.738854            361       1055       34.218009  \n",
       "6       10.195331            616       1697       36.299352  \n",
       "7       11.910377            248        701       35.378031  \n",
       "8        8.227848             43        128       33.593750  \n",
       "9       14.563107             28         90       31.111111  "
      ]
     },
     "execution_count": 53,
     "metadata": {},
     "output_type": "execute_result"
    }
   ],
   "source": [
    "grouped_cod_5_4 = df_clean.groupby(['codGrupoMaterial5','codGrupoMaterial4'])[['codGrupoMaterial2', 'GrupoArticulos']].agg(\n",
    "                                                    [('missing_values', lambda x: x.isnull().sum()),\n",
    "                                                     ('full_count', 'count'),\n",
    "                                                     ('missing_percent', lambda x: x.isnull().sum() / x.count() * 100)]\n",
    "                                                     ).reset_index()\n",
    "grouped_cod_5_4.head(10)"
   ]
  },
  {
   "cell_type": "markdown",
   "metadata": {},
   "source": [
    "***Veamos si los valores faltantes se relacionan con alguna categoria del codGrupoMaterial4:***"
   ]
  },
  {
   "cell_type": "code",
   "execution_count": 54,
   "metadata": {},
   "outputs": [
    {
     "data": {
      "text/html": [
       "<div>\n",
       "<style scoped>\n",
       "    .dataframe tbody tr th:only-of-type {\n",
       "        vertical-align: middle;\n",
       "    }\n",
       "\n",
       "    .dataframe tbody tr th {\n",
       "        vertical-align: top;\n",
       "    }\n",
       "\n",
       "    .dataframe thead tr th {\n",
       "        text-align: left;\n",
       "    }\n",
       "</style>\n",
       "<table border=\"1\" class=\"dataframe\">\n",
       "  <thead>\n",
       "    <tr>\n",
       "      <th></th>\n",
       "      <th>codGrupoMaterial4</th>\n",
       "      <th colspan=\"3\" halign=\"left\">codGrupoMaterial2</th>\n",
       "      <th colspan=\"3\" halign=\"left\">GrupoArticulos</th>\n",
       "    </tr>\n",
       "    <tr>\n",
       "      <th></th>\n",
       "      <th></th>\n",
       "      <th>missing_values</th>\n",
       "      <th>full_count</th>\n",
       "      <th>missing_percent</th>\n",
       "      <th>missing_values</th>\n",
       "      <th>full_count</th>\n",
       "      <th>missing_percent</th>\n",
       "    </tr>\n",
       "  </thead>\n",
       "  <tbody>\n",
       "    <tr>\n",
       "      <th>0</th>\n",
       "      <td>124.0</td>\n",
       "      <td>89</td>\n",
       "      <td>916</td>\n",
       "      <td>9.716157</td>\n",
       "      <td>246</td>\n",
       "      <td>759</td>\n",
       "      <td>32.411067</td>\n",
       "    </tr>\n",
       "    <tr>\n",
       "      <th>1</th>\n",
       "      <td>128.0</td>\n",
       "      <td>2490</td>\n",
       "      <td>23472</td>\n",
       "      <td>10.608384</td>\n",
       "      <td>6664</td>\n",
       "      <td>19298</td>\n",
       "      <td>34.532076</td>\n",
       "    </tr>\n",
       "    <tr>\n",
       "      <th>2</th>\n",
       "      <td>129.0</td>\n",
       "      <td>214</td>\n",
       "      <td>2099</td>\n",
       "      <td>10.195331</td>\n",
       "      <td>616</td>\n",
       "      <td>1697</td>\n",
       "      <td>36.299352</td>\n",
       "    </tr>\n",
       "    <tr>\n",
       "      <th>3</th>\n",
       "      <td>130.0</td>\n",
       "      <td>101</td>\n",
       "      <td>848</td>\n",
       "      <td>11.910377</td>\n",
       "      <td>248</td>\n",
       "      <td>701</td>\n",
       "      <td>35.378031</td>\n",
       "    </tr>\n",
       "    <tr>\n",
       "      <th>4</th>\n",
       "      <td>131.0</td>\n",
       "      <td>13</td>\n",
       "      <td>158</td>\n",
       "      <td>8.227848</td>\n",
       "      <td>43</td>\n",
       "      <td>128</td>\n",
       "      <td>33.593750</td>\n",
       "    </tr>\n",
       "    <tr>\n",
       "      <th>5</th>\n",
       "      <td>132.0</td>\n",
       "      <td>388</td>\n",
       "      <td>3846</td>\n",
       "      <td>10.088404</td>\n",
       "      <td>1065</td>\n",
       "      <td>3169</td>\n",
       "      <td>33.606816</td>\n",
       "    </tr>\n",
       "    <tr>\n",
       "      <th>6</th>\n",
       "      <td>134.0</td>\n",
       "      <td>712</td>\n",
       "      <td>6723</td>\n",
       "      <td>10.590510</td>\n",
       "      <td>1911</td>\n",
       "      <td>5524</td>\n",
       "      <td>34.594497</td>\n",
       "    </tr>\n",
       "    <tr>\n",
       "      <th>7</th>\n",
       "      <td>135.0</td>\n",
       "      <td>306</td>\n",
       "      <td>2773</td>\n",
       "      <td>11.034980</td>\n",
       "      <td>826</td>\n",
       "      <td>2253</td>\n",
       "      <td>36.662228</td>\n",
       "    </tr>\n",
       "    <tr>\n",
       "      <th>8</th>\n",
       "      <td>136.0</td>\n",
       "      <td>358</td>\n",
       "      <td>3320</td>\n",
       "      <td>10.783133</td>\n",
       "      <td>1004</td>\n",
       "      <td>2674</td>\n",
       "      <td>37.546746</td>\n",
       "    </tr>\n",
       "    <tr>\n",
       "      <th>9</th>\n",
       "      <td>137.0</td>\n",
       "      <td>206</td>\n",
       "      <td>1836</td>\n",
       "      <td>11.220044</td>\n",
       "      <td>522</td>\n",
       "      <td>1520</td>\n",
       "      <td>34.342105</td>\n",
       "    </tr>\n",
       "    <tr>\n",
       "      <th>10</th>\n",
       "      <td>138.0</td>\n",
       "      <td>66</td>\n",
       "      <td>487</td>\n",
       "      <td>13.552361</td>\n",
       "      <td>136</td>\n",
       "      <td>417</td>\n",
       "      <td>32.613909</td>\n",
       "    </tr>\n",
       "    <tr>\n",
       "      <th>11</th>\n",
       "      <td>139.0</td>\n",
       "      <td>761</td>\n",
       "      <td>7441</td>\n",
       "      <td>10.227120</td>\n",
       "      <td>2180</td>\n",
       "      <td>6022</td>\n",
       "      <td>36.200598</td>\n",
       "    </tr>\n",
       "    <tr>\n",
       "      <th>12</th>\n",
       "      <td>140.0</td>\n",
       "      <td>96</td>\n",
       "      <td>913</td>\n",
       "      <td>10.514786</td>\n",
       "      <td>261</td>\n",
       "      <td>748</td>\n",
       "      <td>34.893048</td>\n",
       "    </tr>\n",
       "    <tr>\n",
       "      <th>13</th>\n",
       "      <td>173.0</td>\n",
       "      <td>29</td>\n",
       "      <td>303</td>\n",
       "      <td>9.570957</td>\n",
       "      <td>82</td>\n",
       "      <td>250</td>\n",
       "      <td>32.800000</td>\n",
       "    </tr>\n",
       "    <tr>\n",
       "      <th>14</th>\n",
       "      <td>174.0</td>\n",
       "      <td>0</td>\n",
       "      <td>1</td>\n",
       "      <td>0.000000</td>\n",
       "      <td>0</td>\n",
       "      <td>1</td>\n",
       "      <td>0.000000</td>\n",
       "    </tr>\n",
       "    <tr>\n",
       "      <th>15</th>\n",
       "      <td>281.0</td>\n",
       "      <td>1264</td>\n",
       "      <td>12353</td>\n",
       "      <td>10.232332</td>\n",
       "      <td>3387</td>\n",
       "      <td>10230</td>\n",
       "      <td>33.108504</td>\n",
       "    </tr>\n",
       "    <tr>\n",
       "      <th>16</th>\n",
       "      <td>282.0</td>\n",
       "      <td>136</td>\n",
       "      <td>1327</td>\n",
       "      <td>10.248681</td>\n",
       "      <td>379</td>\n",
       "      <td>1084</td>\n",
       "      <td>34.963100</td>\n",
       "    </tr>\n",
       "    <tr>\n",
       "      <th>17</th>\n",
       "      <td>283.0</td>\n",
       "      <td>140</td>\n",
       "      <td>1501</td>\n",
       "      <td>9.327115</td>\n",
       "      <td>408</td>\n",
       "      <td>1233</td>\n",
       "      <td>33.090024</td>\n",
       "    </tr>\n",
       "    <tr>\n",
       "      <th>18</th>\n",
       "      <td>284.0</td>\n",
       "      <td>2052</td>\n",
       "      <td>20590</td>\n",
       "      <td>9.966003</td>\n",
       "      <td>5729</td>\n",
       "      <td>16913</td>\n",
       "      <td>33.873352</td>\n",
       "    </tr>\n",
       "    <tr>\n",
       "      <th>19</th>\n",
       "      <td>285.0</td>\n",
       "      <td>579</td>\n",
       "      <td>5466</td>\n",
       "      <td>10.592755</td>\n",
       "      <td>1554</td>\n",
       "      <td>4491</td>\n",
       "      <td>34.602538</td>\n",
       "    </tr>\n",
       "    <tr>\n",
       "      <th>20</th>\n",
       "      <td>333.0</td>\n",
       "      <td>160</td>\n",
       "      <td>1256</td>\n",
       "      <td>12.738854</td>\n",
       "      <td>361</td>\n",
       "      <td>1055</td>\n",
       "      <td>34.218009</td>\n",
       "    </tr>\n",
       "  </tbody>\n",
       "</table>\n",
       "</div>"
      ],
      "text/plain": [
       "   codGrupoMaterial4 codGrupoMaterial2                             \\\n",
       "                        missing_values full_count missing_percent   \n",
       "0              124.0                89        916        9.716157   \n",
       "1              128.0              2490      23472       10.608384   \n",
       "2              129.0               214       2099       10.195331   \n",
       "3              130.0               101        848       11.910377   \n",
       "4              131.0                13        158        8.227848   \n",
       "5              132.0               388       3846       10.088404   \n",
       "6              134.0               712       6723       10.590510   \n",
       "7              135.0               306       2773       11.034980   \n",
       "8              136.0               358       3320       10.783133   \n",
       "9              137.0               206       1836       11.220044   \n",
       "10             138.0                66        487       13.552361   \n",
       "11             139.0               761       7441       10.227120   \n",
       "12             140.0                96        913       10.514786   \n",
       "13             173.0                29        303        9.570957   \n",
       "14             174.0                 0          1        0.000000   \n",
       "15             281.0              1264      12353       10.232332   \n",
       "16             282.0               136       1327       10.248681   \n",
       "17             283.0               140       1501        9.327115   \n",
       "18             284.0              2052      20590        9.966003   \n",
       "19             285.0               579       5466       10.592755   \n",
       "20             333.0               160       1256       12.738854   \n",
       "\n",
       "   GrupoArticulos                             \n",
       "   missing_values full_count missing_percent  \n",
       "0             246        759       32.411067  \n",
       "1            6664      19298       34.532076  \n",
       "2             616       1697       36.299352  \n",
       "3             248        701       35.378031  \n",
       "4              43        128       33.593750  \n",
       "5            1065       3169       33.606816  \n",
       "6            1911       5524       34.594497  \n",
       "7             826       2253       36.662228  \n",
       "8            1004       2674       37.546746  \n",
       "9             522       1520       34.342105  \n",
       "10            136        417       32.613909  \n",
       "11           2180       6022       36.200598  \n",
       "12            261        748       34.893048  \n",
       "13             82        250       32.800000  \n",
       "14              0          1        0.000000  \n",
       "15           3387      10230       33.108504  \n",
       "16            379       1084       34.963100  \n",
       "17            408       1233       33.090024  \n",
       "18           5729      16913       33.873352  \n",
       "19           1554       4491       34.602538  \n",
       "20            361       1055       34.218009  "
      ]
     },
     "execution_count": 54,
     "metadata": {},
     "output_type": "execute_result"
    }
   ],
   "source": [
    "only_cod4 = df_clean.groupby(['codGrupoMaterial4'])[['codGrupoMaterial2', 'GrupoArticulos']].agg([\n",
    "                                            ('missing_values', lambda x: x.isnull().sum()),\n",
    "                                            ('full_count', 'count'),\n",
    "                                            ('missing_percent', lambda x: x.isnull().sum() / x.count() * 100)\n",
    "                                            ]).reset_index()\n",
    "only_cod4"
   ]
  },
  {
   "cell_type": "markdown",
   "metadata": {},
   "source": [
    "***Vemos que no tienen relacion los datos faltantes con alguna categoria.***\n",
    "\n",
    "***Veamos si los valores faltantes se relacionan con alguna categoria del codGrupoMaterial5:***"
   ]
  },
  {
   "cell_type": "code",
   "execution_count": 55,
   "metadata": {},
   "outputs": [
    {
     "data": {
      "text/html": [
       "<div>\n",
       "<style scoped>\n",
       "    .dataframe tbody tr th:only-of-type {\n",
       "        vertical-align: middle;\n",
       "    }\n",
       "\n",
       "    .dataframe tbody tr th {\n",
       "        vertical-align: top;\n",
       "    }\n",
       "\n",
       "    .dataframe thead tr th {\n",
       "        text-align: left;\n",
       "    }\n",
       "</style>\n",
       "<table border=\"1\" class=\"dataframe\">\n",
       "  <thead>\n",
       "    <tr>\n",
       "      <th></th>\n",
       "      <th>codGrupoMaterial5</th>\n",
       "      <th colspan=\"3\" halign=\"left\">codGrupoMaterial2</th>\n",
       "      <th colspan=\"3\" halign=\"left\">GrupoArticulos</th>\n",
       "    </tr>\n",
       "    <tr>\n",
       "      <th></th>\n",
       "      <th></th>\n",
       "      <th>missing_values</th>\n",
       "      <th>full_count</th>\n",
       "      <th>missing_percent</th>\n",
       "      <th>missing_values</th>\n",
       "      <th>full_count</th>\n",
       "      <th>missing_percent</th>\n",
       "    </tr>\n",
       "  </thead>\n",
       "  <tbody>\n",
       "    <tr>\n",
       "      <th>0</th>\n",
       "      <td>228.0</td>\n",
       "      <td>48</td>\n",
       "      <td>559</td>\n",
       "      <td>8.586762</td>\n",
       "      <td>141</td>\n",
       "      <td>466</td>\n",
       "      <td>30.257511</td>\n",
       "    </tr>\n",
       "    <tr>\n",
       "      <th>1</th>\n",
       "      <td>229.0</td>\n",
       "      <td>22</td>\n",
       "      <td>191</td>\n",
       "      <td>11.518325</td>\n",
       "      <td>55</td>\n",
       "      <td>158</td>\n",
       "      <td>34.810127</td>\n",
       "    </tr>\n",
       "    <tr>\n",
       "      <th>2</th>\n",
       "      <td>231.0</td>\n",
       "      <td>0</td>\n",
       "      <td>1</td>\n",
       "      <td>0.000000</td>\n",
       "      <td>0</td>\n",
       "      <td>1</td>\n",
       "      <td>0.000000</td>\n",
       "    </tr>\n",
       "    <tr>\n",
       "      <th>3</th>\n",
       "      <td>232.0</td>\n",
       "      <td>19</td>\n",
       "      <td>166</td>\n",
       "      <td>11.445783</td>\n",
       "      <td>50</td>\n",
       "      <td>135</td>\n",
       "      <td>37.037037</td>\n",
       "    </tr>\n",
       "    <tr>\n",
       "      <th>4</th>\n",
       "      <td>276.0</td>\n",
       "      <td>2490</td>\n",
       "      <td>23472</td>\n",
       "      <td>10.608384</td>\n",
       "      <td>6664</td>\n",
       "      <td>19298</td>\n",
       "      <td>34.532076</td>\n",
       "    </tr>\n",
       "    <tr>\n",
       "      <th>5</th>\n",
       "      <td>277.0</td>\n",
       "      <td>160</td>\n",
       "      <td>1256</td>\n",
       "      <td>12.738854</td>\n",
       "      <td>361</td>\n",
       "      <td>1055</td>\n",
       "      <td>34.218009</td>\n",
       "    </tr>\n",
       "    <tr>\n",
       "      <th>6</th>\n",
       "      <td>278.0</td>\n",
       "      <td>214</td>\n",
       "      <td>2099</td>\n",
       "      <td>10.195331</td>\n",
       "      <td>616</td>\n",
       "      <td>1697</td>\n",
       "      <td>36.299352</td>\n",
       "    </tr>\n",
       "    <tr>\n",
       "      <th>7</th>\n",
       "      <td>279.0</td>\n",
       "      <td>101</td>\n",
       "      <td>848</td>\n",
       "      <td>11.910377</td>\n",
       "      <td>248</td>\n",
       "      <td>701</td>\n",
       "      <td>35.378031</td>\n",
       "    </tr>\n",
       "    <tr>\n",
       "      <th>8</th>\n",
       "      <td>280.0</td>\n",
       "      <td>13</td>\n",
       "      <td>158</td>\n",
       "      <td>8.227848</td>\n",
       "      <td>43</td>\n",
       "      <td>128</td>\n",
       "      <td>33.593750</td>\n",
       "    </tr>\n",
       "    <tr>\n",
       "      <th>9</th>\n",
       "      <td>281.0</td>\n",
       "      <td>15</td>\n",
       "      <td>103</td>\n",
       "      <td>14.563107</td>\n",
       "      <td>28</td>\n",
       "      <td>90</td>\n",
       "      <td>31.111111</td>\n",
       "    </tr>\n",
       "  </tbody>\n",
       "</table>\n",
       "</div>"
      ],
      "text/plain": [
       "  codGrupoMaterial5 codGrupoMaterial2                             \\\n",
       "                       missing_values full_count missing_percent   \n",
       "0             228.0                48        559        8.586762   \n",
       "1             229.0                22        191       11.518325   \n",
       "2             231.0                 0          1        0.000000   \n",
       "3             232.0                19        166       11.445783   \n",
       "4             276.0              2490      23472       10.608384   \n",
       "5             277.0               160       1256       12.738854   \n",
       "6             278.0               214       2099       10.195331   \n",
       "7             279.0               101        848       11.910377   \n",
       "8             280.0                13        158        8.227848   \n",
       "9             281.0                15        103       14.563107   \n",
       "\n",
       "  GrupoArticulos                             \n",
       "  missing_values full_count missing_percent  \n",
       "0            141        466       30.257511  \n",
       "1             55        158       34.810127  \n",
       "2              0          1        0.000000  \n",
       "3             50        135       37.037037  \n",
       "4           6664      19298       34.532076  \n",
       "5            361       1055       34.218009  \n",
       "6            616       1697       36.299352  \n",
       "7            248        701       35.378031  \n",
       "8             43        128       33.593750  \n",
       "9             28         90       31.111111  "
      ]
     },
     "execution_count": 55,
     "metadata": {},
     "output_type": "execute_result"
    }
   ],
   "source": [
    "only_cod5 = df_clean.groupby(['codGrupoMaterial5'])[['codGrupoMaterial2', 'GrupoArticulos']].agg([\n",
    "                                            ('missing_values', lambda x: x.isnull().sum()),\n",
    "                                            ('full_count', 'count'),\n",
    "                                            ('missing_percent', lambda x: x.isnull().sum() / x.count() * 100)\n",
    "                                            ]).reset_index()\n",
    "only_cod5.head(10)"
   ]
  },
  {
   "cell_type": "markdown",
   "metadata": {},
   "source": [
    "***Vemos que no tienen relacion los datos faltantes con alguna categoria en particular, la mayoria tiene la misma cantidad de datos faltantes.***"
   ]
  },
  {
   "cell_type": "markdown",
   "metadata": {},
   "source": [
    "***En base a todos los analisis realizados, podemos decir entonces que los datos faltantes, son del tipo Missing completely at random (MCAR)***"
   ]
  },
  {
   "cell_type": "markdown",
   "metadata": {},
   "source": [
    "</br>"
   ]
  },
  {
   "cell_type": "markdown",
   "metadata": {
    "id": "77vwuiqOHGeB"
   },
   "source": [
    "\n",
    "### 4 - La presencia de datos faltantes la podemos resolver de 3 maneras: Eliminando todo el registro donde aparece el dato faltante, eliminando toda la columna donde se encuentra el dato faltante, o imputanto el dato faltante. Definir la acción más adecuada,  justificarla e implementarla.\n"
   ]
  },
  {
   "cell_type": "markdown",
   "metadata": {
    "id": "RvHYJSI6HGeD"
   },
   "source": [
    "Las acciones que se pueden hacer serian:\n",
    "\n",
    "- Eliminar todo el registro donde aparece el dato faltante: Esta acción implica eliminar las filas que contienen al menos un valor faltante. Esto es recomendado cuando los datos faltantes son una proporción muy pequeña del conjunto de datos y no se espera que tengan un impacto significativo en el análisis. Sin embargo, si los datos faltantes representan una parte importante del conjunto de datos o si los registros completos son valiosos, esta acción puede llevar a una pérdida de información significativa.\n",
    "\n",
    "- Eliminar toda la columna donde se encuentra el dato faltante: Esta acción implicaria eliminar todas las columnas que contienen valores faltantes. Se utiliza cuando la columna afectada no aporta información relevante o no es necesaria para el análisis. Sin embargo, si la columna contiene información valiosa o es importante para el análisis, esta acción puede resultar en la pérdida de información significativa.\n",
    "\n",
    "- Imputar el dato faltante: Esta acción implica reemplazar los valores faltantes por valores estimados o inferidos. Puede ser adecuada cuando los datos faltantes representan una proporción significativa del conjunto de datos y es importante mantener la integridad de la información. La imputación puede realizarse utilizando diferentes métodos, como el valor medio, la mediana, la moda, técnicas de regresión o modelos más complejos. Sin embargo, la imputación introduce cierto grado de incertidumbre y puede afectar los resultados del análisis.\n"
   ]
  },
  {
   "cell_type": "markdown",
   "metadata": {
    "id": "WX4Q2sbUHGeE"
   },
   "source": [
    "***Vemos cuantos son los datos faltantes y el porcentaje del total.***"
   ]
  },
  {
   "cell_type": "code",
   "execution_count": 56,
   "metadata": {
    "colab": {
     "base_uri": "https://localhost:8080/",
     "height": 708
    },
    "id": "sUzj4tnlHGeF",
    "outputId": "92c55f65-3b87-454b-8f99-2dd11b649985"
   },
   "outputs": [
    {
     "data": {
      "text/html": [
       "<div>\n",
       "<style scoped>\n",
       "    .dataframe tbody tr th:only-of-type {\n",
       "        vertical-align: middle;\n",
       "    }\n",
       "\n",
       "    .dataframe tbody tr th {\n",
       "        vertical-align: top;\n",
       "    }\n",
       "\n",
       "    .dataframe thead th {\n",
       "        text-align: right;\n",
       "    }\n",
       "</style>\n",
       "<table border=\"1\" class=\"dataframe\">\n",
       "  <thead>\n",
       "    <tr style=\"text-align: right;\">\n",
       "      <th></th>\n",
       "      <th>Cantidad Faltantes</th>\n",
       "      <th>Porcentaje Faltantes</th>\n",
       "    </tr>\n",
       "  </thead>\n",
       "  <tbody>\n",
       "    <tr>\n",
       "      <th>Periodo</th>\n",
       "      <td>0</td>\n",
       "      <td>0.00</td>\n",
       "    </tr>\n",
       "    <tr>\n",
       "      <th>Fecha</th>\n",
       "      <td>0</td>\n",
       "      <td>0.00</td>\n",
       "    </tr>\n",
       "    <tr>\n",
       "      <th>FechaPedido</th>\n",
       "      <td>0</td>\n",
       "      <td>0.00</td>\n",
       "    </tr>\n",
       "    <tr>\n",
       "      <th>PosPedido</th>\n",
       "      <td>0</td>\n",
       "      <td>0.00</td>\n",
       "    </tr>\n",
       "    <tr>\n",
       "      <th>CodMaterial</th>\n",
       "      <td>0</td>\n",
       "      <td>0.00</td>\n",
       "    </tr>\n",
       "    <tr>\n",
       "      <th>Cantidad</th>\n",
       "      <td>0</td>\n",
       "      <td>0.00</td>\n",
       "    </tr>\n",
       "    <tr>\n",
       "      <th>CodGrupoArt</th>\n",
       "      <td>0</td>\n",
       "      <td>0.00</td>\n",
       "    </tr>\n",
       "    <tr>\n",
       "      <th>GrupoArticulos</th>\n",
       "      <td>27622</td>\n",
       "      <td>25.63</td>\n",
       "    </tr>\n",
       "    <tr>\n",
       "      <th>codGrupoMaterial2</th>\n",
       "      <td>10160</td>\n",
       "      <td>9.43</td>\n",
       "    </tr>\n",
       "    <tr>\n",
       "      <th>codGrupoMaterial4</th>\n",
       "      <td>0</td>\n",
       "      <td>0.00</td>\n",
       "    </tr>\n",
       "    <tr>\n",
       "      <th>codGrupoMaterial5</th>\n",
       "      <td>0</td>\n",
       "      <td>0.00</td>\n",
       "    </tr>\n",
       "    <tr>\n",
       "      <th>Tipo_Precio</th>\n",
       "      <td>0</td>\n",
       "      <td>0.00</td>\n",
       "    </tr>\n",
       "    <tr>\n",
       "      <th>Departamento</th>\n",
       "      <td>0</td>\n",
       "      <td>0.00</td>\n",
       "    </tr>\n",
       "    <tr>\n",
       "      <th>Localidad</th>\n",
       "      <td>0</td>\n",
       "      <td>0.00</td>\n",
       "    </tr>\n",
       "    <tr>\n",
       "      <th>Provincia</th>\n",
       "      <td>0</td>\n",
       "      <td>0.00</td>\n",
       "    </tr>\n",
       "    <tr>\n",
       "      <th>Pais</th>\n",
       "      <td>0</td>\n",
       "      <td>0.00</td>\n",
       "    </tr>\n",
       "    <tr>\n",
       "      <th>CodCliente_of</th>\n",
       "      <td>0</td>\n",
       "      <td>0.00</td>\n",
       "    </tr>\n",
       "    <tr>\n",
       "      <th>CodSucCliente_of</th>\n",
       "      <td>0</td>\n",
       "      <td>0.00</td>\n",
       "    </tr>\n",
       "    <tr>\n",
       "      <th>NroDocPedido</th>\n",
       "      <td>0</td>\n",
       "      <td>0.00</td>\n",
       "    </tr>\n",
       "    <tr>\n",
       "      <th>Año</th>\n",
       "      <td>0</td>\n",
       "      <td>0.00</td>\n",
       "    </tr>\n",
       "    <tr>\n",
       "      <th>Mes</th>\n",
       "      <td>0</td>\n",
       "      <td>0.00</td>\n",
       "    </tr>\n",
       "  </tbody>\n",
       "</table>\n",
       "</div>"
      ],
      "text/plain": [
       "                   Cantidad Faltantes  Porcentaje Faltantes\n",
       "Periodo                             0                  0.00\n",
       "Fecha                               0                  0.00\n",
       "FechaPedido                         0                  0.00\n",
       "PosPedido                           0                  0.00\n",
       "CodMaterial                         0                  0.00\n",
       "Cantidad                            0                  0.00\n",
       "CodGrupoArt                         0                  0.00\n",
       "GrupoArticulos                  27622                 25.63\n",
       "codGrupoMaterial2               10160                  9.43\n",
       "codGrupoMaterial4                   0                  0.00\n",
       "codGrupoMaterial5                   0                  0.00\n",
       "Tipo_Precio                         0                  0.00\n",
       "Departamento                        0                  0.00\n",
       "Localidad                           0                  0.00\n",
       "Provincia                           0                  0.00\n",
       "Pais                                0                  0.00\n",
       "CodCliente_of                       0                  0.00\n",
       "CodSucCliente_of                    0                  0.00\n",
       "NroDocPedido                        0                  0.00\n",
       "Año                                 0                  0.00\n",
       "Mes                                 0                  0.00"
      ]
     },
     "execution_count": 56,
     "metadata": {},
     "output_type": "execute_result"
    }
   ],
   "source": [
    "# Calculamos el porcentaje de valores faltantes\n",
    "porcentaje_faltantes = (df_clean.isnull().sum() / len(df_clean)) * 100\n",
    "porcentaje_faltantes = porcentaje_faltantes.round(2)\n",
    "\n",
    "# Calculamos la cantidad de valores faltantes\n",
    "cantidad_faltantes = df_clean.isnull().sum()\n",
    "\n",
    "tabla_faltantes = pd.DataFrame({'Cantidad Faltantes': cantidad_faltantes, 'Porcentaje Faltantes': porcentaje_faltantes})\n",
    "\n",
    "tabla_faltantes\n"
   ]
  },
  {
   "cell_type": "markdown",
   "metadata": {
    "id": "Xkl32fJJHGeH"
   },
   "source": [
    "***Como son variables categoricas pero estan expresadas en formato numerico, las vamos a cambiar de tipo de variables***"
   ]
  },
  {
   "cell_type": "code",
   "execution_count": 57,
   "metadata": {
    "id": "3Gqwa1OSHGeI"
   },
   "outputs": [],
   "source": [
    "columnas_numericas = [\"GrupoArticulos\", \"codGrupoMaterial2\", \"codGrupoMaterial4\", \"codGrupoMaterial5\"]\n",
    "\n",
    "df_clean[columnas_numericas] = df_clean[columnas_numericas].astype('category')"
   ]
  },
  {
   "cell_type": "markdown",
   "metadata": {
    "id": "03fpO1EBHGeM"
   },
   "source": [
    "***Vamos a hacer un analisis de correlacion de las variables categoricas con el Coeficiente de Correlación de Cramer's V el cual es una medida común de correlación para variables categóricas***"
   ]
  },
  {
   "cell_type": "code",
   "execution_count": 58,
   "metadata": {
    "colab": {
     "base_uri": "https://localhost:8080/"
    },
    "id": "fDHlZiEYHGeN",
    "outputId": "150a8a32-da0c-4a2a-cbd6-d9d5a0b82179"
   },
   "outputs": [
    {
     "name": "stdout",
     "output_type": "stream",
     "text": [
      "Correlación entre codGrupoMaterial2 y GrupoArticulos: 0.9999931145362467\n",
      "Correlación entre codGrupoMaterial4 y GrupoArticulos: 0.9998814873951446\n",
      "Correlación entre codGrupoMaterial5 y GrupoArticulos: 0.9996756163204402\n",
      "Correlación entre codGrupoMaterial2 y CodGrupoArt: 0.999994878452883\n",
      "Correlación entre codGrupoMaterial4 y CodGrupoArt: 0.9999118593273153\n",
      "Correlación entre codGrupoMaterial5 y CodGrupoArt: 0.9997587544270572\n",
      "Correlación entre CodGrupoArt y GrupoArticulos: 0.9999681307273394\n"
     ]
    }
   ],
   "source": [
    "def cramers_v(x, y):\n",
    "    confusion_matrix = pd.crosstab(x, y)\n",
    "    chi2 = chi2_contingency(confusion_matrix)[0]\n",
    "    n = confusion_matrix.sum().sum()\n",
    "    phi2 = chi2 / n\n",
    "    r, k = confusion_matrix.shape\n",
    "    phi2corr = max(0, phi2 - ((k - 1) * (r - 1)) / (n - 1))\n",
    "    rcorr = r - ((r - 1) ** 2) / (n - 1)\n",
    "    kcorr = k - ((k - 1) ** 2) / (n - 1)\n",
    "    return np.sqrt(phi2corr / min((kcorr - 1), (rcorr - 1)))\n",
    "\n",
    "# Calcular el coeficiente de correlación de Cramer's V\n",
    "correlacion_1 = cramers_v(df_clean['codGrupoMaterial2'], df_clean['GrupoArticulos'])\n",
    "correlacion_2 = cramers_v(df_clean['codGrupoMaterial4'], df_clean['GrupoArticulos'])\n",
    "correlacion_3 = cramers_v(df_clean['codGrupoMaterial5'], df_clean['GrupoArticulos'])\n",
    "correlacion_4 = cramers_v(df_clean['codGrupoMaterial2'], df_clean['CodGrupoArt'])\n",
    "correlacion_5 = cramers_v(df_clean['codGrupoMaterial4'], df_clean['CodGrupoArt'])\n",
    "correlacion_6 = cramers_v(df_clean['codGrupoMaterial5'], df_clean['CodGrupoArt'])\n",
    "correlacion_7 = cramers_v(df_clean['GrupoArticulos'], df_clean['CodGrupoArt'])\n",
    "print(\"Correlación entre codGrupoMaterial2 y GrupoArticulos:\", correlacion_1)\n",
    "print(\"Correlación entre codGrupoMaterial4 y GrupoArticulos:\", correlacion_2)\n",
    "print(\"Correlación entre codGrupoMaterial5 y GrupoArticulos:\", correlacion_3)\n",
    "print(\"Correlación entre codGrupoMaterial2 y CodGrupoArt:\", correlacion_4)\n",
    "print(\"Correlación entre codGrupoMaterial4 y CodGrupoArt:\", correlacion_5)\n",
    "print(\"Correlación entre codGrupoMaterial5 y CodGrupoArt:\", correlacion_6)\n",
    "print(\"Correlación entre CodGrupoArt y GrupoArticulos:\", correlacion_7)"
   ]
  },
  {
   "cell_type": "markdown",
   "metadata": {
    "id": "Gljek6i5HGeQ"
   },
   "source": [
    "***Todas las variables tienen alta correlacion entre ellas, vamos a ver una prueba chi-cuadrado de independencia para terminar el analisis***"
   ]
  },
  {
   "cell_type": "code",
   "execution_count": 59,
   "metadata": {
    "colab": {
     "base_uri": "https://localhost:8080/"
    },
    "id": "RMjzZC9NHGeR",
    "outputId": "e675864f-88f3-4513-95d7-c60656cb2272"
   },
   "outputs": [
    {
     "name": "stdout",
     "output_type": "stream",
     "text": [
      "Valor p del test de chi-cuadrado: 0.0\n"
     ]
    }
   ],
   "source": [
    "# Crear tabla de contingencia entre CodGrupoArt y GrupoArticulos\n",
    "tabla_contingencia = pd.crosstab(df_clean['CodGrupoArt'], df_clean['GrupoArticulos'])\n",
    "\n",
    "# Realizar el test de chi-cuadrado\n",
    "chi2, p, dof, expected = chi2_contingency(tabla_contingencia)\n",
    "print(\"Valor p del test de chi-cuadrado:\", p)"
   ]
  },
  {
   "cell_type": "code",
   "execution_count": 60,
   "metadata": {
    "colab": {
     "base_uri": "https://localhost:8080/",
     "height": 579
    },
    "id": "VOAN8FxwHGeT",
    "outputId": "4d87bafd-b897-42e3-d713-39e5b648cfef"
   },
   "outputs": [
    {
     "data": {
      "text/html": [
       "<div>\n",
       "<style scoped>\n",
       "    .dataframe tbody tr th:only-of-type {\n",
       "        vertical-align: middle;\n",
       "    }\n",
       "\n",
       "    .dataframe tbody tr th {\n",
       "        vertical-align: top;\n",
       "    }\n",
       "\n",
       "    .dataframe thead th {\n",
       "        text-align: right;\n",
       "    }\n",
       "</style>\n",
       "<table border=\"1\" class=\"dataframe\">\n",
       "  <thead>\n",
       "    <tr style=\"text-align: right;\">\n",
       "      <th></th>\n",
       "      <th></th>\n",
       "      <th></th>\n",
       "      <th></th>\n",
       "      <th>0</th>\n",
       "    </tr>\n",
       "    <tr>\n",
       "      <th>CodMaterial</th>\n",
       "      <th>codGrupoMaterial2</th>\n",
       "      <th>codGrupoMaterial4</th>\n",
       "      <th>codGrupoMaterial5</th>\n",
       "      <th></th>\n",
       "    </tr>\n",
       "  </thead>\n",
       "  <tbody>\n",
       "    <tr>\n",
       "      <th rowspan=\"5\" valign=\"top\">7604</th>\n",
       "      <th rowspan=\"2\" valign=\"top\">15.0</th>\n",
       "      <th>128.0</th>\n",
       "      <th>276.0</th>\n",
       "      <td>12469</td>\n",
       "    </tr>\n",
       "    <tr>\n",
       "      <th>124.0</th>\n",
       "      <th>228.0</th>\n",
       "      <td>0</td>\n",
       "    </tr>\n",
       "    <tr>\n",
       "      <th rowspan=\"3\" valign=\"top\">26.0</th>\n",
       "      <th rowspan=\"3\" valign=\"top\">136.0</th>\n",
       "      <th>646.0</th>\n",
       "      <td>0</td>\n",
       "    </tr>\n",
       "    <tr>\n",
       "      <th>279.0</th>\n",
       "      <td>0</td>\n",
       "    </tr>\n",
       "    <tr>\n",
       "      <th>280.0</th>\n",
       "      <td>0</td>\n",
       "    </tr>\n",
       "    <tr>\n",
       "      <th>...</th>\n",
       "      <th>...</th>\n",
       "      <th>...</th>\n",
       "      <th>...</th>\n",
       "      <td>...</td>\n",
       "    </tr>\n",
       "    <tr>\n",
       "      <th rowspan=\"5\" valign=\"top\">480902</th>\n",
       "      <th rowspan=\"4\" valign=\"top\">26.0</th>\n",
       "      <th rowspan=\"4\" valign=\"top\">140.0</th>\n",
       "      <th>673.0</th>\n",
       "      <td>0</td>\n",
       "    </tr>\n",
       "    <tr>\n",
       "      <th>674.0</th>\n",
       "      <td>0</td>\n",
       "    </tr>\n",
       "    <tr>\n",
       "      <th>675.0</th>\n",
       "      <td>0</td>\n",
       "    </tr>\n",
       "    <tr>\n",
       "      <th>676.0</th>\n",
       "      <td>0</td>\n",
       "    </tr>\n",
       "    <tr>\n",
       "      <th>27.0</th>\n",
       "      <th>333.0</th>\n",
       "      <th>683.0</th>\n",
       "      <td>0</td>\n",
       "    </tr>\n",
       "  </tbody>\n",
       "</table>\n",
       "<p>605556 rows × 1 columns</p>\n",
       "</div>"
      ],
      "text/plain": [
       "                                                                       0\n",
       "CodMaterial codGrupoMaterial2 codGrupoMaterial4 codGrupoMaterial5       \n",
       "7604        15.0              128.0             276.0              12469\n",
       "                              124.0             228.0                  0\n",
       "            26.0              136.0             646.0                  0\n",
       "                                                279.0                  0\n",
       "                                                280.0                  0\n",
       "...                                                                  ...\n",
       "480902      26.0              140.0             673.0                  0\n",
       "                                                674.0                  0\n",
       "                                                675.0                  0\n",
       "                                                676.0                  0\n",
       "            27.0              333.0             683.0                  0\n",
       "\n",
       "[605556 rows x 1 columns]"
      ]
     },
     "execution_count": 60,
     "metadata": {},
     "output_type": "execute_result"
    }
   ],
   "source": [
    "df_clean.groupby(['CodMaterial'])[['codGrupoMaterial2', 'codGrupoMaterial4', 'codGrupoMaterial5']].value_counts().to_frame()"
   ]
  },
  {
   "cell_type": "markdown",
   "metadata": {
    "id": "kPsmYQQ4HGeW"
   },
   "source": [
    "***Podemos ver que hay una fuerte relacion entre estas variables, por lo que no son independientes una de otra. Veremos ahora cuales son los valores unicos que toma cada uno de las columnas y determinar si se puede hacer algun tipo de reemplazo a los NaN***"
   ]
  },
  {
   "cell_type": "code",
   "execution_count": 61,
   "metadata": {
    "colab": {
     "base_uri": "https://localhost:8080/",
     "height": 175
    },
    "id": "xUMyb7IVHGeY",
    "outputId": "92bbca6e-19ca-4d26-d348-2d04953c7c85"
   },
   "outputs": [
    {
     "data": {
      "text/html": [
       "<div>\n",
       "<style scoped>\n",
       "    .dataframe tbody tr th:only-of-type {\n",
       "        vertical-align: middle;\n",
       "    }\n",
       "\n",
       "    .dataframe tbody tr th {\n",
       "        vertical-align: top;\n",
       "    }\n",
       "\n",
       "    .dataframe thead th {\n",
       "        text-align: right;\n",
       "    }\n",
       "</style>\n",
       "<table border=\"1\" class=\"dataframe\">\n",
       "  <thead>\n",
       "    <tr style=\"text-align: right;\">\n",
       "      <th></th>\n",
       "      <th>CodGrupoArt</th>\n",
       "      <th>GrupoArticulos</th>\n",
       "    </tr>\n",
       "  </thead>\n",
       "  <tbody>\n",
       "    <tr>\n",
       "      <th>0</th>\n",
       "      <td>14.0</td>\n",
       "      <td>Corrosivos</td>\n",
       "    </tr>\n",
       "    <tr>\n",
       "      <th>1</th>\n",
       "      <td>11.0</td>\n",
       "      <td>Espesantes</td>\n",
       "    </tr>\n",
       "    <tr>\n",
       "      <th>12</th>\n",
       "      <td>11.0</td>\n",
       "      <td>NaN</td>\n",
       "    </tr>\n",
       "    <tr>\n",
       "      <th>929</th>\n",
       "      <td>14.0</td>\n",
       "      <td>NaN</td>\n",
       "    </tr>\n",
       "  </tbody>\n",
       "</table>\n",
       "</div>"
      ],
      "text/plain": [
       "     CodGrupoArt GrupoArticulos\n",
       "0           14.0     Corrosivos\n",
       "1           11.0     Espesantes\n",
       "12          11.0            NaN\n",
       "929         14.0            NaN"
      ]
     },
     "execution_count": 61,
     "metadata": {},
     "output_type": "execute_result"
    }
   ],
   "source": [
    "# Eliminar duplicados en las columnas \"CodGrupoArt\" y \"GrupoArticulos\"\n",
    "tabla_valores_unicos = df_clean[[\"CodGrupoArt\", \"GrupoArticulos\"]].drop_duplicates()\n",
    "\n",
    "# Mostrar la tabla con los valores únicos\n",
    "tabla_valores_unicos"
   ]
  },
  {
   "cell_type": "markdown",
   "metadata": {
    "id": "yeyuXPIKHGea"
   },
   "source": [
    "***En el caso de la variable GrupoArticulos podemos hacer una imputacion de los valores ya que sabemos que tomo dos valores \"Corrosivos\" o \"Espesantes\" y va acorde a si CodGrupoArt toma el valor \"11.0\" o \"14.0\", por lo que se puede completar con el siguiente condicional de forma muy facil. Sumado a esto, vimos como se correlaciones de forma positiva y cercana a 1, por lo que la relacion entre ellas es alta y por prueba chi-cuadrado no son independientes***"
   ]
  },
  {
   "cell_type": "code",
   "execution_count": 62,
   "metadata": {
    "id": "5tIPqfriHGed"
   },
   "outputs": [],
   "source": [
    "# Completar los NaN en la columna \"GrupoArticulos\" basado en los valores en \"CodGrupoArt\"\n",
    "df_clean_imputed = df_clean.copy()\n",
    "df_clean_imputed.loc[df_clean_imputed['CodGrupoArt'] == 11.0, 'GrupoArticulos'] = 'Espesantes'\n",
    "df_clean_imputed.loc[df_clean_imputed['CodGrupoArt'] == 14.0, 'GrupoArticulos'] = 'Corrosivos'\n"
   ]
  },
  {
   "cell_type": "markdown",
   "metadata": {
    "id": "9rhsUG4gHGee"
   },
   "source": [
    "***Nos queda resolver el caso de la variable codGrupoMaterial2, comenzamos el analisis viendo si tiene algun comportamiendo, tomando valores unicos o especificos con relacion a las otras columnas***"
   ]
  },
  {
   "cell_type": "code",
   "execution_count": 63,
   "metadata": {
    "colab": {
     "base_uri": "https://localhost:8080/",
     "height": 424
    },
    "id": "3i3mNATAHGef",
    "outputId": "b259a925-264e-41c0-81ed-68742cf060e9"
   },
   "outputs": [
    {
     "data": {
      "text/html": [
       "<div>\n",
       "<style scoped>\n",
       "    .dataframe tbody tr th:only-of-type {\n",
       "        vertical-align: middle;\n",
       "    }\n",
       "\n",
       "    .dataframe tbody tr th {\n",
       "        vertical-align: top;\n",
       "    }\n",
       "\n",
       "    .dataframe thead th {\n",
       "        text-align: right;\n",
       "    }\n",
       "</style>\n",
       "<table border=\"1\" class=\"dataframe\">\n",
       "  <thead>\n",
       "    <tr style=\"text-align: right;\">\n",
       "      <th></th>\n",
       "      <th>CodGrupoArt</th>\n",
       "      <th>GrupoArticulos</th>\n",
       "      <th>codGrupoMaterial2</th>\n",
       "      <th>codGrupoMaterial4</th>\n",
       "      <th>codGrupoMaterial5</th>\n",
       "    </tr>\n",
       "  </thead>\n",
       "  <tbody>\n",
       "    <tr>\n",
       "      <th>0</th>\n",
       "      <td>14.0</td>\n",
       "      <td>Corrosivos</td>\n",
       "      <td>27.0</td>\n",
       "      <td>284.0</td>\n",
       "      <td>674.0</td>\n",
       "    </tr>\n",
       "    <tr>\n",
       "      <th>1</th>\n",
       "      <td>11.0</td>\n",
       "      <td>Espesantes</td>\n",
       "      <td>15.0</td>\n",
       "      <td>139.0</td>\n",
       "      <td>291.0</td>\n",
       "    </tr>\n",
       "    <tr>\n",
       "      <th>11</th>\n",
       "      <td>11.0</td>\n",
       "      <td>Espesantes</td>\n",
       "      <td>NaN</td>\n",
       "      <td>139.0</td>\n",
       "      <td>291.0</td>\n",
       "    </tr>\n",
       "    <tr>\n",
       "      <th>22</th>\n",
       "      <td>11.0</td>\n",
       "      <td>Espesantes</td>\n",
       "      <td>15.0</td>\n",
       "      <td>128.0</td>\n",
       "      <td>276.0</td>\n",
       "    </tr>\n",
       "    <tr>\n",
       "      <th>29</th>\n",
       "      <td>11.0</td>\n",
       "      <td>Espesantes</td>\n",
       "      <td>NaN</td>\n",
       "      <td>128.0</td>\n",
       "      <td>276.0</td>\n",
       "    </tr>\n",
       "    <tr>\n",
       "      <th>...</th>\n",
       "      <td>...</td>\n",
       "      <td>...</td>\n",
       "      <td>...</td>\n",
       "      <td>...</td>\n",
       "      <td>...</td>\n",
       "    </tr>\n",
       "    <tr>\n",
       "      <th>71285</th>\n",
       "      <td>11.0</td>\n",
       "      <td>Espesantes</td>\n",
       "      <td>NaN</td>\n",
       "      <td>282.0</td>\n",
       "      <td>656.0</td>\n",
       "    </tr>\n",
       "    <tr>\n",
       "      <th>76529</th>\n",
       "      <td>11.0</td>\n",
       "      <td>Espesantes</td>\n",
       "      <td>NaN</td>\n",
       "      <td>283.0</td>\n",
       "      <td>667.0</td>\n",
       "    </tr>\n",
       "    <tr>\n",
       "      <th>82728</th>\n",
       "      <td>11.0</td>\n",
       "      <td>Espesantes</td>\n",
       "      <td>NaN</td>\n",
       "      <td>283.0</td>\n",
       "      <td>661.0</td>\n",
       "    </tr>\n",
       "    <tr>\n",
       "      <th>83241</th>\n",
       "      <td>11.0</td>\n",
       "      <td>Espesantes</td>\n",
       "      <td>26.0</td>\n",
       "      <td>174.0</td>\n",
       "      <td>231.0</td>\n",
       "    </tr>\n",
       "    <tr>\n",
       "      <th>87305</th>\n",
       "      <td>11.0</td>\n",
       "      <td>Espesantes</td>\n",
       "      <td>NaN</td>\n",
       "      <td>282.0</td>\n",
       "      <td>654.0</td>\n",
       "    </tr>\n",
       "  </tbody>\n",
       "</table>\n",
       "<p>107 rows × 5 columns</p>\n",
       "</div>"
      ],
      "text/plain": [
       "       CodGrupoArt GrupoArticulos codGrupoMaterial2 codGrupoMaterial4  \\\n",
       "0             14.0     Corrosivos              27.0             284.0   \n",
       "1             11.0     Espesantes              15.0             139.0   \n",
       "11            11.0     Espesantes               NaN             139.0   \n",
       "22            11.0     Espesantes              15.0             128.0   \n",
       "29            11.0     Espesantes               NaN             128.0   \n",
       "...            ...            ...               ...               ...   \n",
       "71285         11.0     Espesantes               NaN             282.0   \n",
       "76529         11.0     Espesantes               NaN             283.0   \n",
       "82728         11.0     Espesantes               NaN             283.0   \n",
       "83241         11.0     Espesantes              26.0             174.0   \n",
       "87305         11.0     Espesantes               NaN             282.0   \n",
       "\n",
       "      codGrupoMaterial5  \n",
       "0                 674.0  \n",
       "1                 291.0  \n",
       "11                291.0  \n",
       "22                276.0  \n",
       "29                276.0  \n",
       "...                 ...  \n",
       "71285             656.0  \n",
       "76529             667.0  \n",
       "82728             661.0  \n",
       "83241             231.0  \n",
       "87305             654.0  \n",
       "\n",
       "[107 rows x 5 columns]"
      ]
     },
     "execution_count": 63,
     "metadata": {},
     "output_type": "execute_result"
    }
   ],
   "source": [
    "# Eliminar duplicados en las columnas \"CodGrupoArt\" y \"GrupoArticulos\"\n",
    "tabla_valores_unicos = df_clean_imputed[[\"CodGrupoArt\", \"GrupoArticulos\", \"codGrupoMaterial2\", \"codGrupoMaterial4\", \"codGrupoMaterial5\" ]].drop_duplicates()\n",
    "\n",
    "# Mostrar la tabla con los valores únicos\n",
    "tabla_valores_unicos"
   ]
  },
  {
   "cell_type": "markdown",
   "metadata": {
    "id": "8X1Jt9YsHGek"
   },
   "source": [
    "***Tomamos especificamente la columna Tipo_Precio, que mantiene una alta correlacion con la variable en cuestion y justo toma valores unicos para cada valor de los datos que se tienen de codGrupoMaterial2, por lo que asumimos que para el resto de los datos se cumple la misma condicion***"
   ]
  },
  {
   "cell_type": "code",
   "execution_count": 64,
   "metadata": {
    "colab": {
     "base_uri": "https://localhost:8080/",
     "height": 237
    },
    "id": "e3zjsMTCHGer",
    "outputId": "76dbb548-9ea4-44f6-b080-4cd8060df553"
   },
   "outputs": [
    {
     "data": {
      "text/html": [
       "<div>\n",
       "<style scoped>\n",
       "    .dataframe tbody tr th:only-of-type {\n",
       "        vertical-align: middle;\n",
       "    }\n",
       "\n",
       "    .dataframe tbody tr th {\n",
       "        vertical-align: top;\n",
       "    }\n",
       "\n",
       "    .dataframe thead th {\n",
       "        text-align: right;\n",
       "    }\n",
       "</style>\n",
       "<table border=\"1\" class=\"dataframe\">\n",
       "  <thead>\n",
       "    <tr style=\"text-align: right;\">\n",
       "      <th></th>\n",
       "      <th>codGrupoMaterial2</th>\n",
       "      <th>Tipo_Precio</th>\n",
       "    </tr>\n",
       "  </thead>\n",
       "  <tbody>\n",
       "    <tr>\n",
       "      <th>0</th>\n",
       "      <td>27.0</td>\n",
       "      <td>10.0</td>\n",
       "    </tr>\n",
       "    <tr>\n",
       "      <th>1</th>\n",
       "      <td>15.0</td>\n",
       "      <td>1.0</td>\n",
       "    </tr>\n",
       "    <tr>\n",
       "      <th>11</th>\n",
       "      <td>NaN</td>\n",
       "      <td>1.0</td>\n",
       "    </tr>\n",
       "    <tr>\n",
       "      <th>939</th>\n",
       "      <td>NaN</td>\n",
       "      <td>10.0</td>\n",
       "    </tr>\n",
       "    <tr>\n",
       "      <th>3459</th>\n",
       "      <td>26.0</td>\n",
       "      <td>9.0</td>\n",
       "    </tr>\n",
       "    <tr>\n",
       "      <th>8874</th>\n",
       "      <td>NaN</td>\n",
       "      <td>9.0</td>\n",
       "    </tr>\n",
       "  </tbody>\n",
       "</table>\n",
       "</div>"
      ],
      "text/plain": [
       "     codGrupoMaterial2  Tipo_Precio\n",
       "0                 27.0         10.0\n",
       "1                 15.0          1.0\n",
       "11                 NaN          1.0\n",
       "939                NaN         10.0\n",
       "3459              26.0          9.0\n",
       "8874               NaN          9.0"
      ]
     },
     "execution_count": 64,
     "metadata": {},
     "output_type": "execute_result"
    }
   ],
   "source": [
    "tabla_valores_unicos_2 = df_clean_imputed[['codGrupoMaterial2', 'Tipo_Precio']].drop_duplicates()\n",
    "tabla_valores_unicos_2"
   ]
  },
  {
   "cell_type": "code",
   "execution_count": 65,
   "metadata": {
    "id": "gi323kzpHGeu"
   },
   "outputs": [],
   "source": [
    "mapping = {\n",
    "    10.0: 27.0,\n",
    "    1.0: 15.0,\n",
    "    9.0: 26.0,\n",
    "}\n",
    "\n",
    "df_clean_imputed['codGrupoMaterial2'] = df_clean_imputed['Tipo_Precio'].map(mapping)"
   ]
  },
  {
   "cell_type": "code",
   "execution_count": 66,
   "metadata": {
    "colab": {
     "base_uri": "https://localhost:8080/",
     "height": 661
    },
    "id": "hy7TSSlJHGez",
    "outputId": "2edd6c43-60b6-43ff-b4fe-1182c8495254"
   },
   "outputs": [
    {
     "data": {
      "text/html": [
       "<div>\n",
       "<style scoped>\n",
       "    .dataframe tbody tr th:only-of-type {\n",
       "        vertical-align: middle;\n",
       "    }\n",
       "\n",
       "    .dataframe tbody tr th {\n",
       "        vertical-align: top;\n",
       "    }\n",
       "\n",
       "    .dataframe thead th {\n",
       "        text-align: right;\n",
       "    }\n",
       "</style>\n",
       "<table border=\"1\" class=\"dataframe\">\n",
       "  <thead>\n",
       "    <tr style=\"text-align: right;\">\n",
       "      <th></th>\n",
       "      <th>Periodo</th>\n",
       "      <th>Fecha</th>\n",
       "      <th>FechaPedido</th>\n",
       "      <th>PosPedido</th>\n",
       "      <th>CodMaterial</th>\n",
       "      <th>Cantidad</th>\n",
       "      <th>CodGrupoArt</th>\n",
       "      <th>GrupoArticulos</th>\n",
       "      <th>codGrupoMaterial2</th>\n",
       "      <th>codGrupoMaterial4</th>\n",
       "      <th>...</th>\n",
       "      <th>Tipo_Precio</th>\n",
       "      <th>Departamento</th>\n",
       "      <th>Localidad</th>\n",
       "      <th>Provincia</th>\n",
       "      <th>Pais</th>\n",
       "      <th>CodCliente_of</th>\n",
       "      <th>CodSucCliente_of</th>\n",
       "      <th>NroDocPedido</th>\n",
       "      <th>Año</th>\n",
       "      <th>Mes</th>\n",
       "    </tr>\n",
       "  </thead>\n",
       "  <tbody>\n",
       "    <tr>\n",
       "      <th>0</th>\n",
       "      <td>202111.0</td>\n",
       "      <td>2021-11-01</td>\n",
       "      <td>2021-11-01</td>\n",
       "      <td>10.0</td>\n",
       "      <td>81074</td>\n",
       "      <td>480</td>\n",
       "      <td>14.0</td>\n",
       "      <td>Corrosivos</td>\n",
       "      <td>27.0</td>\n",
       "      <td>284.0</td>\n",
       "      <td>...</td>\n",
       "      <td>10.0</td>\n",
       "      <td>LOMAS DE ZAMORA</td>\n",
       "      <td>TEMPERLEY</td>\n",
       "      <td>Buenos Aires</td>\n",
       "      <td>AR</td>\n",
       "      <td>1</td>\n",
       "      <td>1</td>\n",
       "      <td>514585.0</td>\n",
       "      <td>2021</td>\n",
       "      <td>11</td>\n",
       "    </tr>\n",
       "    <tr>\n",
       "      <th>1</th>\n",
       "      <td>201802.0</td>\n",
       "      <td>2018-02-01</td>\n",
       "      <td>2018-02-15</td>\n",
       "      <td>930.0</td>\n",
       "      <td>8051</td>\n",
       "      <td>24</td>\n",
       "      <td>11.0</td>\n",
       "      <td>Espesantes</td>\n",
       "      <td>15.0</td>\n",
       "      <td>139.0</td>\n",
       "      <td>...</td>\n",
       "      <td>1.0</td>\n",
       "      <td>TERCERO ARRIBA</td>\n",
       "      <td>OLIVA</td>\n",
       "      <td>Córdoba</td>\n",
       "      <td>AR</td>\n",
       "      <td>2</td>\n",
       "      <td>2</td>\n",
       "      <td>232161.0</td>\n",
       "      <td>2018</td>\n",
       "      <td>2</td>\n",
       "    </tr>\n",
       "    <tr>\n",
       "      <th>2</th>\n",
       "      <td>201808.0</td>\n",
       "      <td>2018-08-01</td>\n",
       "      <td>2018-08-15</td>\n",
       "      <td>130.0</td>\n",
       "      <td>8051</td>\n",
       "      <td>24</td>\n",
       "      <td>11.0</td>\n",
       "      <td>Espesantes</td>\n",
       "      <td>15.0</td>\n",
       "      <td>139.0</td>\n",
       "      <td>...</td>\n",
       "      <td>1.0</td>\n",
       "      <td>TERCERO ARRIBA</td>\n",
       "      <td>OLIVA</td>\n",
       "      <td>Córdoba</td>\n",
       "      <td>AR</td>\n",
       "      <td>2</td>\n",
       "      <td>2</td>\n",
       "      <td>260497.0</td>\n",
       "      <td>2018</td>\n",
       "      <td>8</td>\n",
       "    </tr>\n",
       "    <tr>\n",
       "      <th>3</th>\n",
       "      <td>201811.0</td>\n",
       "      <td>2018-11-01</td>\n",
       "      <td>2018-11-16</td>\n",
       "      <td>790.0</td>\n",
       "      <td>8051</td>\n",
       "      <td>24</td>\n",
       "      <td>11.0</td>\n",
       "      <td>Espesantes</td>\n",
       "      <td>15.0</td>\n",
       "      <td>139.0</td>\n",
       "      <td>...</td>\n",
       "      <td>1.0</td>\n",
       "      <td>TERCERO ARRIBA</td>\n",
       "      <td>OLIVA</td>\n",
       "      <td>Córdoba</td>\n",
       "      <td>AR</td>\n",
       "      <td>2</td>\n",
       "      <td>2</td>\n",
       "      <td>281670.0</td>\n",
       "      <td>2018</td>\n",
       "      <td>11</td>\n",
       "    </tr>\n",
       "    <tr>\n",
       "      <th>4</th>\n",
       "      <td>201901.0</td>\n",
       "      <td>2019-01-01</td>\n",
       "      <td>2019-01-21</td>\n",
       "      <td>790.0</td>\n",
       "      <td>8051</td>\n",
       "      <td>-24</td>\n",
       "      <td>11.0</td>\n",
       "      <td>Espesantes</td>\n",
       "      <td>15.0</td>\n",
       "      <td>139.0</td>\n",
       "      <td>...</td>\n",
       "      <td>1.0</td>\n",
       "      <td>TERCERO ARRIBA</td>\n",
       "      <td>OLIVA</td>\n",
       "      <td>Córdoba</td>\n",
       "      <td>AR</td>\n",
       "      <td>2</td>\n",
       "      <td>2</td>\n",
       "      <td>281670.0</td>\n",
       "      <td>2019</td>\n",
       "      <td>1</td>\n",
       "    </tr>\n",
       "    <tr>\n",
       "      <th>...</th>\n",
       "      <td>...</td>\n",
       "      <td>...</td>\n",
       "      <td>...</td>\n",
       "      <td>...</td>\n",
       "      <td>...</td>\n",
       "      <td>...</td>\n",
       "      <td>...</td>\n",
       "      <td>...</td>\n",
       "      <td>...</td>\n",
       "      <td>...</td>\n",
       "      <td>...</td>\n",
       "      <td>...</td>\n",
       "      <td>...</td>\n",
       "      <td>...</td>\n",
       "      <td>...</td>\n",
       "      <td>...</td>\n",
       "      <td>...</td>\n",
       "      <td>...</td>\n",
       "      <td>...</td>\n",
       "      <td>...</td>\n",
       "      <td>...</td>\n",
       "    </tr>\n",
       "    <tr>\n",
       "      <th>107784</th>\n",
       "      <td>202106.0</td>\n",
       "      <td>2021-06-01</td>\n",
       "      <td>2021-06-11</td>\n",
       "      <td>20.0</td>\n",
       "      <td>45115</td>\n",
       "      <td>6</td>\n",
       "      <td>11.0</td>\n",
       "      <td>Espesantes</td>\n",
       "      <td>26.0</td>\n",
       "      <td>124.0</td>\n",
       "      <td>...</td>\n",
       "      <td>9.0</td>\n",
       "      <td>ROSARIO</td>\n",
       "      <td>ROSARIO</td>\n",
       "      <td>Santa Fé</td>\n",
       "      <td>AR</td>\n",
       "      <td>1670</td>\n",
       "      <td>2243</td>\n",
       "      <td>479785.0</td>\n",
       "      <td>2021</td>\n",
       "      <td>6</td>\n",
       "    </tr>\n",
       "    <tr>\n",
       "      <th>107785</th>\n",
       "      <td>202106.0</td>\n",
       "      <td>2021-06-01</td>\n",
       "      <td>2021-06-24</td>\n",
       "      <td>10.0</td>\n",
       "      <td>45114</td>\n",
       "      <td>24</td>\n",
       "      <td>11.0</td>\n",
       "      <td>Espesantes</td>\n",
       "      <td>26.0</td>\n",
       "      <td>124.0</td>\n",
       "      <td>...</td>\n",
       "      <td>9.0</td>\n",
       "      <td>QUILMES</td>\n",
       "      <td>BERNAL OESTE</td>\n",
       "      <td>Buenos Aires</td>\n",
       "      <td>AR</td>\n",
       "      <td>1671</td>\n",
       "      <td>2244</td>\n",
       "      <td>481967.0</td>\n",
       "      <td>2021</td>\n",
       "      <td>6</td>\n",
       "    </tr>\n",
       "    <tr>\n",
       "      <th>107786</th>\n",
       "      <td>202108.0</td>\n",
       "      <td>2021-08-01</td>\n",
       "      <td>2021-08-04</td>\n",
       "      <td>10.0</td>\n",
       "      <td>45114</td>\n",
       "      <td>24</td>\n",
       "      <td>11.0</td>\n",
       "      <td>Espesantes</td>\n",
       "      <td>26.0</td>\n",
       "      <td>124.0</td>\n",
       "      <td>...</td>\n",
       "      <td>9.0</td>\n",
       "      <td>QUILMES</td>\n",
       "      <td>BERNAL OESTE</td>\n",
       "      <td>Buenos Aires</td>\n",
       "      <td>AR</td>\n",
       "      <td>1671</td>\n",
       "      <td>2244</td>\n",
       "      <td>491293.0</td>\n",
       "      <td>2021</td>\n",
       "      <td>8</td>\n",
       "    </tr>\n",
       "    <tr>\n",
       "      <th>107787</th>\n",
       "      <td>202106.0</td>\n",
       "      <td>2021-06-01</td>\n",
       "      <td>2021-06-24</td>\n",
       "      <td>20.0</td>\n",
       "      <td>45115</td>\n",
       "      <td>12</td>\n",
       "      <td>11.0</td>\n",
       "      <td>Espesantes</td>\n",
       "      <td>26.0</td>\n",
       "      <td>124.0</td>\n",
       "      <td>...</td>\n",
       "      <td>9.0</td>\n",
       "      <td>QUILMES</td>\n",
       "      <td>BERNAL OESTE</td>\n",
       "      <td>Buenos Aires</td>\n",
       "      <td>AR</td>\n",
       "      <td>1671</td>\n",
       "      <td>2244</td>\n",
       "      <td>481967.0</td>\n",
       "      <td>2021</td>\n",
       "      <td>6</td>\n",
       "    </tr>\n",
       "    <tr>\n",
       "      <th>107788</th>\n",
       "      <td>202108.0</td>\n",
       "      <td>2021-08-01</td>\n",
       "      <td>2021-08-04</td>\n",
       "      <td>20.0</td>\n",
       "      <td>45115</td>\n",
       "      <td>12</td>\n",
       "      <td>11.0</td>\n",
       "      <td>Espesantes</td>\n",
       "      <td>26.0</td>\n",
       "      <td>124.0</td>\n",
       "      <td>...</td>\n",
       "      <td>9.0</td>\n",
       "      <td>QUILMES</td>\n",
       "      <td>BERNAL OESTE</td>\n",
       "      <td>Buenos Aires</td>\n",
       "      <td>AR</td>\n",
       "      <td>1671</td>\n",
       "      <td>2244</td>\n",
       "      <td>491293.0</td>\n",
       "      <td>2021</td>\n",
       "      <td>8</td>\n",
       "    </tr>\n",
       "  </tbody>\n",
       "</table>\n",
       "<p>107789 rows × 21 columns</p>\n",
       "</div>"
      ],
      "text/plain": [
       "         Periodo      Fecha FechaPedido  PosPedido  CodMaterial  Cantidad  \\\n",
       "0       202111.0 2021-11-01  2021-11-01       10.0        81074       480   \n",
       "1       201802.0 2018-02-01  2018-02-15      930.0         8051        24   \n",
       "2       201808.0 2018-08-01  2018-08-15      130.0         8051        24   \n",
       "3       201811.0 2018-11-01  2018-11-16      790.0         8051        24   \n",
       "4       201901.0 2019-01-01  2019-01-21      790.0         8051       -24   \n",
       "...          ...        ...         ...        ...          ...       ...   \n",
       "107784  202106.0 2021-06-01  2021-06-11       20.0        45115         6   \n",
       "107785  202106.0 2021-06-01  2021-06-24       10.0        45114        24   \n",
       "107786  202108.0 2021-08-01  2021-08-04       10.0        45114        24   \n",
       "107787  202106.0 2021-06-01  2021-06-24       20.0        45115        12   \n",
       "107788  202108.0 2021-08-01  2021-08-04       20.0        45115        12   \n",
       "\n",
       "        CodGrupoArt GrupoArticulos  codGrupoMaterial2 codGrupoMaterial4  ...  \\\n",
       "0              14.0     Corrosivos               27.0             284.0  ...   \n",
       "1              11.0     Espesantes               15.0             139.0  ...   \n",
       "2              11.0     Espesantes               15.0             139.0  ...   \n",
       "3              11.0     Espesantes               15.0             139.0  ...   \n",
       "4              11.0     Espesantes               15.0             139.0  ...   \n",
       "...             ...            ...                ...               ...  ...   \n",
       "107784         11.0     Espesantes               26.0             124.0  ...   \n",
       "107785         11.0     Espesantes               26.0             124.0  ...   \n",
       "107786         11.0     Espesantes               26.0             124.0  ...   \n",
       "107787         11.0     Espesantes               26.0             124.0  ...   \n",
       "107788         11.0     Espesantes               26.0             124.0  ...   \n",
       "\n",
       "       Tipo_Precio     Departamento     Localidad     Provincia Pais  \\\n",
       "0             10.0  LOMAS DE ZAMORA     TEMPERLEY  Buenos Aires   AR   \n",
       "1              1.0   TERCERO ARRIBA         OLIVA       Córdoba   AR   \n",
       "2              1.0   TERCERO ARRIBA         OLIVA       Córdoba   AR   \n",
       "3              1.0   TERCERO ARRIBA         OLIVA       Córdoba   AR   \n",
       "4              1.0   TERCERO ARRIBA         OLIVA       Córdoba   AR   \n",
       "...            ...              ...           ...           ...  ...   \n",
       "107784         9.0          ROSARIO       ROSARIO      Santa Fé   AR   \n",
       "107785         9.0          QUILMES  BERNAL OESTE  Buenos Aires   AR   \n",
       "107786         9.0          QUILMES  BERNAL OESTE  Buenos Aires   AR   \n",
       "107787         9.0          QUILMES  BERNAL OESTE  Buenos Aires   AR   \n",
       "107788         9.0          QUILMES  BERNAL OESTE  Buenos Aires   AR   \n",
       "\n",
       "       CodCliente_of  CodSucCliente_of  NroDocPedido   Año  Mes  \n",
       "0                  1                 1      514585.0  2021   11  \n",
       "1                  2                 2      232161.0  2018    2  \n",
       "2                  2                 2      260497.0  2018    8  \n",
       "3                  2                 2      281670.0  2018   11  \n",
       "4                  2                 2      281670.0  2019    1  \n",
       "...              ...               ...           ...   ...  ...  \n",
       "107784          1670              2243      479785.0  2021    6  \n",
       "107785          1671              2244      481967.0  2021    6  \n",
       "107786          1671              2244      491293.0  2021    8  \n",
       "107787          1671              2244      481967.0  2021    6  \n",
       "107788          1671              2244      491293.0  2021    8  \n",
       "\n",
       "[107789 rows x 21 columns]"
      ]
     },
     "execution_count": 66,
     "metadata": {},
     "output_type": "execute_result"
    }
   ],
   "source": [
    "df_clean_imputed"
   ]
  },
  {
   "cell_type": "markdown",
   "metadata": {
    "id": "-uOzvQBPHGe0"
   },
   "source": [
    "***Controlamos que no tengamos datos faltantes y vemos que se siga respetando los valores para cada Tipo_Precio***"
   ]
  },
  {
   "cell_type": "code",
   "execution_count": 67,
   "metadata": {
    "colab": {
     "base_uri": "https://localhost:8080/",
     "height": 708
    },
    "id": "gEwibda0HGe1",
    "outputId": "7b87351a-1db0-4c53-da3e-1dffc505bd40"
   },
   "outputs": [
    {
     "data": {
      "text/html": [
       "<div>\n",
       "<style scoped>\n",
       "    .dataframe tbody tr th:only-of-type {\n",
       "        vertical-align: middle;\n",
       "    }\n",
       "\n",
       "    .dataframe tbody tr th {\n",
       "        vertical-align: top;\n",
       "    }\n",
       "\n",
       "    .dataframe thead th {\n",
       "        text-align: right;\n",
       "    }\n",
       "</style>\n",
       "<table border=\"1\" class=\"dataframe\">\n",
       "  <thead>\n",
       "    <tr style=\"text-align: right;\">\n",
       "      <th></th>\n",
       "      <th>Cantidad Faltantes</th>\n",
       "      <th>Porcentaje Faltantes</th>\n",
       "    </tr>\n",
       "  </thead>\n",
       "  <tbody>\n",
       "    <tr>\n",
       "      <th>Periodo</th>\n",
       "      <td>0</td>\n",
       "      <td>0.0</td>\n",
       "    </tr>\n",
       "    <tr>\n",
       "      <th>Fecha</th>\n",
       "      <td>0</td>\n",
       "      <td>0.0</td>\n",
       "    </tr>\n",
       "    <tr>\n",
       "      <th>FechaPedido</th>\n",
       "      <td>0</td>\n",
       "      <td>0.0</td>\n",
       "    </tr>\n",
       "    <tr>\n",
       "      <th>PosPedido</th>\n",
       "      <td>0</td>\n",
       "      <td>0.0</td>\n",
       "    </tr>\n",
       "    <tr>\n",
       "      <th>CodMaterial</th>\n",
       "      <td>0</td>\n",
       "      <td>0.0</td>\n",
       "    </tr>\n",
       "    <tr>\n",
       "      <th>Cantidad</th>\n",
       "      <td>0</td>\n",
       "      <td>0.0</td>\n",
       "    </tr>\n",
       "    <tr>\n",
       "      <th>CodGrupoArt</th>\n",
       "      <td>0</td>\n",
       "      <td>0.0</td>\n",
       "    </tr>\n",
       "    <tr>\n",
       "      <th>GrupoArticulos</th>\n",
       "      <td>0</td>\n",
       "      <td>0.0</td>\n",
       "    </tr>\n",
       "    <tr>\n",
       "      <th>codGrupoMaterial2</th>\n",
       "      <td>0</td>\n",
       "      <td>0.0</td>\n",
       "    </tr>\n",
       "    <tr>\n",
       "      <th>codGrupoMaterial4</th>\n",
       "      <td>0</td>\n",
       "      <td>0.0</td>\n",
       "    </tr>\n",
       "    <tr>\n",
       "      <th>codGrupoMaterial5</th>\n",
       "      <td>0</td>\n",
       "      <td>0.0</td>\n",
       "    </tr>\n",
       "    <tr>\n",
       "      <th>Tipo_Precio</th>\n",
       "      <td>0</td>\n",
       "      <td>0.0</td>\n",
       "    </tr>\n",
       "    <tr>\n",
       "      <th>Departamento</th>\n",
       "      <td>0</td>\n",
       "      <td>0.0</td>\n",
       "    </tr>\n",
       "    <tr>\n",
       "      <th>Localidad</th>\n",
       "      <td>0</td>\n",
       "      <td>0.0</td>\n",
       "    </tr>\n",
       "    <tr>\n",
       "      <th>Provincia</th>\n",
       "      <td>0</td>\n",
       "      <td>0.0</td>\n",
       "    </tr>\n",
       "    <tr>\n",
       "      <th>Pais</th>\n",
       "      <td>0</td>\n",
       "      <td>0.0</td>\n",
       "    </tr>\n",
       "    <tr>\n",
       "      <th>CodCliente_of</th>\n",
       "      <td>0</td>\n",
       "      <td>0.0</td>\n",
       "    </tr>\n",
       "    <tr>\n",
       "      <th>CodSucCliente_of</th>\n",
       "      <td>0</td>\n",
       "      <td>0.0</td>\n",
       "    </tr>\n",
       "    <tr>\n",
       "      <th>NroDocPedido</th>\n",
       "      <td>0</td>\n",
       "      <td>0.0</td>\n",
       "    </tr>\n",
       "    <tr>\n",
       "      <th>Año</th>\n",
       "      <td>0</td>\n",
       "      <td>0.0</td>\n",
       "    </tr>\n",
       "    <tr>\n",
       "      <th>Mes</th>\n",
       "      <td>0</td>\n",
       "      <td>0.0</td>\n",
       "    </tr>\n",
       "  </tbody>\n",
       "</table>\n",
       "</div>"
      ],
      "text/plain": [
       "                   Cantidad Faltantes  Porcentaje Faltantes\n",
       "Periodo                             0                   0.0\n",
       "Fecha                               0                   0.0\n",
       "FechaPedido                         0                   0.0\n",
       "PosPedido                           0                   0.0\n",
       "CodMaterial                         0                   0.0\n",
       "Cantidad                            0                   0.0\n",
       "CodGrupoArt                         0                   0.0\n",
       "GrupoArticulos                      0                   0.0\n",
       "codGrupoMaterial2                   0                   0.0\n",
       "codGrupoMaterial4                   0                   0.0\n",
       "codGrupoMaterial5                   0                   0.0\n",
       "Tipo_Precio                         0                   0.0\n",
       "Departamento                        0                   0.0\n",
       "Localidad                           0                   0.0\n",
       "Provincia                           0                   0.0\n",
       "Pais                                0                   0.0\n",
       "CodCliente_of                       0                   0.0\n",
       "CodSucCliente_of                    0                   0.0\n",
       "NroDocPedido                        0                   0.0\n",
       "Año                                 0                   0.0\n",
       "Mes                                 0                   0.0"
      ]
     },
     "execution_count": 67,
     "metadata": {},
     "output_type": "execute_result"
    }
   ],
   "source": [
    "# Calculamos el porcentaje de valores faltantes\n",
    "porcentaje_faltantes = (df_clean_imputed.isnull().sum() / len(df_clean_imputed)) * 100\n",
    "porcentaje_faltantes = porcentaje_faltantes.round(2)\n",
    "\n",
    "# Calculamos la cantidad de valores faltantes\n",
    "cantidad_faltantes = df_clean_imputed.isnull().sum()\n",
    "\n",
    "tabla_faltantes = pd.DataFrame({'Cantidad Faltantes': cantidad_faltantes, 'Porcentaje Faltantes': porcentaje_faltantes})\n",
    "\n",
    "tabla_faltantes"
   ]
  },
  {
   "cell_type": "code",
   "execution_count": 68,
   "metadata": {
    "colab": {
     "base_uri": "https://localhost:8080/",
     "height": 143
    },
    "id": "0MibvX2yHGe3",
    "outputId": "66241ebf-ee92-4219-aed4-777a6efea4af"
   },
   "outputs": [
    {
     "data": {
      "text/html": [
       "<div>\n",
       "<style scoped>\n",
       "    .dataframe tbody tr th:only-of-type {\n",
       "        vertical-align: middle;\n",
       "    }\n",
       "\n",
       "    .dataframe tbody tr th {\n",
       "        vertical-align: top;\n",
       "    }\n",
       "\n",
       "    .dataframe thead th {\n",
       "        text-align: right;\n",
       "    }\n",
       "</style>\n",
       "<table border=\"1\" class=\"dataframe\">\n",
       "  <thead>\n",
       "    <tr style=\"text-align: right;\">\n",
       "      <th></th>\n",
       "      <th>codGrupoMaterial2</th>\n",
       "      <th>Tipo_Precio</th>\n",
       "    </tr>\n",
       "  </thead>\n",
       "  <tbody>\n",
       "    <tr>\n",
       "      <th>0</th>\n",
       "      <td>27.0</td>\n",
       "      <td>10.0</td>\n",
       "    </tr>\n",
       "    <tr>\n",
       "      <th>1</th>\n",
       "      <td>15.0</td>\n",
       "      <td>1.0</td>\n",
       "    </tr>\n",
       "    <tr>\n",
       "      <th>3459</th>\n",
       "      <td>26.0</td>\n",
       "      <td>9.0</td>\n",
       "    </tr>\n",
       "  </tbody>\n",
       "</table>\n",
       "</div>"
      ],
      "text/plain": [
       "      codGrupoMaterial2  Tipo_Precio\n",
       "0                  27.0         10.0\n",
       "1                  15.0          1.0\n",
       "3459               26.0          9.0"
      ]
     },
     "execution_count": 68,
     "metadata": {},
     "output_type": "execute_result"
    }
   ],
   "source": [
    "tabla_valores_unicos_2 = df_clean_imputed[['codGrupoMaterial2', 'Tipo_Precio']].drop_duplicates()\n",
    "tabla_valores_unicos_2"
   ]
  },
  {
   "cell_type": "code",
   "execution_count": 69,
   "metadata": {},
   "outputs": [
    {
     "data": {
      "text/plain": [
       "Text(0.5, 1.0, 'Datos tratados')"
      ]
     },
     "execution_count": 69,
     "metadata": {},
     "output_type": "execute_result"
    },
    {
     "data": {
      "image/png": "[encoded data removed]",
      "text/plain": [
       "<Figure size 640x480 with 2 Axes>"
      ]
     },
     "metadata": {},
     "output_type": "display_data"
    }
   ],
   "source": [
    "df_plot = df_clean.copy()\n",
    "df_plot2 = df_clean_imputed.copy()\n",
    "\n",
    "df_plot['codGrupoMaterial2'] = df_plot['codGrupoMaterial2'].astype('object')\n",
    "df_plot2['codGrupoMaterial2'] = df_plot2['codGrupoMaterial2'].astype('object')\n",
    "\n",
    "\n",
    "fig, ax =plt.subplots(1,2)\n",
    "sns.kdeplot(df_plot, x='codGrupoMaterial2', ax=ax[0])\n",
    "ax[0].set_title('Datos originales')\n",
    "sns.kdeplot(df_plot2, x='codGrupoMaterial2', ax=ax[1])\n",
    "ax[1].set_title('Datos tratados')"
   ]
  },
  {
   "cell_type": "markdown",
   "metadata": {
    "id": "WYSFjVFVHGe5"
   },
   "source": [
    "\n",
    "### 5- Existe un método de imputación de datos, específico para series temporales, que se denomina Forward fill. ¿Creen que sería adecuado su uso en este dataset?.    \n"
   ]
  },
  {
   "cell_type": "markdown",
   "metadata": {
    "id": "ONCz8GVtHGe6"
   },
   "source": [
    "El método Forward Fill segun entendemos es una técnica de imputación de datos utilizada para llenar los valores faltantes en un conjunto de datos. Como dice la consigna, es especifico para cuando tenemos datos faltantes en una serie temporal. Lo que hace es copiar el último valor válido conocido y utilizarlo para llenar los valores faltantes hasta que se encuentre un nuevo valor válido.\n",
    "\n",
    "La idea detras segun vemos es que toma los valores cercanos en el tiempo o en el orden de observación. Por lo tanto, al llenar los valores faltantes con el último valor válido conocido, estamos asumiendo que los valores posteriores seguirán una tendencia o patrón similar.\n",
    "\n",
    "La aplicación del método Forward Fill implica iterar sobre los datos desde el principio hasta el final, y en cada paso, si encontramos un valor faltante, lo reemplazamos con el último valor válido conocido. Esto se repite hasta que se llega al final de los datos.\n",
    "\n",
    "Es importante destacar que el Forward Fill es adecuado para datos donde la información pasada o anterior tiene una influencia directa en los valores futuros. Sin embargo, también tiene limitaciones, ya que puede introducir cierto sesgo en los datos si la suposición de continuidad no es válida.\n",
    "\n",
    "No creemos que este meto pueda llegar a implementarse con los datos que tenemos, por un lado la columna de \"GrupoArticulos\" se puede completar tranquilamente con una condicion dado el valor de la columna \"CodGrupoArt\" y esto si lo completamos con este metodo de imputacion podria llegar a no corresponder el dato temporal con el verdadero valor, a continuacion lo ejecutamos para demostrarlo (lo mismo ocurre con el caso de codGrupoMaterial2)."
   ]
  },
  {
   "cell_type": "code",
   "execution_count": 70,
   "metadata": {
    "colab": {
     "base_uri": "https://localhost:8080/",
     "height": 661
    },
    "id": "cSU5eLEjHGe7",
    "outputId": "008aca46-1d93-4730-807d-17c341892b04"
   },
   "outputs": [
    {
     "data": {
      "text/html": [
       "<div>\n",
       "<style scoped>\n",
       "    .dataframe tbody tr th:only-of-type {\n",
       "        vertical-align: middle;\n",
       "    }\n",
       "\n",
       "    .dataframe tbody tr th {\n",
       "        vertical-align: top;\n",
       "    }\n",
       "\n",
       "    .dataframe thead th {\n",
       "        text-align: right;\n",
       "    }\n",
       "</style>\n",
       "<table border=\"1\" class=\"dataframe\">\n",
       "  <thead>\n",
       "    <tr style=\"text-align: right;\">\n",
       "      <th></th>\n",
       "      <th>Periodo</th>\n",
       "      <th>Fecha</th>\n",
       "      <th>FechaPedido</th>\n",
       "      <th>PosPedido</th>\n",
       "      <th>CodMaterial</th>\n",
       "      <th>Cantidad</th>\n",
       "      <th>CodGrupoArt</th>\n",
       "      <th>GrupoArticulos</th>\n",
       "      <th>codGrupoMaterial2</th>\n",
       "      <th>codGrupoMaterial4</th>\n",
       "      <th>...</th>\n",
       "      <th>Tipo_Precio</th>\n",
       "      <th>Departamento</th>\n",
       "      <th>Localidad</th>\n",
       "      <th>Provincia</th>\n",
       "      <th>Pais</th>\n",
       "      <th>CodCliente_of</th>\n",
       "      <th>CodSucCliente_of</th>\n",
       "      <th>NroDocPedido</th>\n",
       "      <th>Año</th>\n",
       "      <th>Mes</th>\n",
       "    </tr>\n",
       "  </thead>\n",
       "  <tbody>\n",
       "    <tr>\n",
       "      <th>0</th>\n",
       "      <td>202111.0</td>\n",
       "      <td>2021-11-01</td>\n",
       "      <td>2021-11-01</td>\n",
       "      <td>10.0</td>\n",
       "      <td>81074</td>\n",
       "      <td>480</td>\n",
       "      <td>14.0</td>\n",
       "      <td>Corrosivos</td>\n",
       "      <td>27.0</td>\n",
       "      <td>284.0</td>\n",
       "      <td>...</td>\n",
       "      <td>10.0</td>\n",
       "      <td>LOMAS DE ZAMORA</td>\n",
       "      <td>TEMPERLEY</td>\n",
       "      <td>Buenos Aires</td>\n",
       "      <td>AR</td>\n",
       "      <td>1</td>\n",
       "      <td>1</td>\n",
       "      <td>514585.0</td>\n",
       "      <td>2021</td>\n",
       "      <td>11</td>\n",
       "    </tr>\n",
       "    <tr>\n",
       "      <th>1</th>\n",
       "      <td>201802.0</td>\n",
       "      <td>2018-02-01</td>\n",
       "      <td>2018-02-15</td>\n",
       "      <td>930.0</td>\n",
       "      <td>8051</td>\n",
       "      <td>24</td>\n",
       "      <td>11.0</td>\n",
       "      <td>Espesantes</td>\n",
       "      <td>15.0</td>\n",
       "      <td>139.0</td>\n",
       "      <td>...</td>\n",
       "      <td>1.0</td>\n",
       "      <td>TERCERO ARRIBA</td>\n",
       "      <td>OLIVA</td>\n",
       "      <td>Córdoba</td>\n",
       "      <td>AR</td>\n",
       "      <td>2</td>\n",
       "      <td>2</td>\n",
       "      <td>232161.0</td>\n",
       "      <td>2018</td>\n",
       "      <td>2</td>\n",
       "    </tr>\n",
       "    <tr>\n",
       "      <th>2</th>\n",
       "      <td>201808.0</td>\n",
       "      <td>2018-08-01</td>\n",
       "      <td>2018-08-15</td>\n",
       "      <td>130.0</td>\n",
       "      <td>8051</td>\n",
       "      <td>24</td>\n",
       "      <td>11.0</td>\n",
       "      <td>Espesantes</td>\n",
       "      <td>15.0</td>\n",
       "      <td>139.0</td>\n",
       "      <td>...</td>\n",
       "      <td>1.0</td>\n",
       "      <td>TERCERO ARRIBA</td>\n",
       "      <td>OLIVA</td>\n",
       "      <td>Córdoba</td>\n",
       "      <td>AR</td>\n",
       "      <td>2</td>\n",
       "      <td>2</td>\n",
       "      <td>260497.0</td>\n",
       "      <td>2018</td>\n",
       "      <td>8</td>\n",
       "    </tr>\n",
       "    <tr>\n",
       "      <th>3</th>\n",
       "      <td>201811.0</td>\n",
       "      <td>2018-11-01</td>\n",
       "      <td>2018-11-16</td>\n",
       "      <td>790.0</td>\n",
       "      <td>8051</td>\n",
       "      <td>24</td>\n",
       "      <td>11.0</td>\n",
       "      <td>Espesantes</td>\n",
       "      <td>15.0</td>\n",
       "      <td>139.0</td>\n",
       "      <td>...</td>\n",
       "      <td>1.0</td>\n",
       "      <td>TERCERO ARRIBA</td>\n",
       "      <td>OLIVA</td>\n",
       "      <td>Córdoba</td>\n",
       "      <td>AR</td>\n",
       "      <td>2</td>\n",
       "      <td>2</td>\n",
       "      <td>281670.0</td>\n",
       "      <td>2018</td>\n",
       "      <td>11</td>\n",
       "    </tr>\n",
       "    <tr>\n",
       "      <th>4</th>\n",
       "      <td>201901.0</td>\n",
       "      <td>2019-01-01</td>\n",
       "      <td>2019-01-21</td>\n",
       "      <td>790.0</td>\n",
       "      <td>8051</td>\n",
       "      <td>-24</td>\n",
       "      <td>11.0</td>\n",
       "      <td>Espesantes</td>\n",
       "      <td>15.0</td>\n",
       "      <td>139.0</td>\n",
       "      <td>...</td>\n",
       "      <td>1.0</td>\n",
       "      <td>TERCERO ARRIBA</td>\n",
       "      <td>OLIVA</td>\n",
       "      <td>Córdoba</td>\n",
       "      <td>AR</td>\n",
       "      <td>2</td>\n",
       "      <td>2</td>\n",
       "      <td>281670.0</td>\n",
       "      <td>2019</td>\n",
       "      <td>1</td>\n",
       "    </tr>\n",
       "    <tr>\n",
       "      <th>...</th>\n",
       "      <td>...</td>\n",
       "      <td>...</td>\n",
       "      <td>...</td>\n",
       "      <td>...</td>\n",
       "      <td>...</td>\n",
       "      <td>...</td>\n",
       "      <td>...</td>\n",
       "      <td>...</td>\n",
       "      <td>...</td>\n",
       "      <td>...</td>\n",
       "      <td>...</td>\n",
       "      <td>...</td>\n",
       "      <td>...</td>\n",
       "      <td>...</td>\n",
       "      <td>...</td>\n",
       "      <td>...</td>\n",
       "      <td>...</td>\n",
       "      <td>...</td>\n",
       "      <td>...</td>\n",
       "      <td>...</td>\n",
       "      <td>...</td>\n",
       "    </tr>\n",
       "    <tr>\n",
       "      <th>107784</th>\n",
       "      <td>202106.0</td>\n",
       "      <td>2021-06-01</td>\n",
       "      <td>2021-06-11</td>\n",
       "      <td>20.0</td>\n",
       "      <td>45115</td>\n",
       "      <td>6</td>\n",
       "      <td>11.0</td>\n",
       "      <td>Espesantes</td>\n",
       "      <td>26.0</td>\n",
       "      <td>124.0</td>\n",
       "      <td>...</td>\n",
       "      <td>9.0</td>\n",
       "      <td>ROSARIO</td>\n",
       "      <td>ROSARIO</td>\n",
       "      <td>Santa Fé</td>\n",
       "      <td>AR</td>\n",
       "      <td>1670</td>\n",
       "      <td>2243</td>\n",
       "      <td>479785.0</td>\n",
       "      <td>2021</td>\n",
       "      <td>6</td>\n",
       "    </tr>\n",
       "    <tr>\n",
       "      <th>107785</th>\n",
       "      <td>202106.0</td>\n",
       "      <td>2021-06-01</td>\n",
       "      <td>2021-06-24</td>\n",
       "      <td>10.0</td>\n",
       "      <td>45114</td>\n",
       "      <td>24</td>\n",
       "      <td>11.0</td>\n",
       "      <td>Espesantes</td>\n",
       "      <td>26.0</td>\n",
       "      <td>124.0</td>\n",
       "      <td>...</td>\n",
       "      <td>9.0</td>\n",
       "      <td>QUILMES</td>\n",
       "      <td>BERNAL OESTE</td>\n",
       "      <td>Buenos Aires</td>\n",
       "      <td>AR</td>\n",
       "      <td>1671</td>\n",
       "      <td>2244</td>\n",
       "      <td>481967.0</td>\n",
       "      <td>2021</td>\n",
       "      <td>6</td>\n",
       "    </tr>\n",
       "    <tr>\n",
       "      <th>107786</th>\n",
       "      <td>202108.0</td>\n",
       "      <td>2021-08-01</td>\n",
       "      <td>2021-08-04</td>\n",
       "      <td>10.0</td>\n",
       "      <td>45114</td>\n",
       "      <td>24</td>\n",
       "      <td>11.0</td>\n",
       "      <td>Espesantes</td>\n",
       "      <td>26.0</td>\n",
       "      <td>124.0</td>\n",
       "      <td>...</td>\n",
       "      <td>9.0</td>\n",
       "      <td>QUILMES</td>\n",
       "      <td>BERNAL OESTE</td>\n",
       "      <td>Buenos Aires</td>\n",
       "      <td>AR</td>\n",
       "      <td>1671</td>\n",
       "      <td>2244</td>\n",
       "      <td>491293.0</td>\n",
       "      <td>2021</td>\n",
       "      <td>8</td>\n",
       "    </tr>\n",
       "    <tr>\n",
       "      <th>107787</th>\n",
       "      <td>202106.0</td>\n",
       "      <td>2021-06-01</td>\n",
       "      <td>2021-06-24</td>\n",
       "      <td>20.0</td>\n",
       "      <td>45115</td>\n",
       "      <td>12</td>\n",
       "      <td>11.0</td>\n",
       "      <td>Espesantes</td>\n",
       "      <td>26.0</td>\n",
       "      <td>124.0</td>\n",
       "      <td>...</td>\n",
       "      <td>9.0</td>\n",
       "      <td>QUILMES</td>\n",
       "      <td>BERNAL OESTE</td>\n",
       "      <td>Buenos Aires</td>\n",
       "      <td>AR</td>\n",
       "      <td>1671</td>\n",
       "      <td>2244</td>\n",
       "      <td>481967.0</td>\n",
       "      <td>2021</td>\n",
       "      <td>6</td>\n",
       "    </tr>\n",
       "    <tr>\n",
       "      <th>107788</th>\n",
       "      <td>202108.0</td>\n",
       "      <td>2021-08-01</td>\n",
       "      <td>2021-08-04</td>\n",
       "      <td>20.0</td>\n",
       "      <td>45115</td>\n",
       "      <td>12</td>\n",
       "      <td>11.0</td>\n",
       "      <td>Espesantes</td>\n",
       "      <td>26.0</td>\n",
       "      <td>124.0</td>\n",
       "      <td>...</td>\n",
       "      <td>9.0</td>\n",
       "      <td>QUILMES</td>\n",
       "      <td>BERNAL OESTE</td>\n",
       "      <td>Buenos Aires</td>\n",
       "      <td>AR</td>\n",
       "      <td>1671</td>\n",
       "      <td>2244</td>\n",
       "      <td>491293.0</td>\n",
       "      <td>2021</td>\n",
       "      <td>8</td>\n",
       "    </tr>\n",
       "  </tbody>\n",
       "</table>\n",
       "<p>107789 rows × 21 columns</p>\n",
       "</div>"
      ],
      "text/plain": [
       "         Periodo      Fecha FechaPedido  PosPedido  CodMaterial  Cantidad  \\\n",
       "0       202111.0 2021-11-01  2021-11-01       10.0        81074       480   \n",
       "1       201802.0 2018-02-01  2018-02-15      930.0         8051        24   \n",
       "2       201808.0 2018-08-01  2018-08-15      130.0         8051        24   \n",
       "3       201811.0 2018-11-01  2018-11-16      790.0         8051        24   \n",
       "4       201901.0 2019-01-01  2019-01-21      790.0         8051       -24   \n",
       "...          ...        ...         ...        ...          ...       ...   \n",
       "107784  202106.0 2021-06-01  2021-06-11       20.0        45115         6   \n",
       "107785  202106.0 2021-06-01  2021-06-24       10.0        45114        24   \n",
       "107786  202108.0 2021-08-01  2021-08-04       10.0        45114        24   \n",
       "107787  202106.0 2021-06-01  2021-06-24       20.0        45115        12   \n",
       "107788  202108.0 2021-08-01  2021-08-04       20.0        45115        12   \n",
       "\n",
       "        CodGrupoArt GrupoArticulos codGrupoMaterial2 codGrupoMaterial4  ...  \\\n",
       "0              14.0     Corrosivos              27.0             284.0  ...   \n",
       "1              11.0     Espesantes              15.0             139.0  ...   \n",
       "2              11.0     Espesantes              15.0             139.0  ...   \n",
       "3              11.0     Espesantes              15.0             139.0  ...   \n",
       "4              11.0     Espesantes              15.0             139.0  ...   \n",
       "...             ...            ...               ...               ...  ...   \n",
       "107784         11.0     Espesantes              26.0             124.0  ...   \n",
       "107785         11.0     Espesantes              26.0             124.0  ...   \n",
       "107786         11.0     Espesantes              26.0             124.0  ...   \n",
       "107787         11.0     Espesantes              26.0             124.0  ...   \n",
       "107788         11.0     Espesantes              26.0             124.0  ...   \n",
       "\n",
       "       Tipo_Precio     Departamento     Localidad     Provincia Pais  \\\n",
       "0             10.0  LOMAS DE ZAMORA     TEMPERLEY  Buenos Aires   AR   \n",
       "1              1.0   TERCERO ARRIBA         OLIVA       Córdoba   AR   \n",
       "2              1.0   TERCERO ARRIBA         OLIVA       Córdoba   AR   \n",
       "3              1.0   TERCERO ARRIBA         OLIVA       Córdoba   AR   \n",
       "4              1.0   TERCERO ARRIBA         OLIVA       Córdoba   AR   \n",
       "...            ...              ...           ...           ...  ...   \n",
       "107784         9.0          ROSARIO       ROSARIO      Santa Fé   AR   \n",
       "107785         9.0          QUILMES  BERNAL OESTE  Buenos Aires   AR   \n",
       "107786         9.0          QUILMES  BERNAL OESTE  Buenos Aires   AR   \n",
       "107787         9.0          QUILMES  BERNAL OESTE  Buenos Aires   AR   \n",
       "107788         9.0          QUILMES  BERNAL OESTE  Buenos Aires   AR   \n",
       "\n",
       "       CodCliente_of  CodSucCliente_of  NroDocPedido   Año  Mes  \n",
       "0                  1                 1      514585.0  2021   11  \n",
       "1                  2                 2      232161.0  2018    2  \n",
       "2                  2                 2      260497.0  2018    8  \n",
       "3                  2                 2      281670.0  2018   11  \n",
       "4                  2                 2      281670.0  2019    1  \n",
       "...              ...               ...           ...   ...  ...  \n",
       "107784          1670              2243      479785.0  2021    6  \n",
       "107785          1671              2244      481967.0  2021    6  \n",
       "107786          1671              2244      491293.0  2021    8  \n",
       "107787          1671              2244      481967.0  2021    6  \n",
       "107788          1671              2244      491293.0  2021    8  \n",
       "\n",
       "[107789 rows x 21 columns]"
      ]
     },
     "execution_count": 70,
     "metadata": {},
     "output_type": "execute_result"
    }
   ],
   "source": [
    "# Crear un nuevo DataFrame con la columna \"GrupoArticulos\" rellenada utilizando Forward Fill\n",
    "df_FF = df_clean.copy()\n",
    "df_FF['GrupoArticulos'] = df_FF['GrupoArticulos'].fillna(method='ffill')\n",
    "\n",
    "# Mostrar el nuevo DataFrame actualizado\n",
    "df_FF"
   ]
  },
  {
   "cell_type": "code",
   "execution_count": 71,
   "metadata": {
    "colab": {
     "base_uri": "https://localhost:8080/",
     "height": 112
    },
    "id": "WSvag7xLHGe9",
    "outputId": "b35c8872-1b7f-467e-ca8a-045dc29397a8"
   },
   "outputs": [
    {
     "data": {
      "text/html": [
       "<div>\n",
       "<style scoped>\n",
       "    .dataframe tbody tr th:only-of-type {\n",
       "        vertical-align: middle;\n",
       "    }\n",
       "\n",
       "    .dataframe tbody tr th {\n",
       "        vertical-align: top;\n",
       "    }\n",
       "\n",
       "    .dataframe thead th {\n",
       "        text-align: right;\n",
       "    }\n",
       "</style>\n",
       "<table border=\"1\" class=\"dataframe\">\n",
       "  <thead>\n",
       "    <tr style=\"text-align: right;\">\n",
       "      <th></th>\n",
       "      <th>CodGrupoArt</th>\n",
       "      <th>GrupoArticulos</th>\n",
       "    </tr>\n",
       "  </thead>\n",
       "  <tbody>\n",
       "    <tr>\n",
       "      <th>0</th>\n",
       "      <td>14.0</td>\n",
       "      <td>Corrosivos</td>\n",
       "    </tr>\n",
       "    <tr>\n",
       "      <th>1</th>\n",
       "      <td>11.0</td>\n",
       "      <td>Espesantes</td>\n",
       "    </tr>\n",
       "    <tr>\n",
       "      <th>929</th>\n",
       "      <td>14.0</td>\n",
       "      <td>Espesantes</td>\n",
       "    </tr>\n",
       "    <tr>\n",
       "      <th>1426</th>\n",
       "      <td>11.0</td>\n",
       "      <td>Corrosivos</td>\n",
       "    </tr>\n",
       "  </tbody>\n",
       "</table>\n",
       "</div>"
      ],
      "text/plain": [
       "      CodGrupoArt GrupoArticulos\n",
       "0            14.0     Corrosivos\n",
       "1            11.0     Espesantes\n",
       "929          14.0     Espesantes\n",
       "1426         11.0     Corrosivos"
      ]
     },
     "execution_count": 71,
     "metadata": {},
     "output_type": "execute_result"
    }
   ],
   "source": [
    "# Eliminar duplicados en las columnas \"CodGrupoArt\" y \"GrupoArticulos\"\n",
    "tabla_valores_unicos = df_FF [[\"CodGrupoArt\", \"GrupoArticulos\"]].drop_duplicates()\n",
    "\n",
    "tabla_valores_unicos"
   ]
  },
  {
   "cell_type": "markdown",
   "metadata": {},
   "source": [
    "</br>"
   ]
  },
  {
   "cell_type": "markdown",
   "metadata": {
    "id": "VgXQFewvHGe-"
   },
   "source": [
    "\n",
    "### 6- Creación de nuevas variables. Esta etapa consiste en crear o transformar variables a fin de poder alimentar el algoritmo de aprendizaje automático. Recordemos que el algoritmo solo puede procesar números, por lo que las variables que posean categorías deben se codificadas o eliminadas.\n",
    "\n"
   ]
  },
  {
   "cell_type": "code",
   "execution_count": 72,
   "metadata": {
    "colab": {
     "base_uri": "https://localhost:8080/",
     "height": 661
    },
    "id": "BNcOvc9IHGfA",
    "outputId": "d843a87f-5b17-4760-819b-b76aaa178cbf"
   },
   "outputs": [
    {
     "data": {
      "text/html": [
       "<div>\n",
       "<style scoped>\n",
       "    .dataframe tbody tr th:only-of-type {\n",
       "        vertical-align: middle;\n",
       "    }\n",
       "\n",
       "    .dataframe tbody tr th {\n",
       "        vertical-align: top;\n",
       "    }\n",
       "\n",
       "    .dataframe thead th {\n",
       "        text-align: right;\n",
       "    }\n",
       "</style>\n",
       "<table border=\"1\" class=\"dataframe\">\n",
       "  <thead>\n",
       "    <tr style=\"text-align: right;\">\n",
       "      <th></th>\n",
       "      <th>PosPedido</th>\n",
       "      <th>CodMaterial</th>\n",
       "      <th>Cantidad</th>\n",
       "      <th>CodGrupoArt</th>\n",
       "      <th>GrupoArticulos</th>\n",
       "      <th>codGrupoMaterial2</th>\n",
       "      <th>codGrupoMaterial4</th>\n",
       "      <th>codGrupoMaterial5</th>\n",
       "      <th>Tipo_Precio</th>\n",
       "      <th>Departamento</th>\n",
       "      <th>Localidad</th>\n",
       "      <th>Provincia</th>\n",
       "      <th>Pais</th>\n",
       "      <th>CodCliente_of</th>\n",
       "      <th>CodSucCliente_of</th>\n",
       "      <th>NroDocPedido</th>\n",
       "      <th>Año</th>\n",
       "      <th>Mes</th>\n",
       "    </tr>\n",
       "  </thead>\n",
       "  <tbody>\n",
       "    <tr>\n",
       "      <th>0</th>\n",
       "      <td>10.0</td>\n",
       "      <td>81074</td>\n",
       "      <td>480</td>\n",
       "      <td>14.0</td>\n",
       "      <td>Corrosivos</td>\n",
       "      <td>27.0</td>\n",
       "      <td>284.0</td>\n",
       "      <td>674.0</td>\n",
       "      <td>10.0</td>\n",
       "      <td>LOMAS DE ZAMORA</td>\n",
       "      <td>TEMPERLEY</td>\n",
       "      <td>Buenos Aires</td>\n",
       "      <td>AR</td>\n",
       "      <td>1</td>\n",
       "      <td>1</td>\n",
       "      <td>514585.0</td>\n",
       "      <td>2021</td>\n",
       "      <td>11</td>\n",
       "    </tr>\n",
       "    <tr>\n",
       "      <th>1</th>\n",
       "      <td>930.0</td>\n",
       "      <td>8051</td>\n",
       "      <td>24</td>\n",
       "      <td>11.0</td>\n",
       "      <td>Espesantes</td>\n",
       "      <td>15.0</td>\n",
       "      <td>139.0</td>\n",
       "      <td>291.0</td>\n",
       "      <td>1.0</td>\n",
       "      <td>TERCERO ARRIBA</td>\n",
       "      <td>OLIVA</td>\n",
       "      <td>Córdoba</td>\n",
       "      <td>AR</td>\n",
       "      <td>2</td>\n",
       "      <td>2</td>\n",
       "      <td>232161.0</td>\n",
       "      <td>2018</td>\n",
       "      <td>2</td>\n",
       "    </tr>\n",
       "    <tr>\n",
       "      <th>2</th>\n",
       "      <td>130.0</td>\n",
       "      <td>8051</td>\n",
       "      <td>24</td>\n",
       "      <td>11.0</td>\n",
       "      <td>Espesantes</td>\n",
       "      <td>15.0</td>\n",
       "      <td>139.0</td>\n",
       "      <td>291.0</td>\n",
       "      <td>1.0</td>\n",
       "      <td>TERCERO ARRIBA</td>\n",
       "      <td>OLIVA</td>\n",
       "      <td>Córdoba</td>\n",
       "      <td>AR</td>\n",
       "      <td>2</td>\n",
       "      <td>2</td>\n",
       "      <td>260497.0</td>\n",
       "      <td>2018</td>\n",
       "      <td>8</td>\n",
       "    </tr>\n",
       "    <tr>\n",
       "      <th>3</th>\n",
       "      <td>790.0</td>\n",
       "      <td>8051</td>\n",
       "      <td>24</td>\n",
       "      <td>11.0</td>\n",
       "      <td>Espesantes</td>\n",
       "      <td>15.0</td>\n",
       "      <td>139.0</td>\n",
       "      <td>291.0</td>\n",
       "      <td>1.0</td>\n",
       "      <td>TERCERO ARRIBA</td>\n",
       "      <td>OLIVA</td>\n",
       "      <td>Córdoba</td>\n",
       "      <td>AR</td>\n",
       "      <td>2</td>\n",
       "      <td>2</td>\n",
       "      <td>281670.0</td>\n",
       "      <td>2018</td>\n",
       "      <td>11</td>\n",
       "    </tr>\n",
       "    <tr>\n",
       "      <th>4</th>\n",
       "      <td>790.0</td>\n",
       "      <td>8051</td>\n",
       "      <td>-24</td>\n",
       "      <td>11.0</td>\n",
       "      <td>Espesantes</td>\n",
       "      <td>15.0</td>\n",
       "      <td>139.0</td>\n",
       "      <td>291.0</td>\n",
       "      <td>1.0</td>\n",
       "      <td>TERCERO ARRIBA</td>\n",
       "      <td>OLIVA</td>\n",
       "      <td>Córdoba</td>\n",
       "      <td>AR</td>\n",
       "      <td>2</td>\n",
       "      <td>2</td>\n",
       "      <td>281670.0</td>\n",
       "      <td>2019</td>\n",
       "      <td>1</td>\n",
       "    </tr>\n",
       "    <tr>\n",
       "      <th>...</th>\n",
       "      <td>...</td>\n",
       "      <td>...</td>\n",
       "      <td>...</td>\n",
       "      <td>...</td>\n",
       "      <td>...</td>\n",
       "      <td>...</td>\n",
       "      <td>...</td>\n",
       "      <td>...</td>\n",
       "      <td>...</td>\n",
       "      <td>...</td>\n",
       "      <td>...</td>\n",
       "      <td>...</td>\n",
       "      <td>...</td>\n",
       "      <td>...</td>\n",
       "      <td>...</td>\n",
       "      <td>...</td>\n",
       "      <td>...</td>\n",
       "      <td>...</td>\n",
       "    </tr>\n",
       "    <tr>\n",
       "      <th>107784</th>\n",
       "      <td>20.0</td>\n",
       "      <td>45115</td>\n",
       "      <td>6</td>\n",
       "      <td>11.0</td>\n",
       "      <td>Espesantes</td>\n",
       "      <td>26.0</td>\n",
       "      <td>124.0</td>\n",
       "      <td>228.0</td>\n",
       "      <td>9.0</td>\n",
       "      <td>ROSARIO</td>\n",
       "      <td>ROSARIO</td>\n",
       "      <td>Santa Fé</td>\n",
       "      <td>AR</td>\n",
       "      <td>1670</td>\n",
       "      <td>2243</td>\n",
       "      <td>479785.0</td>\n",
       "      <td>2021</td>\n",
       "      <td>6</td>\n",
       "    </tr>\n",
       "    <tr>\n",
       "      <th>107785</th>\n",
       "      <td>10.0</td>\n",
       "      <td>45114</td>\n",
       "      <td>24</td>\n",
       "      <td>11.0</td>\n",
       "      <td>Espesantes</td>\n",
       "      <td>26.0</td>\n",
       "      <td>124.0</td>\n",
       "      <td>228.0</td>\n",
       "      <td>9.0</td>\n",
       "      <td>QUILMES</td>\n",
       "      <td>BERNAL OESTE</td>\n",
       "      <td>Buenos Aires</td>\n",
       "      <td>AR</td>\n",
       "      <td>1671</td>\n",
       "      <td>2244</td>\n",
       "      <td>481967.0</td>\n",
       "      <td>2021</td>\n",
       "      <td>6</td>\n",
       "    </tr>\n",
       "    <tr>\n",
       "      <th>107786</th>\n",
       "      <td>10.0</td>\n",
       "      <td>45114</td>\n",
       "      <td>24</td>\n",
       "      <td>11.0</td>\n",
       "      <td>Espesantes</td>\n",
       "      <td>26.0</td>\n",
       "      <td>124.0</td>\n",
       "      <td>228.0</td>\n",
       "      <td>9.0</td>\n",
       "      <td>QUILMES</td>\n",
       "      <td>BERNAL OESTE</td>\n",
       "      <td>Buenos Aires</td>\n",
       "      <td>AR</td>\n",
       "      <td>1671</td>\n",
       "      <td>2244</td>\n",
       "      <td>491293.0</td>\n",
       "      <td>2021</td>\n",
       "      <td>8</td>\n",
       "    </tr>\n",
       "    <tr>\n",
       "      <th>107787</th>\n",
       "      <td>20.0</td>\n",
       "      <td>45115</td>\n",
       "      <td>12</td>\n",
       "      <td>11.0</td>\n",
       "      <td>Espesantes</td>\n",
       "      <td>26.0</td>\n",
       "      <td>124.0</td>\n",
       "      <td>228.0</td>\n",
       "      <td>9.0</td>\n",
       "      <td>QUILMES</td>\n",
       "      <td>BERNAL OESTE</td>\n",
       "      <td>Buenos Aires</td>\n",
       "      <td>AR</td>\n",
       "      <td>1671</td>\n",
       "      <td>2244</td>\n",
       "      <td>481967.0</td>\n",
       "      <td>2021</td>\n",
       "      <td>6</td>\n",
       "    </tr>\n",
       "    <tr>\n",
       "      <th>107788</th>\n",
       "      <td>20.0</td>\n",
       "      <td>45115</td>\n",
       "      <td>12</td>\n",
       "      <td>11.0</td>\n",
       "      <td>Espesantes</td>\n",
       "      <td>26.0</td>\n",
       "      <td>124.0</td>\n",
       "      <td>228.0</td>\n",
       "      <td>9.0</td>\n",
       "      <td>QUILMES</td>\n",
       "      <td>BERNAL OESTE</td>\n",
       "      <td>Buenos Aires</td>\n",
       "      <td>AR</td>\n",
       "      <td>1671</td>\n",
       "      <td>2244</td>\n",
       "      <td>491293.0</td>\n",
       "      <td>2021</td>\n",
       "      <td>8</td>\n",
       "    </tr>\n",
       "  </tbody>\n",
       "</table>\n",
       "<p>107789 rows × 18 columns</p>\n",
       "</div>"
      ],
      "text/plain": [
       "        PosPedido  CodMaterial  Cantidad  CodGrupoArt GrupoArticulos  \\\n",
       "0            10.0        81074       480         14.0     Corrosivos   \n",
       "1           930.0         8051        24         11.0     Espesantes   \n",
       "2           130.0         8051        24         11.0     Espesantes   \n",
       "3           790.0         8051        24         11.0     Espesantes   \n",
       "4           790.0         8051       -24         11.0     Espesantes   \n",
       "...           ...          ...       ...          ...            ...   \n",
       "107784       20.0        45115         6         11.0     Espesantes   \n",
       "107785       10.0        45114        24         11.0     Espesantes   \n",
       "107786       10.0        45114        24         11.0     Espesantes   \n",
       "107787       20.0        45115        12         11.0     Espesantes   \n",
       "107788       20.0        45115        12         11.0     Espesantes   \n",
       "\n",
       "        codGrupoMaterial2 codGrupoMaterial4 codGrupoMaterial5  Tipo_Precio  \\\n",
       "0                    27.0             284.0             674.0         10.0   \n",
       "1                    15.0             139.0             291.0          1.0   \n",
       "2                    15.0             139.0             291.0          1.0   \n",
       "3                    15.0             139.0             291.0          1.0   \n",
       "4                    15.0             139.0             291.0          1.0   \n",
       "...                   ...               ...               ...          ...   \n",
       "107784               26.0             124.0             228.0          9.0   \n",
       "107785               26.0             124.0             228.0          9.0   \n",
       "107786               26.0             124.0             228.0          9.0   \n",
       "107787               26.0             124.0             228.0          9.0   \n",
       "107788               26.0             124.0             228.0          9.0   \n",
       "\n",
       "           Departamento     Localidad     Provincia Pais  CodCliente_of  \\\n",
       "0       LOMAS DE ZAMORA     TEMPERLEY  Buenos Aires   AR              1   \n",
       "1        TERCERO ARRIBA         OLIVA       Córdoba   AR              2   \n",
       "2        TERCERO ARRIBA         OLIVA       Córdoba   AR              2   \n",
       "3        TERCERO ARRIBA         OLIVA       Córdoba   AR              2   \n",
       "4        TERCERO ARRIBA         OLIVA       Córdoba   AR              2   \n",
       "...                 ...           ...           ...  ...            ...   \n",
       "107784          ROSARIO       ROSARIO      Santa Fé   AR           1670   \n",
       "107785          QUILMES  BERNAL OESTE  Buenos Aires   AR           1671   \n",
       "107786          QUILMES  BERNAL OESTE  Buenos Aires   AR           1671   \n",
       "107787          QUILMES  BERNAL OESTE  Buenos Aires   AR           1671   \n",
       "107788          QUILMES  BERNAL OESTE  Buenos Aires   AR           1671   \n",
       "\n",
       "        CodSucCliente_of  NroDocPedido   Año  Mes  \n",
       "0                      1      514585.0  2021   11  \n",
       "1                      2      232161.0  2018    2  \n",
       "2                      2      260497.0  2018    8  \n",
       "3                      2      281670.0  2018   11  \n",
       "4                      2      281670.0  2019    1  \n",
       "...                  ...           ...   ...  ...  \n",
       "107784              2243      479785.0  2021    6  \n",
       "107785              2244      481967.0  2021    6  \n",
       "107786              2244      491293.0  2021    8  \n",
       "107787              2244      481967.0  2021    6  \n",
       "107788              2244      491293.0  2021    8  \n",
       "\n",
       "[107789 rows x 18 columns]"
      ]
     },
     "execution_count": 72,
     "metadata": {},
     "output_type": "execute_result"
    }
   ],
   "source": [
    "# Convertir la columna 'Fecha' a un objeto de fecha\n",
    "df_clean_imputed['Fecha'] = pd.to_datetime(df_clean_imputed['Fecha'])\n",
    "\n",
    "# Crear nuevas columnas para el año, mes y día\n",
    "df_clean_imputed['Año'] = df_clean_imputed['Fecha'].dt.year\n",
    "df_clean_imputed['Mes'] = df_clean_imputed['Fecha'].dt.month\n",
    "\n",
    "df_clean_imputed =df_clean_imputed.drop(['Fecha','FechaPedido', 'Periodo'], axis=1)\n",
    "\n",
    "df_clean_imputed"
   ]
  },
  {
   "cell_type": "code",
   "execution_count": 73,
   "metadata": {
    "colab": {
     "base_uri": "https://localhost:8080/",
     "height": 505
    },
    "id": "YOnbb8LjHGfC",
    "outputId": "1267b4fe-ab20-4611-b276-d4fab35e1abb"
   },
   "outputs": [
    {
     "data": {
      "text/html": [
       "<div>\n",
       "<style scoped>\n",
       "    .dataframe tbody tr th:only-of-type {\n",
       "        vertical-align: middle;\n",
       "    }\n",
       "\n",
       "    .dataframe tbody tr th {\n",
       "        vertical-align: top;\n",
       "    }\n",
       "\n",
       "    .dataframe thead th {\n",
       "        text-align: right;\n",
       "    }\n",
       "</style>\n",
       "<table border=\"1\" class=\"dataframe\">\n",
       "  <thead>\n",
       "    <tr style=\"text-align: right;\">\n",
       "      <th></th>\n",
       "      <th>PosPedido</th>\n",
       "      <th>CodMaterial</th>\n",
       "      <th>Cantidad</th>\n",
       "      <th>CodGrupoArt</th>\n",
       "      <th>CodCliente_of</th>\n",
       "      <th>CodSucCliente_of</th>\n",
       "      <th>NroDocPedido</th>\n",
       "      <th>Año</th>\n",
       "      <th>Mes</th>\n",
       "      <th>GrupoArticulos_Corrosivos</th>\n",
       "      <th>...</th>\n",
       "      <th>Provincia_San Juan</th>\n",
       "      <th>Provincia_San Luis</th>\n",
       "      <th>Provincia_Santa Cruz</th>\n",
       "      <th>Provincia_Santa Fé</th>\n",
       "      <th>Provincia_Santiago del Estero</th>\n",
       "      <th>Provincia_Tierra del Fuego</th>\n",
       "      <th>Provincia_Tucumán</th>\n",
       "      <th>Pais_AR</th>\n",
       "      <th>Pais_PY</th>\n",
       "      <th>Pais_UY</th>\n",
       "    </tr>\n",
       "  </thead>\n",
       "  <tbody>\n",
       "    <tr>\n",
       "      <th>0</th>\n",
       "      <td>10.0</td>\n",
       "      <td>81074</td>\n",
       "      <td>480</td>\n",
       "      <td>14.0</td>\n",
       "      <td>1</td>\n",
       "      <td>1</td>\n",
       "      <td>514585.0</td>\n",
       "      <td>2021</td>\n",
       "      <td>11</td>\n",
       "      <td>1</td>\n",
       "      <td>...</td>\n",
       "      <td>0</td>\n",
       "      <td>0</td>\n",
       "      <td>0</td>\n",
       "      <td>0</td>\n",
       "      <td>0</td>\n",
       "      <td>0</td>\n",
       "      <td>0</td>\n",
       "      <td>1</td>\n",
       "      <td>0</td>\n",
       "      <td>0</td>\n",
       "    </tr>\n",
       "    <tr>\n",
       "      <th>1</th>\n",
       "      <td>930.0</td>\n",
       "      <td>8051</td>\n",
       "      <td>24</td>\n",
       "      <td>11.0</td>\n",
       "      <td>2</td>\n",
       "      <td>2</td>\n",
       "      <td>232161.0</td>\n",
       "      <td>2018</td>\n",
       "      <td>2</td>\n",
       "      <td>0</td>\n",
       "      <td>...</td>\n",
       "      <td>0</td>\n",
       "      <td>0</td>\n",
       "      <td>0</td>\n",
       "      <td>0</td>\n",
       "      <td>0</td>\n",
       "      <td>0</td>\n",
       "      <td>0</td>\n",
       "      <td>1</td>\n",
       "      <td>0</td>\n",
       "      <td>0</td>\n",
       "    </tr>\n",
       "    <tr>\n",
       "      <th>2</th>\n",
       "      <td>130.0</td>\n",
       "      <td>8051</td>\n",
       "      <td>24</td>\n",
       "      <td>11.0</td>\n",
       "      <td>2</td>\n",
       "      <td>2</td>\n",
       "      <td>260497.0</td>\n",
       "      <td>2018</td>\n",
       "      <td>8</td>\n",
       "      <td>0</td>\n",
       "      <td>...</td>\n",
       "      <td>0</td>\n",
       "      <td>0</td>\n",
       "      <td>0</td>\n",
       "      <td>0</td>\n",
       "      <td>0</td>\n",
       "      <td>0</td>\n",
       "      <td>0</td>\n",
       "      <td>1</td>\n",
       "      <td>0</td>\n",
       "      <td>0</td>\n",
       "    </tr>\n",
       "    <tr>\n",
       "      <th>3</th>\n",
       "      <td>790.0</td>\n",
       "      <td>8051</td>\n",
       "      <td>24</td>\n",
       "      <td>11.0</td>\n",
       "      <td>2</td>\n",
       "      <td>2</td>\n",
       "      <td>281670.0</td>\n",
       "      <td>2018</td>\n",
       "      <td>11</td>\n",
       "      <td>0</td>\n",
       "      <td>...</td>\n",
       "      <td>0</td>\n",
       "      <td>0</td>\n",
       "      <td>0</td>\n",
       "      <td>0</td>\n",
       "      <td>0</td>\n",
       "      <td>0</td>\n",
       "      <td>0</td>\n",
       "      <td>1</td>\n",
       "      <td>0</td>\n",
       "      <td>0</td>\n",
       "    </tr>\n",
       "    <tr>\n",
       "      <th>4</th>\n",
       "      <td>790.0</td>\n",
       "      <td>8051</td>\n",
       "      <td>-24</td>\n",
       "      <td>11.0</td>\n",
       "      <td>2</td>\n",
       "      <td>2</td>\n",
       "      <td>281670.0</td>\n",
       "      <td>2019</td>\n",
       "      <td>1</td>\n",
       "      <td>0</td>\n",
       "      <td>...</td>\n",
       "      <td>0</td>\n",
       "      <td>0</td>\n",
       "      <td>0</td>\n",
       "      <td>0</td>\n",
       "      <td>0</td>\n",
       "      <td>0</td>\n",
       "      <td>0</td>\n",
       "      <td>1</td>\n",
       "      <td>0</td>\n",
       "      <td>0</td>\n",
       "    </tr>\n",
       "    <tr>\n",
       "      <th>...</th>\n",
       "      <td>...</td>\n",
       "      <td>...</td>\n",
       "      <td>...</td>\n",
       "      <td>...</td>\n",
       "      <td>...</td>\n",
       "      <td>...</td>\n",
       "      <td>...</td>\n",
       "      <td>...</td>\n",
       "      <td>...</td>\n",
       "      <td>...</td>\n",
       "      <td>...</td>\n",
       "      <td>...</td>\n",
       "      <td>...</td>\n",
       "      <td>...</td>\n",
       "      <td>...</td>\n",
       "      <td>...</td>\n",
       "      <td>...</td>\n",
       "      <td>...</td>\n",
       "      <td>...</td>\n",
       "      <td>...</td>\n",
       "      <td>...</td>\n",
       "    </tr>\n",
       "    <tr>\n",
       "      <th>107784</th>\n",
       "      <td>20.0</td>\n",
       "      <td>45115</td>\n",
       "      <td>6</td>\n",
       "      <td>11.0</td>\n",
       "      <td>1670</td>\n",
       "      <td>2243</td>\n",
       "      <td>479785.0</td>\n",
       "      <td>2021</td>\n",
       "      <td>6</td>\n",
       "      <td>0</td>\n",
       "      <td>...</td>\n",
       "      <td>0</td>\n",
       "      <td>0</td>\n",
       "      <td>0</td>\n",
       "      <td>1</td>\n",
       "      <td>0</td>\n",
       "      <td>0</td>\n",
       "      <td>0</td>\n",
       "      <td>1</td>\n",
       "      <td>0</td>\n",
       "      <td>0</td>\n",
       "    </tr>\n",
       "    <tr>\n",
       "      <th>107785</th>\n",
       "      <td>10.0</td>\n",
       "      <td>45114</td>\n",
       "      <td>24</td>\n",
       "      <td>11.0</td>\n",
       "      <td>1671</td>\n",
       "      <td>2244</td>\n",
       "      <td>481967.0</td>\n",
       "      <td>2021</td>\n",
       "      <td>6</td>\n",
       "      <td>0</td>\n",
       "      <td>...</td>\n",
       "      <td>0</td>\n",
       "      <td>0</td>\n",
       "      <td>0</td>\n",
       "      <td>0</td>\n",
       "      <td>0</td>\n",
       "      <td>0</td>\n",
       "      <td>0</td>\n",
       "      <td>1</td>\n",
       "      <td>0</td>\n",
       "      <td>0</td>\n",
       "    </tr>\n",
       "    <tr>\n",
       "      <th>107786</th>\n",
       "      <td>10.0</td>\n",
       "      <td>45114</td>\n",
       "      <td>24</td>\n",
       "      <td>11.0</td>\n",
       "      <td>1671</td>\n",
       "      <td>2244</td>\n",
       "      <td>491293.0</td>\n",
       "      <td>2021</td>\n",
       "      <td>8</td>\n",
       "      <td>0</td>\n",
       "      <td>...</td>\n",
       "      <td>0</td>\n",
       "      <td>0</td>\n",
       "      <td>0</td>\n",
       "      <td>0</td>\n",
       "      <td>0</td>\n",
       "      <td>0</td>\n",
       "      <td>0</td>\n",
       "      <td>1</td>\n",
       "      <td>0</td>\n",
       "      <td>0</td>\n",
       "    </tr>\n",
       "    <tr>\n",
       "      <th>107787</th>\n",
       "      <td>20.0</td>\n",
       "      <td>45115</td>\n",
       "      <td>12</td>\n",
       "      <td>11.0</td>\n",
       "      <td>1671</td>\n",
       "      <td>2244</td>\n",
       "      <td>481967.0</td>\n",
       "      <td>2021</td>\n",
       "      <td>6</td>\n",
       "      <td>0</td>\n",
       "      <td>...</td>\n",
       "      <td>0</td>\n",
       "      <td>0</td>\n",
       "      <td>0</td>\n",
       "      <td>0</td>\n",
       "      <td>0</td>\n",
       "      <td>0</td>\n",
       "      <td>0</td>\n",
       "      <td>1</td>\n",
       "      <td>0</td>\n",
       "      <td>0</td>\n",
       "    </tr>\n",
       "    <tr>\n",
       "      <th>107788</th>\n",
       "      <td>20.0</td>\n",
       "      <td>45115</td>\n",
       "      <td>12</td>\n",
       "      <td>11.0</td>\n",
       "      <td>1671</td>\n",
       "      <td>2244</td>\n",
       "      <td>491293.0</td>\n",
       "      <td>2021</td>\n",
       "      <td>8</td>\n",
       "      <td>0</td>\n",
       "      <td>...</td>\n",
       "      <td>0</td>\n",
       "      <td>0</td>\n",
       "      <td>0</td>\n",
       "      <td>0</td>\n",
       "      <td>0</td>\n",
       "      <td>0</td>\n",
       "      <td>0</td>\n",
       "      <td>1</td>\n",
       "      <td>0</td>\n",
       "      <td>0</td>\n",
       "    </tr>\n",
       "  </tbody>\n",
       "</table>\n",
       "<p>107789 rows × 1056 columns</p>\n",
       "</div>"
      ],
      "text/plain": [
       "        PosPedido  CodMaterial  Cantidad  CodGrupoArt  CodCliente_of  \\\n",
       "0            10.0        81074       480         14.0              1   \n",
       "1           930.0         8051        24         11.0              2   \n",
       "2           130.0         8051        24         11.0              2   \n",
       "3           790.0         8051        24         11.0              2   \n",
       "4           790.0         8051       -24         11.0              2   \n",
       "...           ...          ...       ...          ...            ...   \n",
       "107784       20.0        45115         6         11.0           1670   \n",
       "107785       10.0        45114        24         11.0           1671   \n",
       "107786       10.0        45114        24         11.0           1671   \n",
       "107787       20.0        45115        12         11.0           1671   \n",
       "107788       20.0        45115        12         11.0           1671   \n",
       "\n",
       "        CodSucCliente_of  NroDocPedido   Año  Mes  GrupoArticulos_Corrosivos  \\\n",
       "0                      1      514585.0  2021   11                          1   \n",
       "1                      2      232161.0  2018    2                          0   \n",
       "2                      2      260497.0  2018    8                          0   \n",
       "3                      2      281670.0  2018   11                          0   \n",
       "4                      2      281670.0  2019    1                          0   \n",
       "...                  ...           ...   ...  ...                        ...   \n",
       "107784              2243      479785.0  2021    6                          0   \n",
       "107785              2244      481967.0  2021    6                          0   \n",
       "107786              2244      491293.0  2021    8                          0   \n",
       "107787              2244      481967.0  2021    6                          0   \n",
       "107788              2244      491293.0  2021    8                          0   \n",
       "\n",
       "        ...  Provincia_San Juan  Provincia_San Luis  Provincia_Santa Cruz  \\\n",
       "0       ...                   0                   0                     0   \n",
       "1       ...                   0                   0                     0   \n",
       "2       ...                   0                   0                     0   \n",
       "3       ...                   0                   0                     0   \n",
       "4       ...                   0                   0                     0   \n",
       "...     ...                 ...                 ...                   ...   \n",
       "107784  ...                   0                   0                     0   \n",
       "107785  ...                   0                   0                     0   \n",
       "107786  ...                   0                   0                     0   \n",
       "107787  ...                   0                   0                     0   \n",
       "107788  ...                   0                   0                     0   \n",
       "\n",
       "        Provincia_Santa Fé  Provincia_Santiago del Estero  \\\n",
       "0                        0                              0   \n",
       "1                        0                              0   \n",
       "2                        0                              0   \n",
       "3                        0                              0   \n",
       "4                        0                              0   \n",
       "...                    ...                            ...   \n",
       "107784                   1                              0   \n",
       "107785                   0                              0   \n",
       "107786                   0                              0   \n",
       "107787                   0                              0   \n",
       "107788                   0                              0   \n",
       "\n",
       "        Provincia_Tierra del Fuego  Provincia_Tucumán  Pais_AR  Pais_PY  \\\n",
       "0                                0                  0        1        0   \n",
       "1                                0                  0        1        0   \n",
       "2                                0                  0        1        0   \n",
       "3                                0                  0        1        0   \n",
       "4                                0                  0        1        0   \n",
       "...                            ...                ...      ...      ...   \n",
       "107784                           0                  0        1        0   \n",
       "107785                           0                  0        1        0   \n",
       "107786                           0                  0        1        0   \n",
       "107787                           0                  0        1        0   \n",
       "107788                           0                  0        1        0   \n",
       "\n",
       "        Pais_UY  \n",
       "0             0  \n",
       "1             0  \n",
       "2             0  \n",
       "3             0  \n",
       "4             0  \n",
       "...         ...  \n",
       "107784        0  \n",
       "107785        0  \n",
       "107786        0  \n",
       "107787        0  \n",
       "107788        0  \n",
       "\n",
       "[107789 rows x 1056 columns]"
      ]
     },
     "execution_count": 73,
     "metadata": {},
     "output_type": "execute_result"
    }
   ],
   "source": [
    "# Seleccionar las columnas que contienen variables categóricas a codificar\n",
    "columnas_categoricas = ['GrupoArticulos',\n",
    "                        'codGrupoMaterial2',\n",
    "                        'codGrupoMaterial4',\n",
    "                        'codGrupoMaterial5' ,\n",
    "                        'Departamento',\n",
    "                        'Tipo_Precio',\n",
    "                        'Localidad',\n",
    "                        'Provincia',\n",
    "                        'Pais']\n",
    "\n",
    "# Realizar la codificación\n",
    "df_encoded = pd.get_dummies(df_clean_imputed, columns=columnas_categoricas)\n",
    "\n",
    "\n",
    "df_encoded"
   ]
  },
  {
   "cell_type": "markdown",
   "metadata": {
    "id": "Gb1YRMKGHGfE"
   },
   "source": [
    "***Se termina obteniendo una matriz esparsa de 107789 rows × 1056 columns***"
   ]
  },
  {
   "cell_type": "markdown",
   "metadata": {
    "id": "_qZMwr4gHGfF"
   },
   "source": [
    "\n",
    "### 7- Determinen si hay outliers en cada una de las variables seleccionadas, evalúen cómo manejar los outliers (si dejarlos o eliminarlos) e implementen la solución.\n"
   ]
  },
  {
   "cell_type": "markdown",
   "metadata": {
    "id": "_TEzHXXhHGfG"
   },
   "source": [
    "***Al igual que en el TP 1, creemos que no se encuentran variables que presenten outliers. Los campos de analisis son de caracter cualitativo en la mayoria de los casos y al no contar con informacion mas detallada de sus caracateristicas no se puede hacer un analisis en profundidad de los valores extramos. Si se puede ver donde se compra o devuelve mas, que productos o caracteristicas de productos se repiten o tienen valores mas alejados de la media pero esto no da justificacion de que sean en si valores extraordinarios.***"
   ]
  },
  {
   "cell_type": "markdown",
   "metadata": {
    "id": "obmzg2OlHGfO"
   },
   "source": [
    "### 8- Quitar Variables/Columnas Irrelevantes. En base a la exploración del TP anterior y particularidades que se hayan encontrado en este nuevo TP, es momento de seleccionar variables que intuímos puedan tener capacidad predictora para el futuro modelo. El análisis de correlación es una herramienta muy importante en este paso.\n",
    "\n"
   ]
  },
  {
   "cell_type": "markdown",
   "metadata": {
    "id": "lUYUW91wHGfP"
   },
   "source": [
    "***Las variables a eliminar son:***\n",
    "1. 'Fecha'\n",
    "2. 'FechaPedido'\n",
    "3. 'Periodo'\n",
    "\n",
    "***dado que creemos que el resto de las variables van a ser de utilidad a la hora de hacer una prediccion sobre las cantidades vendidas. Se vera en futuros procesos y se eliminaran algunas columnas.***"
   ]
  },
  {
   "cell_type": "markdown",
   "metadata": {
    "id": "gVmDQ0QnHGfR"
   },
   "source": [
    "### 9- ¿En qué casos es necesario estandarizar las variables? Seleccionen algún método y aborden su implementación\n",
    "\n"
   ]
  },
  {
   "cell_type": "markdown",
   "metadata": {},
   "source": [
    "***Es necesario estandarizas las variables, cuando tiene distintos rangos numericos. Por ejemplo:***"
   ]
  },
  {
   "cell_type": "code",
   "execution_count": 74,
   "metadata": {},
   "outputs": [
    {
     "data": {
      "text/html": [
       "<div>\n",
       "<style scoped>\n",
       "    .dataframe tbody tr th:only-of-type {\n",
       "        vertical-align: middle;\n",
       "    }\n",
       "\n",
       "    .dataframe tbody tr th {\n",
       "        vertical-align: top;\n",
       "    }\n",
       "\n",
       "    .dataframe thead th {\n",
       "        text-align: right;\n",
       "    }\n",
       "</style>\n",
       "<table border=\"1\" class=\"dataframe\">\n",
       "  <thead>\n",
       "    <tr style=\"text-align: right;\">\n",
       "      <th></th>\n",
       "      <th>CodMaterial</th>\n",
       "      <th>Año</th>\n",
       "    </tr>\n",
       "  </thead>\n",
       "  <tbody>\n",
       "    <tr>\n",
       "      <th>count</th>\n",
       "      <td>107789.000000</td>\n",
       "      <td>107789.000000</td>\n",
       "    </tr>\n",
       "    <tr>\n",
       "      <th>mean</th>\n",
       "      <td>44746.766757</td>\n",
       "      <td>2019.485402</td>\n",
       "    </tr>\n",
       "    <tr>\n",
       "      <th>std</th>\n",
       "      <td>59238.965002</td>\n",
       "      <td>1.053273</td>\n",
       "    </tr>\n",
       "    <tr>\n",
       "      <th>min</th>\n",
       "      <td>7604.000000</td>\n",
       "      <td>2018.000000</td>\n",
       "    </tr>\n",
       "    <tr>\n",
       "      <th>25%</th>\n",
       "      <td>7615.000000</td>\n",
       "      <td>2019.000000</td>\n",
       "    </tr>\n",
       "    <tr>\n",
       "      <th>50%</th>\n",
       "      <td>8051.000000</td>\n",
       "      <td>2019.000000</td>\n",
       "    </tr>\n",
       "    <tr>\n",
       "      <th>75%</th>\n",
       "      <td>81034.000000</td>\n",
       "      <td>2020.000000</td>\n",
       "    </tr>\n",
       "    <tr>\n",
       "      <th>max</th>\n",
       "      <td>480902.000000</td>\n",
       "      <td>2021.000000</td>\n",
       "    </tr>\n",
       "  </tbody>\n",
       "</table>\n",
       "</div>"
      ],
      "text/plain": [
       "         CodMaterial            Año\n",
       "count  107789.000000  107789.000000\n",
       "mean    44746.766757    2019.485402\n",
       "std     59238.965002       1.053273\n",
       "min      7604.000000    2018.000000\n",
       "25%      7615.000000    2019.000000\n",
       "50%      8051.000000    2019.000000\n",
       "75%     81034.000000    2020.000000\n",
       "max    480902.000000    2021.000000"
      ]
     },
     "execution_count": 74,
     "metadata": {},
     "output_type": "execute_result"
    }
   ],
   "source": [
    "df_clean_imputed[['CodMaterial', 'Año']].describe()"
   ]
  },
  {
   "cell_type": "markdown",
   "metadata": {},
   "source": [
    "***Vemos que en la columna CodMaterial, el valor minimo es 7604 y el maximo es 480902. Y Año entre 2018 y 2021. Esta diferencia de rangos podria traernos problemas a la hora de entrenar el modelo, debido que puede introducirnos un bias. Por ejemplo, que el modelo relacione lo valores grande a cierta caracterista de los datos, lo que perjudicaria su performance.***"
   ]
  },
  {
   "cell_type": "markdown",
   "metadata": {},
   "source": [
    "#### <u>Con respecto a PCA:</u>"
   ]
  },
  {
   "cell_type": "markdown",
   "metadata": {
    "id": "xKVnL_IXHGfS"
   },
   "source": [
    "El StandardScaler es un escalador utilizado en  PCA por las siguientes razones:\n",
    "\n",
    "- Mantener la forma de la distribución: Estandariza las variables escalándolas de manera que tengan una media de 0 y una desviación estándar de 1. Esto significa que la forma de la distribución original se mantiene, pero se ajusta para tener una media y una variabilidad consistentes en todas las variables. Esta propiedad es importante en el PCA, ya que el PCA se basa en la covarianza entre variables, y la estandarización ayuda a garantizar que todas las variables tengan la misma influencia.\n",
    "\n",
    "- Elimina el sesgo de las variables con escalas diferentes: En el PCA, las variables con escalas más grandes pueden dominar la varianza total y afectar los resultados del análisis. Al estandarizar las variables utilizando el StandardScaler, se elimina este sesgo y se iguala la importancia de todas las variables en términos de su contribución a la varianza total. Esto permite que el PCA capture patrones y relaciones significativas entre las variables de manera más equitativa.\n",
    "\n",
    "- Facilita la interpretación de los componentes principales: El uso del StandardScaler en el PCA también facilita la interpretación de los componentes principales. Como las variables están en la misma escala, los coeficientes de los componentes principales indican directamente la importancia relativa de cada variable en la contribución a los componentes. Esto ayuda a comprender qué características o variables están más relacionadas con cada componente principal."
   ]
  },
  {
   "cell_type": "code",
   "execution_count": 75,
   "metadata": {
    "id": "2Q7z96nUHGfU"
   },
   "outputs": [],
   "source": [
    "#Primero separamos las variables predictorias, de la variable a predecir.\n",
    "X = df_encoded.drop('Cantidad', axis=1)\n",
    "\n",
    "# Escalamos:\n",
    "scaler = StandardScaler()\n",
    "scaled_t = scaler.fit_transform(X)"
   ]
  },
  {
   "cell_type": "markdown",
   "metadata": {
    "id": "4jfwqOzSHGfV"
   },
   "source": [
    "### 10- Implementen una reducción de dimensionalidad mediante PCA e interpreten los resultados preliminares. En el último práctico concluiremos sobre su utilidad"
   ]
  },
  {
   "cell_type": "markdown",
   "metadata": {
    "id": "9azKfJkbmvyR"
   },
   "source": [
    "***Antes de decidir la cantidad de componentes a conservar, vamos a analizar la varianza explicada por cada una. Una vez que veamos como es la relacion entre cantidad de componentes y la varianza acumulada, podemos decidir cuantas conservar. Notemos que en este contexto, al hablar de varianza, nos referimos a la \"informacion\", por eso es que buscamos conservar la mayor varianza posible.***"
   ]
  },
  {
   "cell_type": "code",
   "execution_count": 76,
   "metadata": {
    "colab": {
     "base_uri": "https://localhost:8080/",
     "height": 542
    },
    "id": "BjcsHR4mHGfW",
    "outputId": "2a12d0aa-210c-410e-a6b8-f7ab652122e5"
   },
   "outputs": [
    {
     "data": {
      "image/png": "[encoded data removed]",
      "text/plain": [
       "<Figure size 1200x600 with 1 Axes>"
      ]
     },
     "metadata": {},
     "output_type": "display_data"
    }
   ],
   "source": [
    "# Crear una instancia del objeto PCA\n",
    "test_pca = PCA()\n",
    "\n",
    "# Aplicar PCA al conjunto de datos codificado\n",
    "pca_result = test_pca.fit_transform(scaled_t)\n",
    "\n",
    "varianza_explicada_acumulada = np.cumsum(test_pca.explained_variance_ratio_)\n",
    "plt.figure(figsize=(12, 6))\n",
    "plt.plot(range(1, len(varianza_explicada_acumulada) + 1), varianza_explicada_acumulada, marker='.')\n",
    "\n",
    "ultimo_numero = len(varianza_explicada_acumulada)\n",
    "etiquetas_x = np.arange(1, ultimo_numero + 1, 50)\n",
    "plt.xticks(etiquetas_x)\n",
    "\n",
    "plt.xlabel('Número de componentes principales')\n",
    "plt.ylabel('Varianza explicada acumulada')\n",
    "plt.grid(True)\n",
    "plt.show()\n"
   ]
  },
  {
   "cell_type": "markdown",
   "metadata": {
    "id": "JVy_OBfAoMeY"
   },
   "source": [
    "***En primer lugar se ve que con 700 componentes logramos explicar el 100% de la varianza, es decir, explicar el 100% de los datos. Esto nos esta diciendo que hay muchas columnas que estan correlacionadas, cosa que ya veniamos viendo al tratar los  datos.***\n",
    "\n",
    "***En segundo lugar podemos ver tambien que conservando 500 componentes principales, logramos explicar cerca del 80% de la varianza, o bien, conservar el 80% de la informacion dada por los datos. Esto implica una gran reduccion de la dimension del set de datos. Pasamos de un dataset de 1000 columnas a uno de 500, conservando el 80% de la informacion.***"
   ]
  },
  {
   "cell_type": "markdown",
   "metadata": {
    "id": "XXhIN0VWQ4BV"
   },
   "source": [
    "***Una vez que hayamos identificado la cantidad optima de componentes principales, podemos instanciar nuevamente la clase PCA para hacer la reduccion de dimensionalidad.***"
   ]
  },
  {
   "cell_type": "code",
   "execution_count": 77,
   "metadata": {
    "id": "g94RFaCvHGfY"
   },
   "outputs": [],
   "source": [
    "pca = PCA(n_components=500)  # Número de componentes principales deseados\n",
    "X_pca = pca.fit_transform(scaled_t)"
   ]
  },
  {
   "cell_type": "code",
   "execution_count": 78,
   "metadata": {
    "id": "md63Ew6yHGfa"
   },
   "outputs": [],
   "source": [
    "componentes_principales = pca.components_"
   ]
  },
  {
   "cell_type": "code",
   "execution_count": 79,
   "metadata": {
    "id": "Ug6P7oCyHGfb"
   },
   "outputs": [],
   "source": [
    "# Obtener la varianza explicada por cada componente principal\n",
    "varianza_explicada = pca.explained_variance_ratio_"
   ]
  },
  {
   "cell_type": "code",
   "execution_count": 80,
   "metadata": {
    "colab": {
     "base_uri": "https://localhost:8080/"
    },
    "id": "kmlLbIKgHGfc",
    "outputId": "b4555bf5-4ec2-4b1b-fbf8-c5497389810b"
   },
   "outputs": [
    {
     "name": "stdout",
     "output_type": "stream",
     "text": [
      "Componentes principales:\n",
      "[[-1.18618695e-01  1.69994076e-01  2.71989274e-01 ...  3.10805026e-02\n",
      "  -9.96941968e-03 -2.94375150e-02]\n",
      " [-1.83857213e-02  1.21111748e-01 -1.74068498e-01 ...  4.42507182e-02\n",
      "  -1.50667902e-02 -4.15906380e-02]\n",
      " [ 9.33506925e-02  2.36727175e-02  5.37702027e-03 ... -4.38672565e-01\n",
      "   1.47831847e-01  4.12864885e-01]\n",
      " ...\n",
      " [-6.09135536e-05  2.34125574e-02 -2.76608994e-03 ...  4.91498279e-04\n",
      "  -2.95722440e-04 -4.14760049e-04]\n",
      " [ 1.92348383e-02 -2.09371995e-02 -3.53102396e-03 ...  5.88778301e-04\n",
      "   1.75988181e-03 -1.27404414e-03]\n",
      " [-1.33606836e-02 -2.22670195e-02 -3.29643632e-03 ... -9.74407751e-04\n",
      "  -1.77077947e-04  1.10289477e-03]]\n",
      "\n",
      "Varianza explicada:\n",
      "[0.01020135 0.00569932 0.00477965 0.00317588 0.00310148 0.00304505\n",
      " 0.0029414  0.00292675 0.00290581 0.00288017 0.00286976 0.00286185\n",
      " 0.00285728 0.00284674 0.00283906 0.00281896 0.00279934 0.00277043\n",
      " 0.00275647 0.00272816 0.00270145 0.00266673 0.00264134 0.00262972\n",
      " 0.00261174 0.00257812 0.00253317 0.00248164 0.00245408 0.00235451\n",
      " 0.00233121 0.00226759 0.00224998 0.00221076 0.00219787 0.00217958\n",
      " 0.0021759  0.00216463 0.00215091 0.00213723 0.00212695 0.00211772\n",
      " 0.00211479 0.00209642 0.00201295 0.0019692  0.00196553 0.00195177\n",
      " 0.00194829 0.00194647 0.00194102 0.00193873 0.00193172 0.00192993\n",
      " 0.00192867 0.00192719 0.00192468 0.00192354 0.0019227  0.00192096\n",
      " 0.00191972 0.00191925 0.00191812 0.00191764 0.00191572 0.00191446\n",
      " 0.00191363 0.00191337 0.00191274 0.00191153 0.00191109 0.00191036\n",
      " 0.00190996 0.00190949 0.0019091  0.00190862 0.00190836 0.00190787\n",
      " 0.00190778 0.00190746 0.00190716 0.00190674 0.0019066  0.00190651\n",
      " 0.00190626 0.00190605 0.00190566 0.00190552 0.00190515 0.00190489\n",
      " 0.00190458 0.00190439 0.00190402 0.0019039  0.00190386 0.00190352\n",
      " 0.00190324 0.00190302 0.00190284 0.00190277 0.00190244 0.00190231\n",
      " 0.00190203 0.00190191 0.00190185 0.00190154 0.0019015  0.00190127\n",
      " 0.00190111 0.00190091 0.00190068 0.00190064 0.00190049 0.00190035\n",
      " 0.00190015 0.00190012 0.00190004 0.00189988 0.00189981 0.00189965\n",
      " 0.00189952 0.00189947 0.00189941 0.00189929 0.00189919 0.00189912\n",
      " 0.00189902 0.00189896 0.00189889 0.00189886 0.00189884 0.00189866\n",
      " 0.00189858 0.00189851 0.00189843 0.00189839 0.00189832 0.00189826\n",
      " 0.0018982  0.00189816 0.00189813 0.00189808 0.00189807 0.00189796\n",
      " 0.00189794 0.00189782 0.00189774 0.00189771 0.00189763 0.0018976\n",
      " 0.00189756 0.00189754 0.00189749 0.00189746 0.00189743 0.00189737\n",
      " 0.0018973  0.00189726 0.00189724 0.00189721 0.00189719 0.00189714\n",
      " 0.00189713 0.00189708 0.00189705 0.00189699 0.00189697 0.00189694\n",
      " 0.00189692 0.00189686 0.00189685 0.00189682 0.0018968  0.00189678\n",
      " 0.00189673 0.00189669 0.00189667 0.00189666 0.00189662 0.0018966\n",
      " 0.00189654 0.0018965  0.00189648 0.00189644 0.00189641 0.0018964\n",
      " 0.00189637 0.00189633 0.00189632 0.0018963  0.00189626 0.00189624\n",
      " 0.00189623 0.0018962  0.00189615 0.00189614 0.00189612 0.0018961\n",
      " 0.00189606 0.00189603 0.00189603 0.00189597 0.00189596 0.0018959\n",
      " 0.00189588 0.00189586 0.00189584 0.00189578 0.00189574 0.00189572\n",
      " 0.0018957  0.00189569 0.00189562 0.00189562 0.00189559 0.00189558\n",
      " 0.00189553 0.00189551 0.00189549 0.00189542 0.00189537 0.00189535\n",
      " 0.00189533 0.00189529 0.00189527 0.0018952  0.00189513 0.00189511\n",
      " 0.00189502 0.00189498 0.00189493 0.00189487 0.00189483 0.00189476\n",
      " 0.00189474 0.00189468 0.00189464 0.0018946  0.00189451 0.00189444\n",
      " 0.00189432 0.00189429 0.00189426 0.0018942  0.0018941  0.00189405\n",
      " 0.00189403 0.00189397 0.00189378 0.00189361 0.00189355 0.00189348\n",
      " 0.00189334 0.00189323 0.00189304 0.00189301 0.00189296 0.00189281\n",
      " 0.00189258 0.00189232 0.00189217 0.00189212 0.00189203 0.00189186\n",
      " 0.00189173 0.00189133 0.00189126 0.00189122 0.00189068 0.00189066\n",
      " 0.00189017 0.0018898  0.00188974 0.00188951 0.00188904 0.00188876\n",
      " 0.00188842 0.00188826 0.00188728 0.00188611 0.00188498 0.00188453\n",
      " 0.00188232 0.00187746 0.00186303 0.00185571 0.00184272 0.00183889\n",
      " 0.0018328  0.00182144 0.00181699 0.00179746 0.00178685 0.00176907\n",
      " 0.00175931 0.00173263 0.00172619 0.00171926 0.0017177  0.00171157\n",
      " 0.00169704 0.00168769 0.00168058 0.00166245 0.00164964 0.00164476\n",
      " 0.00163927 0.00162067 0.00159966 0.00158107 0.00153155 0.00144309\n",
      " 0.00137143 0.00134844 0.00124756 0.00122223 0.00120315 0.0011957\n",
      " 0.00118711 0.00115964 0.00115058 0.001113   0.00109485 0.00108606\n",
      " 0.00107561 0.00107344 0.00106645 0.00106131 0.00105994 0.00105496\n",
      " 0.0010483  0.00104063 0.00103731 0.0010275  0.00102339 0.00101894\n",
      " 0.00101405 0.00101007 0.00100693 0.00100309 0.00100156 0.00099764\n",
      " 0.00099641 0.00099296 0.00099108 0.00098923 0.00098579 0.00098456\n",
      " 0.0009817  0.00098037 0.00097672 0.0009755  0.00097363 0.00097307\n",
      " 0.00097175 0.00096932 0.00096799 0.00096702 0.0009656  0.00096551\n",
      " 0.0009632  0.00096206 0.00096188 0.00095918 0.00095788 0.00095677\n",
      " 0.00095636 0.00095525 0.00095321 0.00095258 0.00095056 0.00095002\n",
      " 0.00094992 0.0009499  0.00094972 0.00094962 0.00094957 0.00094949\n",
      " 0.00094944 0.00094935 0.00094925 0.00094922 0.00094922 0.00094915\n",
      " 0.00094912 0.00094911 0.00094906 0.00094905 0.00094902 0.00094899\n",
      " 0.00094897 0.00094892 0.00094889 0.00094886 0.00094883 0.00094879\n",
      " 0.00094878 0.00094876 0.00094872 0.00094871 0.00094869 0.00094866\n",
      " 0.00094863 0.00094863 0.0009486  0.00094858 0.00094857 0.00094854\n",
      " 0.00094853 0.00094852 0.00094848 0.00094847 0.00094846 0.00094845\n",
      " 0.00094844 0.00094842 0.00094841 0.0009484  0.00094839 0.00094837\n",
      " 0.00094836 0.00094833 0.00094832 0.00094831 0.0009483  0.00094829\n",
      " 0.00094826 0.00094826 0.00094824 0.00094824 0.00094823 0.00094822\n",
      " 0.00094821 0.0009482  0.00094819 0.00094818 0.00094818 0.00094816\n",
      " 0.00094816 0.00094815 0.00094815 0.00094814 0.00094812 0.0009481\n",
      " 0.00094809 0.00094809 0.00094807 0.00094807 0.00094806 0.00094805\n",
      " 0.00094803 0.00094801 0.0009478  0.00094701 0.00094646 0.00094635\n",
      " 0.00094567 0.00094546 0.00094497 0.00094467 0.00094421 0.00094374\n",
      " 0.0009435  0.00094321 0.00094283 0.00094213 0.00094174 0.00094166\n",
      " 0.00094146 0.00094071 0.00094044 0.00093979 0.00093957 0.00093888\n",
      " 0.00093818 0.00093762 0.00093722 0.00093707 0.00093604 0.00093518\n",
      " 0.0009348  0.00093397 0.00093345 0.00093297 0.00093213 0.00093134\n",
      " 0.00093055 0.00093046 0.00092971 0.00092808 0.00092763 0.0009263\n",
      " 0.00092583 0.00092507 0.00092395 0.00092339 0.00092233 0.00092\n",
      " 0.00091835 0.00091626]\n"
     ]
    }
   ],
   "source": [
    "print('Componentes principales:')\n",
    "print(componentes_principales)\n",
    "print('\\nVarianza explicada:')\n",
    "print(varianza_explicada)"
   ]
  },
  {
   "cell_type": "code",
   "execution_count": 81,
   "metadata": {
    "colab": {
     "base_uri": "https://localhost:8080/"
    },
    "id": "jd2v6b5cHGfe",
    "outputId": "e918e20d-5e14-41f8-8449-631555b592c1"
   },
   "outputs": [
    {
     "name": "stdout",
     "output_type": "stream",
     "text": [
      "\n",
      "Varianza total explicada: 0.8131572792214672\n"
     ]
    }
   ],
   "source": [
    "varianza_total_explicada = sum(varianza_explicada)\n",
    "print('\\nVarianza total explicada:', varianza_total_explicada)"
   ]
  },
  {
   "cell_type": "markdown",
   "metadata": {
    "id": "PikyEuFaqQnB"
   },
   "source": [
    "***Ahora podemos ver que forma tiene el nuevo set de datos reducido, el que le daremos al modelo para entrenarlo.***"
   ]
  },
  {
   "cell_type": "code",
   "execution_count": 82,
   "metadata": {
    "colab": {
     "base_uri": "https://localhost:8080/",
     "height": 488
    },
    "id": "ZPraJXquHGfg",
    "outputId": "2e25ddcf-dfde-4f2c-e16b-4f6c16466e5d"
   },
   "outputs": [
    {
     "data": {
      "text/html": [
       "<div>\n",
       "<style scoped>\n",
       "    .dataframe tbody tr th:only-of-type {\n",
       "        vertical-align: middle;\n",
       "    }\n",
       "\n",
       "    .dataframe tbody tr th {\n",
       "        vertical-align: top;\n",
       "    }\n",
       "\n",
       "    .dataframe thead th {\n",
       "        text-align: right;\n",
       "    }\n",
       "</style>\n",
       "<table border=\"1\" class=\"dataframe\">\n",
       "  <thead>\n",
       "    <tr style=\"text-align: right;\">\n",
       "      <th></th>\n",
       "      <th>0</th>\n",
       "      <th>1</th>\n",
       "      <th>2</th>\n",
       "      <th>3</th>\n",
       "      <th>4</th>\n",
       "      <th>5</th>\n",
       "      <th>6</th>\n",
       "      <th>7</th>\n",
       "      <th>8</th>\n",
       "      <th>9</th>\n",
       "      <th>...</th>\n",
       "      <th>490</th>\n",
       "      <th>491</th>\n",
       "      <th>492</th>\n",
       "      <th>493</th>\n",
       "      <th>494</th>\n",
       "      <th>495</th>\n",
       "      <th>496</th>\n",
       "      <th>497</th>\n",
       "      <th>498</th>\n",
       "      <th>499</th>\n",
       "    </tr>\n",
       "  </thead>\n",
       "  <tbody>\n",
       "    <tr>\n",
       "      <th>0</th>\n",
       "      <td>4.083142</td>\n",
       "      <td>-2.699923</td>\n",
       "      <td>-0.015153</td>\n",
       "      <td>-1.073049</td>\n",
       "      <td>-1.698992</td>\n",
       "      <td>0.081905</td>\n",
       "      <td>0.289215</td>\n",
       "      <td>0.626350</td>\n",
       "      <td>-0.140687</td>\n",
       "      <td>0.495833</td>\n",
       "      <td>...</td>\n",
       "      <td>4.341435</td>\n",
       "      <td>5.716461</td>\n",
       "      <td>2.608292</td>\n",
       "      <td>0.803596</td>\n",
       "      <td>-0.315669</td>\n",
       "      <td>-9.216349</td>\n",
       "      <td>3.300758</td>\n",
       "      <td>5.065272</td>\n",
       "      <td>4.207805</td>\n",
       "      <td>2.355389</td>\n",
       "    </tr>\n",
       "    <tr>\n",
       "      <th>1</th>\n",
       "      <td>-3.553767</td>\n",
       "      <td>-1.207171</td>\n",
       "      <td>-0.559641</td>\n",
       "      <td>1.743536</td>\n",
       "      <td>0.821460</td>\n",
       "      <td>-2.689734</td>\n",
       "      <td>1.024026</td>\n",
       "      <td>0.301180</td>\n",
       "      <td>-0.743493</td>\n",
       "      <td>-0.185633</td>\n",
       "      <td>...</td>\n",
       "      <td>0.395986</td>\n",
       "      <td>1.629881</td>\n",
       "      <td>-0.255009</td>\n",
       "      <td>-2.226992</td>\n",
       "      <td>-1.358926</td>\n",
       "      <td>-1.176459</td>\n",
       "      <td>-0.333470</td>\n",
       "      <td>-1.567855</td>\n",
       "      <td>1.135157</td>\n",
       "      <td>0.090995</td>\n",
       "    </tr>\n",
       "    <tr>\n",
       "      <th>2</th>\n",
       "      <td>-3.248876</td>\n",
       "      <td>-1.130413</td>\n",
       "      <td>-0.750756</td>\n",
       "      <td>1.492849</td>\n",
       "      <td>1.005562</td>\n",
       "      <td>-2.676629</td>\n",
       "      <td>1.163870</td>\n",
       "      <td>0.224807</td>\n",
       "      <td>-0.720549</td>\n",
       "      <td>-0.057274</td>\n",
       "      <td>...</td>\n",
       "      <td>0.414657</td>\n",
       "      <td>1.716586</td>\n",
       "      <td>-0.075893</td>\n",
       "      <td>-2.198079</td>\n",
       "      <td>-1.325907</td>\n",
       "      <td>-1.203229</td>\n",
       "      <td>-0.372151</td>\n",
       "      <td>-1.689298</td>\n",
       "      <td>1.049391</td>\n",
       "      <td>0.208590</td>\n",
       "    </tr>\n",
       "    <tr>\n",
       "      <th>3</th>\n",
       "      <td>-3.439097</td>\n",
       "      <td>-1.145164</td>\n",
       "      <td>-0.576608</td>\n",
       "      <td>1.701459</td>\n",
       "      <td>0.840503</td>\n",
       "      <td>-2.663995</td>\n",
       "      <td>1.032621</td>\n",
       "      <td>0.271061</td>\n",
       "      <td>-0.749051</td>\n",
       "      <td>-0.180772</td>\n",
       "      <td>...</td>\n",
       "      <td>0.427292</td>\n",
       "      <td>1.734650</td>\n",
       "      <td>0.017318</td>\n",
       "      <td>-2.175940</td>\n",
       "      <td>-1.295963</td>\n",
       "      <td>-1.270550</td>\n",
       "      <td>-0.356181</td>\n",
       "      <td>-1.747799</td>\n",
       "      <td>1.064844</td>\n",
       "      <td>0.215443</td>\n",
       "    </tr>\n",
       "    <tr>\n",
       "      <th>4</th>\n",
       "      <td>-3.465435</td>\n",
       "      <td>-1.181675</td>\n",
       "      <td>-0.580093</td>\n",
       "      <td>1.738738</td>\n",
       "      <td>0.835809</td>\n",
       "      <td>-2.730906</td>\n",
       "      <td>1.057576</td>\n",
       "      <td>0.273353</td>\n",
       "      <td>-0.729893</td>\n",
       "      <td>-0.172552</td>\n",
       "      <td>...</td>\n",
       "      <td>0.341705</td>\n",
       "      <td>1.597016</td>\n",
       "      <td>-0.298198</td>\n",
       "      <td>-2.208974</td>\n",
       "      <td>-1.361397</td>\n",
       "      <td>-1.173567</td>\n",
       "      <td>-0.313327</td>\n",
       "      <td>-1.522841</td>\n",
       "      <td>1.143423</td>\n",
       "      <td>0.067268</td>\n",
       "    </tr>\n",
       "    <tr>\n",
       "      <th>...</th>\n",
       "      <td>...</td>\n",
       "      <td>...</td>\n",
       "      <td>...</td>\n",
       "      <td>...</td>\n",
       "      <td>...</td>\n",
       "      <td>...</td>\n",
       "      <td>...</td>\n",
       "      <td>...</td>\n",
       "      <td>...</td>\n",
       "      <td>...</td>\n",
       "      <td>...</td>\n",
       "      <td>...</td>\n",
       "      <td>...</td>\n",
       "      <td>...</td>\n",
       "      <td>...</td>\n",
       "      <td>...</td>\n",
       "      <td>...</td>\n",
       "      <td>...</td>\n",
       "      <td>...</td>\n",
       "      <td>...</td>\n",
       "      <td>...</td>\n",
       "    </tr>\n",
       "    <tr>\n",
       "      <th>107784</th>\n",
       "      <td>0.795744</td>\n",
       "      <td>4.591989</td>\n",
       "      <td>0.151450</td>\n",
       "      <td>1.722117</td>\n",
       "      <td>-0.035579</td>\n",
       "      <td>1.765417</td>\n",
       "      <td>2.223146</td>\n",
       "      <td>-1.931932</td>\n",
       "      <td>0.406181</td>\n",
       "      <td>-0.505296</td>\n",
       "      <td>...</td>\n",
       "      <td>-0.620626</td>\n",
       "      <td>0.744124</td>\n",
       "      <td>-0.209092</td>\n",
       "      <td>0.570013</td>\n",
       "      <td>0.246357</td>\n",
       "      <td>-0.170631</td>\n",
       "      <td>0.679205</td>\n",
       "      <td>-0.500576</td>\n",
       "      <td>-0.761212</td>\n",
       "      <td>-0.192160</td>\n",
       "    </tr>\n",
       "    <tr>\n",
       "      <th>107785</th>\n",
       "      <td>1.896823</td>\n",
       "      <td>5.775358</td>\n",
       "      <td>0.485030</td>\n",
       "      <td>-0.869662</td>\n",
       "      <td>-0.884315</td>\n",
       "      <td>-2.302044</td>\n",
       "      <td>1.103343</td>\n",
       "      <td>-1.904536</td>\n",
       "      <td>0.520604</td>\n",
       "      <td>-0.334575</td>\n",
       "      <td>...</td>\n",
       "      <td>-1.827227</td>\n",
       "      <td>-4.281559</td>\n",
       "      <td>1.924044</td>\n",
       "      <td>-10.729895</td>\n",
       "      <td>5.074488</td>\n",
       "      <td>2.306885</td>\n",
       "      <td>-3.317984</td>\n",
       "      <td>-3.771054</td>\n",
       "      <td>13.402671</td>\n",
       "      <td>-12.548796</td>\n",
       "    </tr>\n",
       "    <tr>\n",
       "      <th>107786</th>\n",
       "      <td>1.912238</td>\n",
       "      <td>5.787579</td>\n",
       "      <td>0.489174</td>\n",
       "      <td>-0.869199</td>\n",
       "      <td>-0.887623</td>\n",
       "      <td>-2.296144</td>\n",
       "      <td>1.099345</td>\n",
       "      <td>-1.908748</td>\n",
       "      <td>0.518198</td>\n",
       "      <td>-0.339004</td>\n",
       "      <td>...</td>\n",
       "      <td>-1.820215</td>\n",
       "      <td>-4.259055</td>\n",
       "      <td>1.984684</td>\n",
       "      <td>-10.718310</td>\n",
       "      <td>5.088883</td>\n",
       "      <td>2.284441</td>\n",
       "      <td>-3.322033</td>\n",
       "      <td>-3.810994</td>\n",
       "      <td>13.388713</td>\n",
       "      <td>-12.522657</td>\n",
       "    </tr>\n",
       "    <tr>\n",
       "      <th>107787</th>\n",
       "      <td>1.893593</td>\n",
       "      <td>5.774859</td>\n",
       "      <td>0.487575</td>\n",
       "      <td>-0.866509</td>\n",
       "      <td>-0.886739</td>\n",
       "      <td>-2.301986</td>\n",
       "      <td>1.101445</td>\n",
       "      <td>-1.903737</td>\n",
       "      <td>0.520225</td>\n",
       "      <td>-0.336346</td>\n",
       "      <td>...</td>\n",
       "      <td>-1.827197</td>\n",
       "      <td>-4.281800</td>\n",
       "      <td>1.924079</td>\n",
       "      <td>-10.729822</td>\n",
       "      <td>5.074615</td>\n",
       "      <td>2.306378</td>\n",
       "      <td>-3.317652</td>\n",
       "      <td>-3.771033</td>\n",
       "      <td>13.403220</td>\n",
       "      <td>-12.549286</td>\n",
       "    </tr>\n",
       "    <tr>\n",
       "      <th>107788</th>\n",
       "      <td>1.909008</td>\n",
       "      <td>5.787080</td>\n",
       "      <td>0.491719</td>\n",
       "      <td>-0.866046</td>\n",
       "      <td>-0.890047</td>\n",
       "      <td>-2.296086</td>\n",
       "      <td>1.097447</td>\n",
       "      <td>-1.907949</td>\n",
       "      <td>0.517819</td>\n",
       "      <td>-0.340775</td>\n",
       "      <td>...</td>\n",
       "      <td>-1.820185</td>\n",
       "      <td>-4.259295</td>\n",
       "      <td>1.984719</td>\n",
       "      <td>-10.718237</td>\n",
       "      <td>5.089010</td>\n",
       "      <td>2.283934</td>\n",
       "      <td>-3.321702</td>\n",
       "      <td>-3.810973</td>\n",
       "      <td>13.389261</td>\n",
       "      <td>-12.523147</td>\n",
       "    </tr>\n",
       "  </tbody>\n",
       "</table>\n",
       "<p>107789 rows × 500 columns</p>\n",
       "</div>"
      ],
      "text/plain": [
       "             0         1         2         3         4         5         6    \\\n",
       "0       4.083142 -2.699923 -0.015153 -1.073049 -1.698992  0.081905  0.289215   \n",
       "1      -3.553767 -1.207171 -0.559641  1.743536  0.821460 -2.689734  1.024026   \n",
       "2      -3.248876 -1.130413 -0.750756  1.492849  1.005562 -2.676629  1.163870   \n",
       "3      -3.439097 -1.145164 -0.576608  1.701459  0.840503 -2.663995  1.032621   \n",
       "4      -3.465435 -1.181675 -0.580093  1.738738  0.835809 -2.730906  1.057576   \n",
       "...          ...       ...       ...       ...       ...       ...       ...   \n",
       "107784  0.795744  4.591989  0.151450  1.722117 -0.035579  1.765417  2.223146   \n",
       "107785  1.896823  5.775358  0.485030 -0.869662 -0.884315 -2.302044  1.103343   \n",
       "107786  1.912238  5.787579  0.489174 -0.869199 -0.887623 -2.296144  1.099345   \n",
       "107787  1.893593  5.774859  0.487575 -0.866509 -0.886739 -2.301986  1.101445   \n",
       "107788  1.909008  5.787080  0.491719 -0.866046 -0.890047 -2.296086  1.097447   \n",
       "\n",
       "             7         8         9    ...       490       491       492  \\\n",
       "0       0.626350 -0.140687  0.495833  ...  4.341435  5.716461  2.608292   \n",
       "1       0.301180 -0.743493 -0.185633  ...  0.395986  1.629881 -0.255009   \n",
       "2       0.224807 -0.720549 -0.057274  ...  0.414657  1.716586 -0.075893   \n",
       "3       0.271061 -0.749051 -0.180772  ...  0.427292  1.734650  0.017318   \n",
       "4       0.273353 -0.729893 -0.172552  ...  0.341705  1.597016 -0.298198   \n",
       "...          ...       ...       ...  ...       ...       ...       ...   \n",
       "107784 -1.931932  0.406181 -0.505296  ... -0.620626  0.744124 -0.209092   \n",
       "107785 -1.904536  0.520604 -0.334575  ... -1.827227 -4.281559  1.924044   \n",
       "107786 -1.908748  0.518198 -0.339004  ... -1.820215 -4.259055  1.984684   \n",
       "107787 -1.903737  0.520225 -0.336346  ... -1.827197 -4.281800  1.924079   \n",
       "107788 -1.907949  0.517819 -0.340775  ... -1.820185 -4.259295  1.984719   \n",
       "\n",
       "              493       494       495       496       497        498  \\\n",
       "0        0.803596 -0.315669 -9.216349  3.300758  5.065272   4.207805   \n",
       "1       -2.226992 -1.358926 -1.176459 -0.333470 -1.567855   1.135157   \n",
       "2       -2.198079 -1.325907 -1.203229 -0.372151 -1.689298   1.049391   \n",
       "3       -2.175940 -1.295963 -1.270550 -0.356181 -1.747799   1.064844   \n",
       "4       -2.208974 -1.361397 -1.173567 -0.313327 -1.522841   1.143423   \n",
       "...           ...       ...       ...       ...       ...        ...   \n",
       "107784   0.570013  0.246357 -0.170631  0.679205 -0.500576  -0.761212   \n",
       "107785 -10.729895  5.074488  2.306885 -3.317984 -3.771054  13.402671   \n",
       "107786 -10.718310  5.088883  2.284441 -3.322033 -3.810994  13.388713   \n",
       "107787 -10.729822  5.074615  2.306378 -3.317652 -3.771033  13.403220   \n",
       "107788 -10.718237  5.089010  2.283934 -3.321702 -3.810973  13.389261   \n",
       "\n",
       "              499  \n",
       "0        2.355389  \n",
       "1        0.090995  \n",
       "2        0.208590  \n",
       "3        0.215443  \n",
       "4        0.067268  \n",
       "...           ...  \n",
       "107784  -0.192160  \n",
       "107785 -12.548796  \n",
       "107786 -12.522657  \n",
       "107787 -12.549286  \n",
       "107788 -12.523147  \n",
       "\n",
       "[107789 rows x 500 columns]"
      ]
     },
     "execution_count": 82,
     "metadata": {},
     "output_type": "execute_result"
    }
   ],
   "source": [
    "df_X_pca = pd.DataFrame(X_pca)\n",
    "df_X_pca"
   ]
  },
  {
   "cell_type": "markdown",
   "metadata": {
    "id": "CuoiCpXaqzMd"
   },
   "source": [
    "***Este nuevo set de datos no es igual al original. En este, las columnas no tienen el mismo significado que las columnas del set original. Aqui las columnas tienen valores que tratan de resumir la informacion del original. Por este motivo no pueden tener los mismos nombres. Sin embargo, podemos renombrar las columnas para mejorar su visualizacion.***"
   ]
  },
  {
   "cell_type": "code",
   "execution_count": 83,
   "metadata": {
    "colab": {
     "base_uri": "https://localhost:8080/",
     "height": 505
    },
    "id": "akGEgCKJqz0p",
    "outputId": "ed588461-02db-454d-e786-fe298f476965"
   },
   "outputs": [
    {
     "data": {
      "text/html": [
       "<div>\n",
       "<style scoped>\n",
       "    .dataframe tbody tr th:only-of-type {\n",
       "        vertical-align: middle;\n",
       "    }\n",
       "\n",
       "    .dataframe tbody tr th {\n",
       "        vertical-align: top;\n",
       "    }\n",
       "\n",
       "    .dataframe thead th {\n",
       "        text-align: right;\n",
       "    }\n",
       "</style>\n",
       "<table border=\"1\" class=\"dataframe\">\n",
       "  <thead>\n",
       "    <tr style=\"text-align: right;\">\n",
       "      <th></th>\n",
       "      <th>columna 0</th>\n",
       "      <th>columna 1</th>\n",
       "      <th>columna 2</th>\n",
       "      <th>columna 3</th>\n",
       "      <th>columna 4</th>\n",
       "      <th>columna 5</th>\n",
       "      <th>columna 6</th>\n",
       "      <th>columna 7</th>\n",
       "      <th>columna 8</th>\n",
       "      <th>columna 9</th>\n",
       "      <th>...</th>\n",
       "      <th>columna 490</th>\n",
       "      <th>columna 491</th>\n",
       "      <th>columna 492</th>\n",
       "      <th>columna 493</th>\n",
       "      <th>columna 494</th>\n",
       "      <th>columna 495</th>\n",
       "      <th>columna 496</th>\n",
       "      <th>columna 497</th>\n",
       "      <th>columna 498</th>\n",
       "      <th>columna 499</th>\n",
       "    </tr>\n",
       "  </thead>\n",
       "  <tbody>\n",
       "    <tr>\n",
       "      <th>0</th>\n",
       "      <td>4.083142</td>\n",
       "      <td>-2.699923</td>\n",
       "      <td>-0.015153</td>\n",
       "      <td>-1.073049</td>\n",
       "      <td>-1.698992</td>\n",
       "      <td>0.081905</td>\n",
       "      <td>0.289215</td>\n",
       "      <td>0.626350</td>\n",
       "      <td>-0.140687</td>\n",
       "      <td>0.495833</td>\n",
       "      <td>...</td>\n",
       "      <td>4.341435</td>\n",
       "      <td>5.716461</td>\n",
       "      <td>2.608292</td>\n",
       "      <td>0.803596</td>\n",
       "      <td>-0.315669</td>\n",
       "      <td>-9.216349</td>\n",
       "      <td>3.300758</td>\n",
       "      <td>5.065272</td>\n",
       "      <td>4.207805</td>\n",
       "      <td>2.355389</td>\n",
       "    </tr>\n",
       "    <tr>\n",
       "      <th>1</th>\n",
       "      <td>-3.553767</td>\n",
       "      <td>-1.207171</td>\n",
       "      <td>-0.559641</td>\n",
       "      <td>1.743536</td>\n",
       "      <td>0.821460</td>\n",
       "      <td>-2.689734</td>\n",
       "      <td>1.024026</td>\n",
       "      <td>0.301180</td>\n",
       "      <td>-0.743493</td>\n",
       "      <td>-0.185633</td>\n",
       "      <td>...</td>\n",
       "      <td>0.395986</td>\n",
       "      <td>1.629881</td>\n",
       "      <td>-0.255009</td>\n",
       "      <td>-2.226992</td>\n",
       "      <td>-1.358926</td>\n",
       "      <td>-1.176459</td>\n",
       "      <td>-0.333470</td>\n",
       "      <td>-1.567855</td>\n",
       "      <td>1.135157</td>\n",
       "      <td>0.090995</td>\n",
       "    </tr>\n",
       "    <tr>\n",
       "      <th>2</th>\n",
       "      <td>-3.248876</td>\n",
       "      <td>-1.130413</td>\n",
       "      <td>-0.750756</td>\n",
       "      <td>1.492849</td>\n",
       "      <td>1.005562</td>\n",
       "      <td>-2.676629</td>\n",
       "      <td>1.163870</td>\n",
       "      <td>0.224807</td>\n",
       "      <td>-0.720549</td>\n",
       "      <td>-0.057274</td>\n",
       "      <td>...</td>\n",
       "      <td>0.414657</td>\n",
       "      <td>1.716586</td>\n",
       "      <td>-0.075893</td>\n",
       "      <td>-2.198079</td>\n",
       "      <td>-1.325907</td>\n",
       "      <td>-1.203229</td>\n",
       "      <td>-0.372151</td>\n",
       "      <td>-1.689298</td>\n",
       "      <td>1.049391</td>\n",
       "      <td>0.208590</td>\n",
       "    </tr>\n",
       "    <tr>\n",
       "      <th>3</th>\n",
       "      <td>-3.439097</td>\n",
       "      <td>-1.145164</td>\n",
       "      <td>-0.576608</td>\n",
       "      <td>1.701459</td>\n",
       "      <td>0.840503</td>\n",
       "      <td>-2.663995</td>\n",
       "      <td>1.032621</td>\n",
       "      <td>0.271061</td>\n",
       "      <td>-0.749051</td>\n",
       "      <td>-0.180772</td>\n",
       "      <td>...</td>\n",
       "      <td>0.427292</td>\n",
       "      <td>1.734650</td>\n",
       "      <td>0.017318</td>\n",
       "      <td>-2.175940</td>\n",
       "      <td>-1.295963</td>\n",
       "      <td>-1.270550</td>\n",
       "      <td>-0.356181</td>\n",
       "      <td>-1.747799</td>\n",
       "      <td>1.064844</td>\n",
       "      <td>0.215443</td>\n",
       "    </tr>\n",
       "    <tr>\n",
       "      <th>4</th>\n",
       "      <td>-3.465435</td>\n",
       "      <td>-1.181675</td>\n",
       "      <td>-0.580093</td>\n",
       "      <td>1.738738</td>\n",
       "      <td>0.835809</td>\n",
       "      <td>-2.730906</td>\n",
       "      <td>1.057576</td>\n",
       "      <td>0.273353</td>\n",
       "      <td>-0.729893</td>\n",
       "      <td>-0.172552</td>\n",
       "      <td>...</td>\n",
       "      <td>0.341705</td>\n",
       "      <td>1.597016</td>\n",
       "      <td>-0.298198</td>\n",
       "      <td>-2.208974</td>\n",
       "      <td>-1.361397</td>\n",
       "      <td>-1.173567</td>\n",
       "      <td>-0.313327</td>\n",
       "      <td>-1.522841</td>\n",
       "      <td>1.143423</td>\n",
       "      <td>0.067268</td>\n",
       "    </tr>\n",
       "    <tr>\n",
       "      <th>...</th>\n",
       "      <td>...</td>\n",
       "      <td>...</td>\n",
       "      <td>...</td>\n",
       "      <td>...</td>\n",
       "      <td>...</td>\n",
       "      <td>...</td>\n",
       "      <td>...</td>\n",
       "      <td>...</td>\n",
       "      <td>...</td>\n",
       "      <td>...</td>\n",
       "      <td>...</td>\n",
       "      <td>...</td>\n",
       "      <td>...</td>\n",
       "      <td>...</td>\n",
       "      <td>...</td>\n",
       "      <td>...</td>\n",
       "      <td>...</td>\n",
       "      <td>...</td>\n",
       "      <td>...</td>\n",
       "      <td>...</td>\n",
       "      <td>...</td>\n",
       "    </tr>\n",
       "    <tr>\n",
       "      <th>107784</th>\n",
       "      <td>0.795744</td>\n",
       "      <td>4.591989</td>\n",
       "      <td>0.151450</td>\n",
       "      <td>1.722117</td>\n",
       "      <td>-0.035579</td>\n",
       "      <td>1.765417</td>\n",
       "      <td>2.223146</td>\n",
       "      <td>-1.931932</td>\n",
       "      <td>0.406181</td>\n",
       "      <td>-0.505296</td>\n",
       "      <td>...</td>\n",
       "      <td>-0.620626</td>\n",
       "      <td>0.744124</td>\n",
       "      <td>-0.209092</td>\n",
       "      <td>0.570013</td>\n",
       "      <td>0.246357</td>\n",
       "      <td>-0.170631</td>\n",
       "      <td>0.679205</td>\n",
       "      <td>-0.500576</td>\n",
       "      <td>-0.761212</td>\n",
       "      <td>-0.192160</td>\n",
       "    </tr>\n",
       "    <tr>\n",
       "      <th>107785</th>\n",
       "      <td>1.896823</td>\n",
       "      <td>5.775358</td>\n",
       "      <td>0.485030</td>\n",
       "      <td>-0.869662</td>\n",
       "      <td>-0.884315</td>\n",
       "      <td>-2.302044</td>\n",
       "      <td>1.103343</td>\n",
       "      <td>-1.904536</td>\n",
       "      <td>0.520604</td>\n",
       "      <td>-0.334575</td>\n",
       "      <td>...</td>\n",
       "      <td>-1.827227</td>\n",
       "      <td>-4.281559</td>\n",
       "      <td>1.924044</td>\n",
       "      <td>-10.729895</td>\n",
       "      <td>5.074488</td>\n",
       "      <td>2.306885</td>\n",
       "      <td>-3.317984</td>\n",
       "      <td>-3.771054</td>\n",
       "      <td>13.402671</td>\n",
       "      <td>-12.548796</td>\n",
       "    </tr>\n",
       "    <tr>\n",
       "      <th>107786</th>\n",
       "      <td>1.912238</td>\n",
       "      <td>5.787579</td>\n",
       "      <td>0.489174</td>\n",
       "      <td>-0.869199</td>\n",
       "      <td>-0.887623</td>\n",
       "      <td>-2.296144</td>\n",
       "      <td>1.099345</td>\n",
       "      <td>-1.908748</td>\n",
       "      <td>0.518198</td>\n",
       "      <td>-0.339004</td>\n",
       "      <td>...</td>\n",
       "      <td>-1.820215</td>\n",
       "      <td>-4.259055</td>\n",
       "      <td>1.984684</td>\n",
       "      <td>-10.718310</td>\n",
       "      <td>5.088883</td>\n",
       "      <td>2.284441</td>\n",
       "      <td>-3.322033</td>\n",
       "      <td>-3.810994</td>\n",
       "      <td>13.388713</td>\n",
       "      <td>-12.522657</td>\n",
       "    </tr>\n",
       "    <tr>\n",
       "      <th>107787</th>\n",
       "      <td>1.893593</td>\n",
       "      <td>5.774859</td>\n",
       "      <td>0.487575</td>\n",
       "      <td>-0.866509</td>\n",
       "      <td>-0.886739</td>\n",
       "      <td>-2.301986</td>\n",
       "      <td>1.101445</td>\n",
       "      <td>-1.903737</td>\n",
       "      <td>0.520225</td>\n",
       "      <td>-0.336346</td>\n",
       "      <td>...</td>\n",
       "      <td>-1.827197</td>\n",
       "      <td>-4.281800</td>\n",
       "      <td>1.924079</td>\n",
       "      <td>-10.729822</td>\n",
       "      <td>5.074615</td>\n",
       "      <td>2.306378</td>\n",
       "      <td>-3.317652</td>\n",
       "      <td>-3.771033</td>\n",
       "      <td>13.403220</td>\n",
       "      <td>-12.549286</td>\n",
       "    </tr>\n",
       "    <tr>\n",
       "      <th>107788</th>\n",
       "      <td>1.909008</td>\n",
       "      <td>5.787080</td>\n",
       "      <td>0.491719</td>\n",
       "      <td>-0.866046</td>\n",
       "      <td>-0.890047</td>\n",
       "      <td>-2.296086</td>\n",
       "      <td>1.097447</td>\n",
       "      <td>-1.907949</td>\n",
       "      <td>0.517819</td>\n",
       "      <td>-0.340775</td>\n",
       "      <td>...</td>\n",
       "      <td>-1.820185</td>\n",
       "      <td>-4.259295</td>\n",
       "      <td>1.984719</td>\n",
       "      <td>-10.718237</td>\n",
       "      <td>5.089010</td>\n",
       "      <td>2.283934</td>\n",
       "      <td>-3.321702</td>\n",
       "      <td>-3.810973</td>\n",
       "      <td>13.389261</td>\n",
       "      <td>-12.523147</td>\n",
       "    </tr>\n",
       "  </tbody>\n",
       "</table>\n",
       "<p>107789 rows × 500 columns</p>\n",
       "</div>"
      ],
      "text/plain": [
       "        columna 0  columna 1  columna 2  columna 3  columna 4  columna 5  \\\n",
       "0        4.083142  -2.699923  -0.015153  -1.073049  -1.698992   0.081905   \n",
       "1       -3.553767  -1.207171  -0.559641   1.743536   0.821460  -2.689734   \n",
       "2       -3.248876  -1.130413  -0.750756   1.492849   1.005562  -2.676629   \n",
       "3       -3.439097  -1.145164  -0.576608   1.701459   0.840503  -2.663995   \n",
       "4       -3.465435  -1.181675  -0.580093   1.738738   0.835809  -2.730906   \n",
       "...           ...        ...        ...        ...        ...        ...   \n",
       "107784   0.795744   4.591989   0.151450   1.722117  -0.035579   1.765417   \n",
       "107785   1.896823   5.775358   0.485030  -0.869662  -0.884315  -2.302044   \n",
       "107786   1.912238   5.787579   0.489174  -0.869199  -0.887623  -2.296144   \n",
       "107787   1.893593   5.774859   0.487575  -0.866509  -0.886739  -2.301986   \n",
       "107788   1.909008   5.787080   0.491719  -0.866046  -0.890047  -2.296086   \n",
       "\n",
       "        columna 6  columna 7  columna 8  columna 9  ...  columna 490  \\\n",
       "0        0.289215   0.626350  -0.140687   0.495833  ...     4.341435   \n",
       "1        1.024026   0.301180  -0.743493  -0.185633  ...     0.395986   \n",
       "2        1.163870   0.224807  -0.720549  -0.057274  ...     0.414657   \n",
       "3        1.032621   0.271061  -0.749051  -0.180772  ...     0.427292   \n",
       "4        1.057576   0.273353  -0.729893  -0.172552  ...     0.341705   \n",
       "...           ...        ...        ...        ...  ...          ...   \n",
       "107784   2.223146  -1.931932   0.406181  -0.505296  ...    -0.620626   \n",
       "107785   1.103343  -1.904536   0.520604  -0.334575  ...    -1.827227   \n",
       "107786   1.099345  -1.908748   0.518198  -0.339004  ...    -1.820215   \n",
       "107787   1.101445  -1.903737   0.520225  -0.336346  ...    -1.827197   \n",
       "107788   1.097447  -1.907949   0.517819  -0.340775  ...    -1.820185   \n",
       "\n",
       "        columna 491  columna 492  columna 493  columna 494  columna 495  \\\n",
       "0          5.716461     2.608292     0.803596    -0.315669    -9.216349   \n",
       "1          1.629881    -0.255009    -2.226992    -1.358926    -1.176459   \n",
       "2          1.716586    -0.075893    -2.198079    -1.325907    -1.203229   \n",
       "3          1.734650     0.017318    -2.175940    -1.295963    -1.270550   \n",
       "4          1.597016    -0.298198    -2.208974    -1.361397    -1.173567   \n",
       "...             ...          ...          ...          ...          ...   \n",
       "107784     0.744124    -0.209092     0.570013     0.246357    -0.170631   \n",
       "107785    -4.281559     1.924044   -10.729895     5.074488     2.306885   \n",
       "107786    -4.259055     1.984684   -10.718310     5.088883     2.284441   \n",
       "107787    -4.281800     1.924079   -10.729822     5.074615     2.306378   \n",
       "107788    -4.259295     1.984719   -10.718237     5.089010     2.283934   \n",
       "\n",
       "        columna 496  columna 497  columna 498  columna 499  \n",
       "0          3.300758     5.065272     4.207805     2.355389  \n",
       "1         -0.333470    -1.567855     1.135157     0.090995  \n",
       "2         -0.372151    -1.689298     1.049391     0.208590  \n",
       "3         -0.356181    -1.747799     1.064844     0.215443  \n",
       "4         -0.313327    -1.522841     1.143423     0.067268  \n",
       "...             ...          ...          ...          ...  \n",
       "107784     0.679205    -0.500576    -0.761212    -0.192160  \n",
       "107785    -3.317984    -3.771054    13.402671   -12.548796  \n",
       "107786    -3.322033    -3.810994    13.388713   -12.522657  \n",
       "107787    -3.317652    -3.771033    13.403220   -12.549286  \n",
       "107788    -3.321702    -3.810973    13.389261   -12.523147  \n",
       "\n",
       "[107789 rows x 500 columns]"
      ]
     },
     "execution_count": 83,
     "metadata": {},
     "output_type": "execute_result"
    }
   ],
   "source": [
    "new_columns = ['columna {}'.format(num) for num in range(len(df_X_pca.columns))]\n",
    "df_X_pca.columns = new_columns\n",
    "df_X_pca"
   ]
  },
  {
   "cell_type": "markdown",
   "metadata": {
    "id": "1U_LZOzWtQAk"
   },
   "source": [
    "***Recordamos que este set de datos constituye solo las variables predictorias, pero no contiene la varible \"target\", que es la que queremos predecir. Asi que procedemos a anexar dicha columna.***"
   ]
  },
  {
   "cell_type": "code",
   "execution_count": 84,
   "metadata": {
    "id": "EWPNudLZtirl"
   },
   "outputs": [],
   "source": [
    "df_X_pca['Cantidad'] = df_encoded['Cantidad']"
   ]
  },
  {
   "cell_type": "markdown",
   "metadata": {
    "id": "kXgRcre8sjcr"
   },
   "source": [
    "***Por ultimo, exportamos el set de datos final, que posteriormente sera utilizado para entrenar el modelo.***"
   ]
  },
  {
   "cell_type": "code",
   "execution_count": 85,
   "metadata": {
    "id": "DyZNYszIsJOD"
   },
   "outputs": [],
   "source": [
    "df_X_pca.to_csv('df_final.csv', index=False)"
   ]
  }
 ],
 "metadata": {
  "colab": {
   "provenance": []
  },
  "kernelspec": {
   "display_name": "Python 3 (ipykernel)",
   "language": "python",
   "name": "python3"
  },
  "language_info": {
   "codemirror_mode": {
    "name": "ipython",
    "version": 3
   },
   "file_extension": ".py",
   "mimetype": "text/x-python",
   "name": "python",
   "nbconvert_exporter": "python",
   "pygments_lexer": "ipython3",
   "version": "3.10.9"
  }
 },
 "nbformat": 4,
 "nbformat_minor": 1
}
